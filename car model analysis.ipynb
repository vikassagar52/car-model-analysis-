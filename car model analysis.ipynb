{
  "nbformat": 4,
  "nbformat_minor": 0,
  "metadata": {
    "colab": {
      "name": "sir1.ipynb",
      "provenance": []
    },
    "kernelspec": {
      "display_name": "Python 3",
      "name": "python3"
    },
    "language_info": {
      "name": "python"
    }
  },
  "cells": [
    {
      "cell_type": "code",
      "metadata": {
        "id": "KnfS1HXC8pm3",
        "colab": {
          "base_uri": "https://localhost:8080/"
        },
        "outputId": "e9da8dc9-79c8-4230-d7e4-8f87447c19c8"
      },
      "source": [
        "from google.colab import drive\n",
        "drive.mount('/content/drive')"
      ],
      "execution_count": 111,
      "outputs": [
        {
          "output_type": "stream",
          "name": "stdout",
          "text": [
            "Drive already mounted at /content/drive; to attempt to forcibly remount, call drive.mount(\"/content/drive\", force_remount=True).\n"
          ]
        }
      ]
    },
    {
      "cell_type": "code",
      "metadata": {
        "colab": {
          "base_uri": "https://localhost:8080/",
          "height": 35
        },
        "id": "DoHvnw5c8rSx",
        "outputId": "367f7e70-415d-4735-c992-3cd62758e703"
      },
      "source": [
        "import os \n",
        "os.getcwd()"
      ],
      "execution_count": 3,
      "outputs": [
        {
          "output_type": "execute_result",
          "data": {
            "application/vnd.google.colaboratory.intrinsic+json": {
              "type": "string"
            },
            "text/plain": [
              "'/content'"
            ]
          },
          "metadata": {},
          "execution_count": 3
        }
      ]
    },
    {
      "cell_type": "code",
      "metadata": {
        "colab": {
          "base_uri": "https://localhost:8080/",
          "height": 35
        },
        "id": "pMvhABll9L4s",
        "outputId": "454f68f2-0446-4d8b-c1a4-f8ea68ee3496"
      },
      "source": [
        "os.chdir(\"/content/drive/MyDrive/Sir\")\n",
        "os.getcwd()"
      ],
      "execution_count": 4,
      "outputs": [
        {
          "output_type": "execute_result",
          "data": {
            "application/vnd.google.colaboratory.intrinsic+json": {
              "type": "string"
            },
            "text/plain": [
              "'/content/drive/MyDrive/Sir'"
            ]
          },
          "metadata": {},
          "execution_count": 4
        }
      ]
    },
    {
      "cell_type": "code",
      "metadata": {
        "id": "jv3Hz-PaENAm"
      },
      "source": [
        ""
      ],
      "execution_count": null,
      "outputs": []
    },
    {
      "cell_type": "code",
      "metadata": {
        "id": "4Zsel99LENFe"
      },
      "source": [
        ""
      ],
      "execution_count": null,
      "outputs": []
    },
    {
      "cell_type": "markdown",
      "metadata": {
        "id": "J_mRm_gPENf5"
      },
      "source": [
        "** model creation **"
      ]
    },
    {
      "cell_type": "code",
      "metadata": {
        "id": "89ZptFSi9WOf"
      },
      "source": [
        "import pandas as pd\n",
        "import numpy as np\n",
        "import matplotlib.pyplot as plt\n",
        "import seaborn as sh\n",
        "from sklearn.preprocessing import StandardScaler\n",
        "from sklearn.model_selection import train_test_split,cross_val_score,GridSearchCV"
      ],
      "execution_count": 122,
      "outputs": []
    },
    {
      "cell_type": "code",
      "metadata": {
        "id": "dKdYprlM-S4r"
      },
      "source": [
        "data=pd.read_excel(\"/content/drive/MyDrive/Sir/1635238036200_TSDATA.xlsx\",skiprows=(1,2),header=[1])"
      ],
      "execution_count": 123,
      "outputs": []
    },
    {
      "cell_type": "code",
      "metadata": {
        "colab": {
          "base_uri": "https://localhost:8080/",
          "height": 206
        },
        "id": "czf2PpIyBKdA",
        "outputId": "b0ff3cfa-fa74-4627-d930-b18db49cb022"
      },
      "source": [
        "data.head()"
      ],
      "execution_count": 124,
      "outputs": [
        {
          "output_type": "execute_result",
          "data": {
            "text/html": [
              "<div>\n",
              "<style scoped>\n",
              "    .dataframe tbody tr th:only-of-type {\n",
              "        vertical-align: middle;\n",
              "    }\n",
              "\n",
              "    .dataframe tbody tr th {\n",
              "        vertical-align: top;\n",
              "    }\n",
              "\n",
              "    .dataframe thead th {\n",
              "        text-align: right;\n",
              "    }\n",
              "</style>\n",
              "<table border=\"1\" class=\"dataframe\">\n",
              "  <thead>\n",
              "    <tr style=\"text-align: right;\">\n",
              "      <th></th>\n",
              "      <th>Unnamed: 0</th>\n",
              "      <th>Unnamed: 1</th>\n",
              "      <th>Unnamed: 2</th>\n",
              "      <th>Unnamed: 3</th>\n",
              "      <th>Exp. Run</th>\n",
              "      <th>TTA</th>\n",
              "      <th>RPM</th>\n",
              "      <th>TRS</th>\n",
              "      <th>TF</th>\n",
              "      <th>TS</th>\n",
              "    </tr>\n",
              "  </thead>\n",
              "  <tbody>\n",
              "    <tr>\n",
              "      <th>0</th>\n",
              "      <td>NaN</td>\n",
              "      <td>NaN</td>\n",
              "      <td>NaN</td>\n",
              "      <td>NaN</td>\n",
              "      <td>1</td>\n",
              "      <td>1</td>\n",
              "      <td>900</td>\n",
              "      <td>50</td>\n",
              "      <td>SS</td>\n",
              "      <td>184.2</td>\n",
              "    </tr>\n",
              "    <tr>\n",
              "      <th>1</th>\n",
              "      <td>NaN</td>\n",
              "      <td>NaN</td>\n",
              "      <td>NaN</td>\n",
              "      <td>NaN</td>\n",
              "      <td>2</td>\n",
              "      <td>1</td>\n",
              "      <td>900</td>\n",
              "      <td>100</td>\n",
              "      <td>SO</td>\n",
              "      <td>170.1</td>\n",
              "    </tr>\n",
              "    <tr>\n",
              "      <th>2</th>\n",
              "      <td>NaN</td>\n",
              "      <td>NaN</td>\n",
              "      <td>NaN</td>\n",
              "      <td>NaN</td>\n",
              "      <td>3</td>\n",
              "      <td>1</td>\n",
              "      <td>900</td>\n",
              "      <td>150</td>\n",
              "      <td>ST</td>\n",
              "      <td>184.2</td>\n",
              "    </tr>\n",
              "    <tr>\n",
              "      <th>3</th>\n",
              "      <td>NaN</td>\n",
              "      <td>NaN</td>\n",
              "      <td>NaN</td>\n",
              "      <td>NaN</td>\n",
              "      <td>4</td>\n",
              "      <td>1</td>\n",
              "      <td>1200</td>\n",
              "      <td>50</td>\n",
              "      <td>SO</td>\n",
              "      <td>181.5</td>\n",
              "    </tr>\n",
              "    <tr>\n",
              "      <th>4</th>\n",
              "      <td>NaN</td>\n",
              "      <td>NaN</td>\n",
              "      <td>NaN</td>\n",
              "      <td>NaN</td>\n",
              "      <td>5</td>\n",
              "      <td>1</td>\n",
              "      <td>1200</td>\n",
              "      <td>100</td>\n",
              "      <td>ST</td>\n",
              "      <td>180.1</td>\n",
              "    </tr>\n",
              "  </tbody>\n",
              "</table>\n",
              "</div>"
            ],
            "text/plain": [
              "   Unnamed: 0  Unnamed: 1  Unnamed: 2  Unnamed: 3  ...   RPM  TRS  TF     TS\n",
              "0         NaN         NaN         NaN         NaN  ...   900   50  SS  184.2\n",
              "1         NaN         NaN         NaN         NaN  ...   900  100  SO  170.1\n",
              "2         NaN         NaN         NaN         NaN  ...   900  150  ST  184.2\n",
              "3         NaN         NaN         NaN         NaN  ...  1200   50  SO  181.5\n",
              "4         NaN         NaN         NaN         NaN  ...  1200  100  ST  180.1\n",
              "\n",
              "[5 rows x 10 columns]"
            ]
          },
          "metadata": {},
          "execution_count": 124
        }
      ]
    },
    {
      "cell_type": "code",
      "metadata": {
        "id": "CvV0q-Cx-kWj"
      },
      "source": [
        "data.drop(columns=[\"Unnamed: 0\",\"Unnamed: 1\",\"Unnamed: 2\",\"Unnamed: 3\",\"Exp. Run\"],inplace=True)"
      ],
      "execution_count": 125,
      "outputs": []
    },
    {
      "cell_type": "code",
      "metadata": {
        "colab": {
          "base_uri": "https://localhost:8080/",
          "height": 130
        },
        "id": "wmXqCKZC-lyD",
        "outputId": "4960d3b1-e7e7-44e9-8da4-60ae57b850e0"
      },
      "source": [
        "|data.head()"
      ],
      "execution_count": 126,
      "outputs": [
        {
          "output_type": "error",
          "ename": "SyntaxError",
          "evalue": "ignored",
          "traceback": [
            "\u001b[0;36m  File \u001b[0;32m\"<ipython-input-126-5f420fe8d073>\"\u001b[0;36m, line \u001b[0;32m1\u001b[0m\n\u001b[0;31m    |data.head()\u001b[0m\n\u001b[0m    ^\u001b[0m\n\u001b[0;31mSyntaxError\u001b[0m\u001b[0;31m:\u001b[0m invalid syntax\n"
          ]
        }
      ]
    },
    {
      "cell_type": "code",
      "metadata": {
        "id": "km7h-HC7Af9U"
      },
      "source": [
        "data.shape"
      ],
      "execution_count": null,
      "outputs": []
    },
    {
      "cell_type": "code",
      "metadata": {
        "id": "I9k6MasiBfZI",
        "colab": {
          "base_uri": "https://localhost:8080/",
          "height": 265
        },
        "outputId": "955c0918-21e6-4763-c047-f8cabe865d6b"
      },
      "source": [
        "data[\"TF\"].value_counts().plot(kind=\"pie\")    #cheacking the balancing of data. here our data is balanced "
      ],
      "execution_count": 127,
      "outputs": [
        {
          "output_type": "execute_result",
          "data": {
            "text/plain": [
              "<matplotlib.axes._subplots.AxesSubplot at 0x7f90fec19090>"
            ]
          },
          "metadata": {},
          "execution_count": 127
        },
        {
          "output_type": "display_data",
          "data": {
            "image/png": "[encoded data removed]",
            "text/plain": [
              "<Figure size 432x288 with 1 Axes>"
            ]
          },
          "metadata": {}
        }
      ]
    },
    {
      "cell_type": "code",
      "metadata": {
        "id": "lSOll8zNB5zH"
      },
      "source": [
        "data[\"TF\"]=data[\"TF\"].replace([\"SS\",\"SO\",\"ST\"],[1,2,3])    # converting the text data to numerical data on the given reference ss->1,so->2,st->3"
      ],
      "execution_count": 128,
      "outputs": []
    },
    {
      "cell_type": "code",
      "metadata": {
        "id": "qUIzb2ZVBbVk",
        "colab": {
          "base_uri": "https://localhost:8080/",
          "height": 206
        },
        "outputId": "f9b459f1-540d-48e7-d23a-72ecb87bbd1e"
      },
      "source": [
        "data.head()"
      ],
      "execution_count": 129,
      "outputs": [
        {
          "output_type": "execute_result",
          "data": {
            "text/html": [
              "<div>\n",
              "<style scoped>\n",
              "    .dataframe tbody tr th:only-of-type {\n",
              "        vertical-align: middle;\n",
              "    }\n",
              "\n",
              "    .dataframe tbody tr th {\n",
              "        vertical-align: top;\n",
              "    }\n",
              "\n",
              "    .dataframe thead th {\n",
              "        text-align: right;\n",
              "    }\n",
              "</style>\n",
              "<table border=\"1\" class=\"dataframe\">\n",
              "  <thead>\n",
              "    <tr style=\"text-align: right;\">\n",
              "      <th></th>\n",
              "      <th>TTA</th>\n",
              "      <th>RPM</th>\n",
              "      <th>TRS</th>\n",
              "      <th>TF</th>\n",
              "      <th>TS</th>\n",
              "    </tr>\n",
              "  </thead>\n",
              "  <tbody>\n",
              "    <tr>\n",
              "      <th>0</th>\n",
              "      <td>1</td>\n",
              "      <td>900</td>\n",
              "      <td>50</td>\n",
              "      <td>1</td>\n",
              "      <td>184.2</td>\n",
              "    </tr>\n",
              "    <tr>\n",
              "      <th>1</th>\n",
              "      <td>1</td>\n",
              "      <td>900</td>\n",
              "      <td>100</td>\n",
              "      <td>2</td>\n",
              "      <td>170.1</td>\n",
              "    </tr>\n",
              "    <tr>\n",
              "      <th>2</th>\n",
              "      <td>1</td>\n",
              "      <td>900</td>\n",
              "      <td>150</td>\n",
              "      <td>3</td>\n",
              "      <td>184.2</td>\n",
              "    </tr>\n",
              "    <tr>\n",
              "      <th>3</th>\n",
              "      <td>1</td>\n",
              "      <td>1200</td>\n",
              "      <td>50</td>\n",
              "      <td>2</td>\n",
              "      <td>181.5</td>\n",
              "    </tr>\n",
              "    <tr>\n",
              "      <th>4</th>\n",
              "      <td>1</td>\n",
              "      <td>1200</td>\n",
              "      <td>100</td>\n",
              "      <td>3</td>\n",
              "      <td>180.1</td>\n",
              "    </tr>\n",
              "  </tbody>\n",
              "</table>\n",
              "</div>"
            ],
            "text/plain": [
              "   TTA   RPM  TRS  TF     TS\n",
              "0    1   900   50   1  184.2\n",
              "1    1   900  100   2  170.1\n",
              "2    1   900  150   3  184.2\n",
              "3    1  1200   50   2  181.5\n",
              "4    1  1200  100   3  180.1"
            ]
          },
          "metadata": {},
          "execution_count": 129
        }
      ]
    },
    {
      "cell_type": "code",
      "metadata": {
        "id": "Jl_k1WcLXsMw"
      },
      "source": [
        ""
      ],
      "execution_count": 129,
      "outputs": []
    },
    {
      "cell_type": "code",
      "metadata": {
        "id": "2RHo2JEfCQYX",
        "colab": {
          "base_uri": "https://localhost:8080/",
          "height": 458
        },
        "outputId": "2e38f387-e36e-4a89-a146-afe0be22cd91"
      },
      "source": [
        "sh.heatmap(data.corr()) # checking the relation between each columns using heatmap\n",
        "data.corr()"
      ],
      "execution_count": 130,
      "outputs": [
        {
          "output_type": "execute_result",
          "data": {
            "text/html": [
              "<div>\n",
              "<style scoped>\n",
              "    .dataframe tbody tr th:only-of-type {\n",
              "        vertical-align: middle;\n",
              "    }\n",
              "\n",
              "    .dataframe tbody tr th {\n",
              "        vertical-align: top;\n",
              "    }\n",
              "\n",
              "    .dataframe thead th {\n",
              "        text-align: right;\n",
              "    }\n",
              "</style>\n",
              "<table border=\"1\" class=\"dataframe\">\n",
              "  <thead>\n",
              "    <tr style=\"text-align: right;\">\n",
              "      <th></th>\n",
              "      <th>TTA</th>\n",
              "      <th>RPM</th>\n",
              "      <th>TRS</th>\n",
              "      <th>TF</th>\n",
              "      <th>TS</th>\n",
              "    </tr>\n",
              "  </thead>\n",
              "  <tbody>\n",
              "    <tr>\n",
              "      <th>TTA</th>\n",
              "      <td>1.00000</td>\n",
              "      <td>0.0000</td>\n",
              "      <td>0.000000</td>\n",
              "      <td>0.000000</td>\n",
              "      <td>0.555160</td>\n",
              "    </tr>\n",
              "    <tr>\n",
              "      <th>RPM</th>\n",
              "      <td>0.00000</td>\n",
              "      <td>1.0000</td>\n",
              "      <td>0.000000</td>\n",
              "      <td>0.000000</td>\n",
              "      <td>-0.237200</td>\n",
              "    </tr>\n",
              "    <tr>\n",
              "      <th>TRS</th>\n",
              "      <td>0.00000</td>\n",
              "      <td>0.0000</td>\n",
              "      <td>1.000000</td>\n",
              "      <td>0.000000</td>\n",
              "      <td>-0.133406</td>\n",
              "    </tr>\n",
              "    <tr>\n",
              "      <th>TF</th>\n",
              "      <td>0.00000</td>\n",
              "      <td>0.0000</td>\n",
              "      <td>0.000000</td>\n",
              "      <td>1.000000</td>\n",
              "      <td>0.132808</td>\n",
              "    </tr>\n",
              "    <tr>\n",
              "      <th>TS</th>\n",
              "      <td>0.55516</td>\n",
              "      <td>-0.2372</td>\n",
              "      <td>-0.133406</td>\n",
              "      <td>0.132808</td>\n",
              "      <td>1.000000</td>\n",
              "    </tr>\n",
              "  </tbody>\n",
              "</table>\n",
              "</div>"
            ],
            "text/plain": [
              "         TTA     RPM       TRS        TF        TS\n",
              "TTA  1.00000  0.0000  0.000000  0.000000  0.555160\n",
              "RPM  0.00000  1.0000  0.000000  0.000000 -0.237200\n",
              "TRS  0.00000  0.0000  1.000000  0.000000 -0.133406\n",
              "TF   0.00000  0.0000  0.000000  1.000000  0.132808\n",
              "TS   0.55516 -0.2372 -0.133406  0.132808  1.000000"
            ]
          },
          "metadata": {},
          "execution_count": 130
        },
        {
          "output_type": "display_data",
          "data": {
            "image/png": "[encoded data removed]",
            "text/plain": [
              "<Figure size 432x288 with 2 Axes>"
            ]
          },
          "metadata": {
            "needs_background": "light"
          }
        }
      ]
    },
    {
      "cell_type": "code",
      "metadata": {
        "id": "ToCmtlnuCfIX"
      },
      "source": [
        "# there is no case of co-linearity"
      ],
      "execution_count": 131,
      "outputs": []
    },
    {
      "cell_type": "code",
      "metadata": {
        "id": "cpcvhgJDRPKv",
        "colab": {
          "base_uri": "https://localhost:8080/",
          "height": 920
        },
        "outputId": "89998a08-7ff9-4f2f-fddd-a3f85e4e014b"
      },
      "source": [
        "sh.pairplot(data)  # pairplot to analyse the complete data together"
      ],
      "execution_count": 132,
      "outputs": [
        {
          "output_type": "execute_result",
          "data": {
            "text/plain": [
              "<seaborn.axisgrid.PairGrid at 0x7f90ff2576d0>"
            ]
          },
          "metadata": {},
          "execution_count": 132
        },
        {
          "output_type": "display_data",
          "data": {
            "image/png": "[encoded data removed]",
            "text/plain": [
              "<Figure size 900x900 with 30 Axes>"
            ]
          },
          "metadata": {
            "needs_background": "light"
          }
        }
      ]
    },
    {
      "cell_type": "code",
      "metadata": {
        "id": "qat8egjURR4u",
        "colab": {
          "base_uri": "https://localhost:8080/",
          "height": 206
        },
        "outputId": "4d04e9e8-81a1-4fab-ba19-45d3c477162e"
      },
      "source": [
        "data.head()"
      ],
      "execution_count": 133,
      "outputs": [
        {
          "output_type": "execute_result",
          "data": {
            "text/html": [
              "<div>\n",
              "<style scoped>\n",
              "    .dataframe tbody tr th:only-of-type {\n",
              "        vertical-align: middle;\n",
              "    }\n",
              "\n",
              "    .dataframe tbody tr th {\n",
              "        vertical-align: top;\n",
              "    }\n",
              "\n",
              "    .dataframe thead th {\n",
              "        text-align: right;\n",
              "    }\n",
              "</style>\n",
              "<table border=\"1\" class=\"dataframe\">\n",
              "  <thead>\n",
              "    <tr style=\"text-align: right;\">\n",
              "      <th></th>\n",
              "      <th>TTA</th>\n",
              "      <th>RPM</th>\n",
              "      <th>TRS</th>\n",
              "      <th>TF</th>\n",
              "      <th>TS</th>\n",
              "    </tr>\n",
              "  </thead>\n",
              "  <tbody>\n",
              "    <tr>\n",
              "      <th>0</th>\n",
              "      <td>1</td>\n",
              "      <td>900</td>\n",
              "      <td>50</td>\n",
              "      <td>1</td>\n",
              "      <td>184.2</td>\n",
              "    </tr>\n",
              "    <tr>\n",
              "      <th>1</th>\n",
              "      <td>1</td>\n",
              "      <td>900</td>\n",
              "      <td>100</td>\n",
              "      <td>2</td>\n",
              "      <td>170.1</td>\n",
              "    </tr>\n",
              "    <tr>\n",
              "      <th>2</th>\n",
              "      <td>1</td>\n",
              "      <td>900</td>\n",
              "      <td>150</td>\n",
              "      <td>3</td>\n",
              "      <td>184.2</td>\n",
              "    </tr>\n",
              "    <tr>\n",
              "      <th>3</th>\n",
              "      <td>1</td>\n",
              "      <td>1200</td>\n",
              "      <td>50</td>\n",
              "      <td>2</td>\n",
              "      <td>181.5</td>\n",
              "    </tr>\n",
              "    <tr>\n",
              "      <th>4</th>\n",
              "      <td>1</td>\n",
              "      <td>1200</td>\n",
              "      <td>100</td>\n",
              "      <td>3</td>\n",
              "      <td>180.1</td>\n",
              "    </tr>\n",
              "  </tbody>\n",
              "</table>\n",
              "</div>"
            ],
            "text/plain": [
              "   TTA   RPM  TRS  TF     TS\n",
              "0    1   900   50   1  184.2\n",
              "1    1   900  100   2  170.1\n",
              "2    1   900  150   3  184.2\n",
              "3    1  1200   50   2  181.5\n",
              "4    1  1200  100   3  180.1"
            ]
          },
          "metadata": {},
          "execution_count": 133
        }
      ]
    },
    {
      "cell_type": "code",
      "metadata": {
        "colab": {
          "base_uri": "https://localhost:8080/"
        },
        "id": "YTqTCf5uSujN",
        "outputId": "7a478037-cad5-4737-beca-ad4fa6c4adda"
      },
      "source": [
        "\n",
        "data.isnull().sum()  # checking the number of empty."
      ],
      "execution_count": 134,
      "outputs": [
        {
          "output_type": "execute_result",
          "data": {
            "text/plain": [
              "TTA    0\n",
              "RPM    0\n",
              "TRS    0\n",
              "TF     0\n",
              "TS     0\n",
              "dtype: int64"
            ]
          },
          "metadata": {},
          "execution_count": 134
        }
      ]
    },
    {
      "cell_type": "code",
      "metadata": {
        "id": "PXe11o-KS5Qa"
      },
      "source": [
        "#===================== ignore it ==========================================#\n",
        "#from sklearn.preprocessing import MinMaxScaler\n",
        "#s2=MinMaxScaler()\n",
        "#data[\"RPM\"]=s2.fit_transform(np.array(data[\"RPM\"]).reshape(-1,1))\n",
        "#data[\"TRS\"]=s2.fit_transform(np.array(data[\"TRS\"]).reshape(-1,1))\n"
      ],
      "execution_count": 135,
      "outputs": []
    },
    {
      "cell_type": "code",
      "metadata": {
        "id": "9RYb7PE_Rm9Q"
      },
      "source": [
        "sc1=StandardScaler()                                     #scaling the data using the standard scaler\n",
        "sc2=StandardScaler()\n",
        "sc3=StandardScaler()\n",
        "data[\"RPM\"]=sc1.fit_transform(np.array(data[\"RPM\"]).reshape(-1,1))\n",
        "data[\"TRS\"]=sc2.fit_transform(np.array(data[\"TRS\"]).reshape(-1,1))\n",
        "\n",
        "data[\"TS\"]=sc3.fit_transform(np.array(data[\"TS\"]).reshape(-1,1))"
      ],
      "execution_count": 136,
      "outputs": []
    },
    {
      "cell_type": "code",
      "metadata": {
        "colab": {
          "base_uri": "https://localhost:8080/",
          "height": 206
        },
        "id": "DE8y4_FRSGjG",
        "outputId": "3db00a55-158a-4a2e-e45b-53b93a70d576"
      },
      "source": [
        "data.head()"
      ],
      "execution_count": 137,
      "outputs": [
        {
          "output_type": "execute_result",
          "data": {
            "text/html": [
              "<div>\n",
              "<style scoped>\n",
              "    .dataframe tbody tr th:only-of-type {\n",
              "        vertical-align: middle;\n",
              "    }\n",
              "\n",
              "    .dataframe tbody tr th {\n",
              "        vertical-align: top;\n",
              "    }\n",
              "\n",
              "    .dataframe thead th {\n",
              "        text-align: right;\n",
              "    }\n",
              "</style>\n",
              "<table border=\"1\" class=\"dataframe\">\n",
              "  <thead>\n",
              "    <tr style=\"text-align: right;\">\n",
              "      <th></th>\n",
              "      <th>TTA</th>\n",
              "      <th>RPM</th>\n",
              "      <th>TRS</th>\n",
              "      <th>TF</th>\n",
              "      <th>TS</th>\n",
              "    </tr>\n",
              "  </thead>\n",
              "  <tbody>\n",
              "    <tr>\n",
              "      <th>0</th>\n",
              "      <td>1</td>\n",
              "      <td>-1.069045</td>\n",
              "      <td>-1.224745</td>\n",
              "      <td>1</td>\n",
              "      <td>0.406395</td>\n",
              "    </tr>\n",
              "    <tr>\n",
              "      <th>1</th>\n",
              "      <td>1</td>\n",
              "      <td>-1.069045</td>\n",
              "      <td>0.000000</td>\n",
              "      <td>2</td>\n",
              "      <td>-1.453154</td>\n",
              "    </tr>\n",
              "    <tr>\n",
              "      <th>2</th>\n",
              "      <td>1</td>\n",
              "      <td>-1.069045</td>\n",
              "      <td>1.224745</td>\n",
              "      <td>3</td>\n",
              "      <td>0.406395</td>\n",
              "    </tr>\n",
              "    <tr>\n",
              "      <th>3</th>\n",
              "      <td>1</td>\n",
              "      <td>-0.267261</td>\n",
              "      <td>-1.224745</td>\n",
              "      <td>2</td>\n",
              "      <td>0.050311</td>\n",
              "    </tr>\n",
              "    <tr>\n",
              "      <th>4</th>\n",
              "      <td>1</td>\n",
              "      <td>-0.267261</td>\n",
              "      <td>0.000000</td>\n",
              "      <td>3</td>\n",
              "      <td>-0.134325</td>\n",
              "    </tr>\n",
              "  </tbody>\n",
              "</table>\n",
              "</div>"
            ],
            "text/plain": [
              "   TTA       RPM       TRS  TF        TS\n",
              "0    1 -1.069045 -1.224745   1  0.406395\n",
              "1    1 -1.069045  0.000000   2 -1.453154\n",
              "2    1 -1.069045  1.224745   3  0.406395\n",
              "3    1 -0.267261 -1.224745   2  0.050311\n",
              "4    1 -0.267261  0.000000   3 -0.134325"
            ]
          },
          "metadata": {},
          "execution_count": 137
        }
      ]
    },
    {
      "cell_type": "code",
      "metadata": {
        "colab": {
          "base_uri": "https://localhost:8080/"
        },
        "id": "2jLgKoEYUI0f",
        "outputId": "0f55388c-8361-48eb-a7cb-331d0a30a663"
      },
      "source": [
        "data.info()           # taking the information of the scaled dataset"
      ],
      "execution_count": 138,
      "outputs": [
        {
          "output_type": "stream",
          "name": "stdout",
          "text": [
            "<class 'pandas.core.frame.DataFrame'>\n",
            "RangeIndex: 27 entries, 0 to 26\n",
            "Data columns (total 5 columns):\n",
            " #   Column  Non-Null Count  Dtype  \n",
            "---  ------  --------------  -----  \n",
            " 0   TTA     27 non-null     int64  \n",
            " 1   RPM     27 non-null     float64\n",
            " 2   TRS     27 non-null     float64\n",
            " 3   TF      27 non-null     int64  \n",
            " 4   TS      27 non-null     float64\n",
            "dtypes: float64(3), int64(2)\n",
            "memory usage: 1.2 KB\n"
          ]
        }
      ]
    },
    {
      "cell_type": "code",
      "metadata": {
        "colab": {
          "base_uri": "https://localhost:8080/",
          "height": 300
        },
        "id": "lMpwtSRAUQX-",
        "outputId": "863cb3a5-60f2-4520-c377-a3b868064bb2"
      },
      "source": [
        "round(data.describe())     # Statical analysis"
      ],
      "execution_count": 139,
      "outputs": [
        {
          "output_type": "execute_result",
          "data": {
            "text/html": [
              "<div>\n",
              "<style scoped>\n",
              "    .dataframe tbody tr th:only-of-type {\n",
              "        vertical-align: middle;\n",
              "    }\n",
              "\n",
              "    .dataframe tbody tr th {\n",
              "        vertical-align: top;\n",
              "    }\n",
              "\n",
              "    .dataframe thead th {\n",
              "        text-align: right;\n",
              "    }\n",
              "</style>\n",
              "<table border=\"1\" class=\"dataframe\">\n",
              "  <thead>\n",
              "    <tr style=\"text-align: right;\">\n",
              "      <th></th>\n",
              "      <th>TTA</th>\n",
              "      <th>RPM</th>\n",
              "      <th>TRS</th>\n",
              "      <th>TF</th>\n",
              "      <th>TS</th>\n",
              "    </tr>\n",
              "  </thead>\n",
              "  <tbody>\n",
              "    <tr>\n",
              "      <th>count</th>\n",
              "      <td>27.0</td>\n",
              "      <td>27.0</td>\n",
              "      <td>27.0</td>\n",
              "      <td>27.0</td>\n",
              "      <td>27.0</td>\n",
              "    </tr>\n",
              "    <tr>\n",
              "      <th>mean</th>\n",
              "      <td>2.0</td>\n",
              "      <td>0.0</td>\n",
              "      <td>0.0</td>\n",
              "      <td>2.0</td>\n",
              "      <td>-0.0</td>\n",
              "    </tr>\n",
              "    <tr>\n",
              "      <th>std</th>\n",
              "      <td>1.0</td>\n",
              "      <td>1.0</td>\n",
              "      <td>1.0</td>\n",
              "      <td>1.0</td>\n",
              "      <td>1.0</td>\n",
              "    </tr>\n",
              "    <tr>\n",
              "      <th>min</th>\n",
              "      <td>1.0</td>\n",
              "      <td>-1.0</td>\n",
              "      <td>-1.0</td>\n",
              "      <td>1.0</td>\n",
              "      <td>-3.0</td>\n",
              "    </tr>\n",
              "    <tr>\n",
              "      <th>25%</th>\n",
              "      <td>1.0</td>\n",
              "      <td>-1.0</td>\n",
              "      <td>-1.0</td>\n",
              "      <td>1.0</td>\n",
              "      <td>-1.0</td>\n",
              "    </tr>\n",
              "    <tr>\n",
              "      <th>50%</th>\n",
              "      <td>2.0</td>\n",
              "      <td>-0.0</td>\n",
              "      <td>0.0</td>\n",
              "      <td>2.0</td>\n",
              "      <td>0.0</td>\n",
              "    </tr>\n",
              "    <tr>\n",
              "      <th>75%</th>\n",
              "      <td>3.0</td>\n",
              "      <td>1.0</td>\n",
              "      <td>1.0</td>\n",
              "      <td>3.0</td>\n",
              "      <td>0.0</td>\n",
              "    </tr>\n",
              "    <tr>\n",
              "      <th>max</th>\n",
              "      <td>3.0</td>\n",
              "      <td>1.0</td>\n",
              "      <td>1.0</td>\n",
              "      <td>3.0</td>\n",
              "      <td>2.0</td>\n",
              "    </tr>\n",
              "  </tbody>\n",
              "</table>\n",
              "</div>"
            ],
            "text/plain": [
              "        TTA   RPM   TRS    TF    TS\n",
              "count  27.0  27.0  27.0  27.0  27.0\n",
              "mean    2.0   0.0   0.0   2.0  -0.0\n",
              "std     1.0   1.0   1.0   1.0   1.0\n",
              "min     1.0  -1.0  -1.0   1.0  -3.0\n",
              "25%     1.0  -1.0  -1.0   1.0  -1.0\n",
              "50%     2.0  -0.0   0.0   2.0   0.0\n",
              "75%     3.0   1.0   1.0   3.0   0.0\n",
              "max     3.0   1.0   1.0   3.0   2.0"
            ]
          },
          "metadata": {},
          "execution_count": 139
        }
      ]
    },
    {
      "cell_type": "code",
      "metadata": {
        "id": "VD9Gj6YPUWIh"
      },
      "source": [
        "x=data.iloc[:,:-1]\n",
        "y=data.iloc[:,-1]"
      ],
      "execution_count": 140,
      "outputs": []
    },
    {
      "cell_type": "markdown",
      "metadata": {
        "id": "NPRcoNcsGX0K"
      },
      "source": [
        "**Creating linear model on the given dataset using Linear regression**"
      ]
    },
    {
      "cell_type": "code",
      "metadata": {
        "id": "RpIjewfKUpoJ"
      },
      "source": [
        "from sklearn.linear_model import LinearRegression,LogisticRegression"
      ],
      "execution_count": 141,
      "outputs": []
    },
    {
      "cell_type": "code",
      "metadata": {
        "colab": {
          "base_uri": "https://localhost:8080/"
        },
        "id": "q9lalxKXUqX_",
        "outputId": "5e581954-cb1e-419a-8d1e-cba495989214"
      },
      "source": [
        "m1=LinearRegression()     # creating the object of linear regression and fitting the data\n",
        "m1.fit(x,y)"
      ],
      "execution_count": 142,
      "outputs": [
        {
          "output_type": "execute_result",
          "data": {
            "text/plain": [
              "LinearRegression()"
            ]
          },
          "metadata": {},
          "execution_count": 142
        }
      ]
    },
    {
      "cell_type": "code",
      "metadata": {
        "id": "HlhaV9WxVxTw"
      },
      "source": [
        "p1=m1.predict(x)        # prediction on traing dataset"
      ],
      "execution_count": 143,
      "outputs": []
    },
    {
      "cell_type": "code",
      "metadata": {
        "id": "ZQLhH6wnV3ru"
      },
      "source": [
        "from sklearn.metrics import accuracy_score,classification_report,r2_score,mean_squared_error"
      ],
      "execution_count": 144,
      "outputs": []
    },
    {
      "cell_type": "code",
      "metadata": {
        "colab": {
          "base_uri": "https://localhost:8080/"
        },
        "id": "IuRKovFFWASn",
        "outputId": "3e47bcd2-b001-4b69-8ae6-b886940dc6c6"
      },
      "source": [
        "r2_score(y,p1)  # calculating the r2 score of linear regression"
      ],
      "execution_count": 145,
      "outputs": [
        {
          "output_type": "execute_result",
          "data": {
            "text/plain": [
              "0.3999017356959489"
            ]
          },
          "metadata": {},
          "execution_count": 145
        }
      ]
    },
    {
      "cell_type": "code",
      "metadata": {
        "colab": {
          "base_uri": "https://localhost:8080/"
        },
        "id": "qv5ic2TB7QZc",
        "outputId": "fbb64f17-f844-49a8-98a1-db382bcd9103"
      },
      "source": [
        "mean_squared_error(y,p1)  # calculating the mean_square error "
      ],
      "execution_count": 146,
      "outputs": [
        {
          "output_type": "execute_result",
          "data": {
            "text/plain": [
              "0.600098264304051"
            ]
          },
          "metadata": {},
          "execution_count": 146
        }
      ]
    },
    {
      "cell_type": "markdown",
      "metadata": {
        "id": "-ieeVhvEHke5"
      },
      "source": [
        "**creating the k nearest neighabours Regressor**"
      ]
    },
    {
      "cell_type": "code",
      "metadata": {
        "colab": {
          "base_uri": "https://localhost:8080/"
        },
        "id": "Xws4pxF8WFwG",
        "outputId": "50358f77-ee9b-4664-a3bc-8f955b66be07"
      },
      "source": [
        "from sklearn.neighbors import KNeighborsRegressor\n",
        "m2=KNeighborsRegressor()     # creating the object of k neghabour regressior\n",
        "m2.fit(x,y)"
      ],
      "execution_count": 147,
      "outputs": [
        {
          "output_type": "execute_result",
          "data": {
            "text/plain": [
              "KNeighborsRegressor()"
            ]
          },
          "metadata": {},
          "execution_count": 147
        }
      ]
    },
    {
      "cell_type": "code",
      "metadata": {
        "id": "QaHlQmJmbB3E"
      },
      "source": [
        "p2=m2.predict(x)    # predicting  on training dataset using k neghabour regressor"
      ],
      "execution_count": 148,
      "outputs": []
    },
    {
      "cell_type": "code",
      "metadata": {
        "colab": {
          "base_uri": "https://localhost:8080/"
        },
        "id": "uhHqP9Y9z6SK",
        "outputId": "d472e026-eeee-4ac2-c6da-5e23b26c8d17"
      },
      "source": [
        "r2_score(y,p2)  # r2 score of kneghabour regressor"
      ],
      "execution_count": 149,
      "outputs": [
        {
          "output_type": "execute_result",
          "data": {
            "text/plain": [
              "0.3221318152753787"
            ]
          },
          "metadata": {},
          "execution_count": 149
        }
      ]
    },
    {
      "cell_type": "code",
      "metadata": {
        "colab": {
          "base_uri": "https://localhost:8080/"
        },
        "id": "odzgGakOBiu1",
        "outputId": "917b2029-1b3f-4d42-d6b4-cb469cb88cfb"
      },
      "source": [
        "mean_squared_error(y,p2)   # mean square error of k neghabour regressor ."
      ],
      "execution_count": 150,
      "outputs": [
        {
          "output_type": "execute_result",
          "data": {
            "text/plain": [
              "0.6778681847246212"
            ]
          },
          "metadata": {},
          "execution_count": 150
        }
      ]
    },
    {
      "cell_type": "markdown",
      "metadata": {
        "id": "2ewhXIvKIlTB"
      },
      "source": [
        "**Creating ANN model of neural network**"
      ]
    },
    {
      "cell_type": "code",
      "metadata": {
        "id": "rcyuwd-20F92"
      },
      "source": [
        "import tensorflow.keras\n",
        "from tensorflow.keras import Sequential\n",
        "from tensorflow.keras.layers import Dense\n",
        "import tensorflow as tf"
      ],
      "execution_count": 151,
      "outputs": []
    },
    {
      "cell_type": "code",
      "metadata": {
        "id": "bsfib5tz0hQA"
      },
      "source": [
        "m3=Sequential()\n",
        "m3.add(Dense(4,activation=\"relu\",input_dim=x.shape[1]))\n",
        "m3.add(Dense(20,activation=\"relu\"))\n",
        "m3.add(Dense(20,activation=\"relu\"))\n",
        "m3.add(Dense(20,activation=\"relu\"))\n",
        "m3.add(Dense(10,activation=\"relu\"))\n",
        "m3.add(Dense(1,activation=\"linear\"))"
      ],
      "execution_count": 152,
      "outputs": []
    },
    {
      "cell_type": "code",
      "metadata": {
        "colab": {
          "base_uri": "https://localhost:8080/"
        },
        "id": "_lwVL-Yt1XmH",
        "outputId": "00c644ef-112e-491d-be76-4ade4a24305c"
      },
      "source": [
        "m3.summary()"
      ],
      "execution_count": 153,
      "outputs": [
        {
          "output_type": "stream",
          "name": "stdout",
          "text": [
            "Model: \"sequential_2\"\n",
            "_________________________________________________________________\n",
            " Layer (type)                Output Shape              Param #   \n",
            "=================================================================\n",
            " dense_12 (Dense)            (None, 4)                 20        \n",
            "                                                                 \n",
            " dense_13 (Dense)            (None, 20)                100       \n",
            "                                                                 \n",
            " dense_14 (Dense)            (None, 20)                420       \n",
            "                                                                 \n",
            " dense_15 (Dense)            (None, 20)                420       \n",
            "                                                                 \n",
            " dense_16 (Dense)            (None, 10)                210       \n",
            "                                                                 \n",
            " dense_17 (Dense)            (None, 1)                 11        \n",
            "                                                                 \n",
            "=================================================================\n",
            "Total params: 1,181\n",
            "Trainable params: 1,181\n",
            "Non-trainable params: 0\n",
            "_________________________________________________________________\n"
          ]
        }
      ]
    },
    {
      "cell_type": "code",
      "metadata": {
        "id": "0RN00GfC2yUf"
      },
      "source": [
        "m3.compile(optimizer=tf.keras.optimizers.SGD(learning_rate=0.01),loss=\"mean_squared_error\",metrics=[\"mean_squared_logarithmic_error\"])"
      ],
      "execution_count": 154,
      "outputs": []
    },
    {
      "cell_type": "code",
      "metadata": {
        "colab": {
          "base_uri": "https://localhost:8080/"
        },
        "id": "pd7LfXLR36-Q",
        "outputId": "3717350b-4d1b-41aa-f78f-ddf879fc2110"
      },
      "source": [
        "history=m3.fit(x,y,verbose=1,epochs=953,validation_batch_size=0.2)"
      ],
      "execution_count": 155,
      "outputs": [
        {
          "output_type": "stream",
          "name": "stdout",
          "text": [
            "Epoch 1/953\n",
            "1/1 [==============================] - 0s 423ms/step - loss: 1.0215 - mean_squared_logarithmic_error: 0.1119\n",
            "Epoch 2/953\n",
            "1/1 [==============================] - 0s 5ms/step - loss: 1.0134 - mean_squared_logarithmic_error: 0.1145\n",
            "Epoch 3/953\n",
            "1/1 [==============================] - 0s 5ms/step - loss: 1.0049 - mean_squared_logarithmic_error: 0.1172\n",
            "Epoch 4/953\n",
            "1/1 [==============================] - 0s 5ms/step - loss: 0.9986 - mean_squared_logarithmic_error: 0.1217\n",
            "Epoch 5/953\n",
            "1/1 [==============================] - 0s 8ms/step - loss: 0.9947 - mean_squared_logarithmic_error: 0.1239\n",
            "Epoch 6/953\n",
            "1/1 [==============================] - 0s 8ms/step - loss: 0.9913 - mean_squared_logarithmic_error: 0.1254\n",
            "Epoch 7/953\n",
            "1/1 [==============================] - 0s 6ms/step - loss: 0.9880 - mean_squared_logarithmic_error: 0.1267\n",
            "Epoch 8/953\n",
            "1/1 [==============================] - 0s 6ms/step - loss: 0.9838 - mean_squared_logarithmic_error: 0.1283\n",
            "Epoch 9/953\n",
            "1/1 [==============================] - 0s 9ms/step - loss: 0.9798 - mean_squared_logarithmic_error: 0.1291\n",
            "Epoch 10/953\n",
            "1/1 [==============================] - 0s 8ms/step - loss: 0.9747 - mean_squared_logarithmic_error: 0.1301\n",
            "Epoch 11/953\n",
            "1/1 [==============================] - 0s 4ms/step - loss: 0.9727 - mean_squared_logarithmic_error: 0.1307\n",
            "Epoch 12/953\n",
            "1/1 [==============================] - 0s 7ms/step - loss: 0.9711 - mean_squared_logarithmic_error: 0.1303\n",
            "Epoch 13/953\n",
            "1/1 [==============================] - 0s 6ms/step - loss: 0.9694 - mean_squared_logarithmic_error: 0.1300\n",
            "Epoch 14/953\n",
            "1/1 [==============================] - 0s 5ms/step - loss: 0.9678 - mean_squared_logarithmic_error: 0.1296\n",
            "Epoch 15/953\n",
            "1/1 [==============================] - 0s 8ms/step - loss: 0.9662 - mean_squared_logarithmic_error: 0.1292\n",
            "Epoch 16/953\n",
            "1/1 [==============================] - 0s 10ms/step - loss: 0.9646 - mean_squared_logarithmic_error: 0.1289\n",
            "Epoch 17/953\n",
            "1/1 [==============================] - 0s 11ms/step - loss: 0.9631 - mean_squared_logarithmic_error: 0.1285\n",
            "Epoch 18/953\n",
            "1/1 [==============================] - 0s 8ms/step - loss: 0.9616 - mean_squared_logarithmic_error: 0.1292\n",
            "Epoch 19/953\n",
            "1/1 [==============================] - 0s 6ms/step - loss: 0.9602 - mean_squared_logarithmic_error: 0.1289\n",
            "Epoch 20/953\n",
            "1/1 [==============================] - 0s 6ms/step - loss: 0.9587 - mean_squared_logarithmic_error: 0.1286\n",
            "Epoch 21/953\n",
            "1/1 [==============================] - 0s 4ms/step - loss: 0.9573 - mean_squared_logarithmic_error: 0.1283\n",
            "Epoch 22/953\n",
            "1/1 [==============================] - 0s 17ms/step - loss: 0.9558 - mean_squared_logarithmic_error: 0.1279\n",
            "Epoch 23/953\n",
            "1/1 [==============================] - 0s 7ms/step - loss: 0.9544 - mean_squared_logarithmic_error: 0.1276\n",
            "Epoch 24/953\n",
            "1/1 [==============================] - 0s 6ms/step - loss: 0.9530 - mean_squared_logarithmic_error: 0.1273\n",
            "Epoch 25/953\n",
            "1/1 [==============================] - 0s 10ms/step - loss: 0.9516 - mean_squared_logarithmic_error: 0.1271\n",
            "Epoch 26/953\n",
            "1/1 [==============================] - 0s 6ms/step - loss: 0.9502 - mean_squared_logarithmic_error: 0.1268\n",
            "Epoch 27/953\n",
            "1/1 [==============================] - 0s 6ms/step - loss: 0.9488 - mean_squared_logarithmic_error: 0.1267\n",
            "Epoch 28/953\n",
            "1/1 [==============================] - 0s 8ms/step - loss: 0.9474 - mean_squared_logarithmic_error: 0.1268\n",
            "Epoch 29/953\n",
            "1/1 [==============================] - 0s 7ms/step - loss: 0.9459 - mean_squared_logarithmic_error: 0.1266\n",
            "Epoch 30/953\n",
            "1/1 [==============================] - 0s 7ms/step - loss: 0.9444 - mean_squared_logarithmic_error: 0.1263\n",
            "Epoch 31/953\n",
            "1/1 [==============================] - 0s 7ms/step - loss: 0.9430 - mean_squared_logarithmic_error: 0.1260\n",
            "Epoch 32/953\n",
            "1/1 [==============================] - 0s 5ms/step - loss: 0.9414 - mean_squared_logarithmic_error: 0.1257\n",
            "Epoch 33/953\n",
            "1/1 [==============================] - 0s 6ms/step - loss: 0.9399 - mean_squared_logarithmic_error: 0.1259\n",
            "Epoch 34/953\n",
            "1/1 [==============================] - 0s 8ms/step - loss: 0.9385 - mean_squared_logarithmic_error: 0.1255\n",
            "Epoch 35/953\n",
            "1/1 [==============================] - 0s 16ms/step - loss: 0.9371 - mean_squared_logarithmic_error: 0.1249\n",
            "Epoch 36/953\n",
            "1/1 [==============================] - 0s 12ms/step - loss: 0.9357 - mean_squared_logarithmic_error: 0.1242\n",
            "Epoch 37/953\n",
            "1/1 [==============================] - 0s 6ms/step - loss: 0.9344 - mean_squared_logarithmic_error: 0.1238\n",
            "Epoch 38/953\n",
            "1/1 [==============================] - 0s 8ms/step - loss: 0.9330 - mean_squared_logarithmic_error: 0.1236\n",
            "Epoch 39/953\n",
            "1/1 [==============================] - 0s 10ms/step - loss: 0.9316 - mean_squared_logarithmic_error: 0.1231\n",
            "Epoch 40/953\n",
            "1/1 [==============================] - 0s 9ms/step - loss: 0.9302 - mean_squared_logarithmic_error: 0.1225\n",
            "Epoch 41/953\n",
            "1/1 [==============================] - 0s 8ms/step - loss: 0.9290 - mean_squared_logarithmic_error: 0.1221\n",
            "Epoch 42/953\n",
            "1/1 [==============================] - 0s 6ms/step - loss: 0.9277 - mean_squared_logarithmic_error: 0.1229\n",
            "Epoch 43/953\n",
            "1/1 [==============================] - 0s 7ms/step - loss: 0.9263 - mean_squared_logarithmic_error: 0.1223\n",
            "Epoch 44/953\n",
            "1/1 [==============================] - 0s 7ms/step - loss: 0.9249 - mean_squared_logarithmic_error: 0.1216\n",
            "Epoch 45/953\n",
            "1/1 [==============================] - 0s 10ms/step - loss: 0.9235 - mean_squared_logarithmic_error: 0.1211\n",
            "Epoch 46/953\n",
            "1/1 [==============================] - 0s 8ms/step - loss: 0.9221 - mean_squared_logarithmic_error: 0.1205\n",
            "Epoch 47/953\n",
            "1/1 [==============================] - 0s 14ms/step - loss: 0.9209 - mean_squared_logarithmic_error: 0.1213\n",
            "Epoch 48/953\n",
            "1/1 [==============================] - 0s 5ms/step - loss: 0.9195 - mean_squared_logarithmic_error: 0.1207\n",
            "Epoch 49/953\n",
            "1/1 [==============================] - 0s 5ms/step - loss: 0.9180 - mean_squared_logarithmic_error: 0.1200\n",
            "Epoch 50/953\n",
            "1/1 [==============================] - 0s 8ms/step - loss: 0.9166 - mean_squared_logarithmic_error: 0.1195\n",
            "Epoch 51/953\n",
            "1/1 [==============================] - 0s 5ms/step - loss: 0.9152 - mean_squared_logarithmic_error: 0.1191\n",
            "Epoch 52/953\n",
            "1/1 [==============================] - 0s 4ms/step - loss: 0.9137 - mean_squared_logarithmic_error: 0.1186\n",
            "Epoch 53/953\n",
            "1/1 [==============================] - 0s 5ms/step - loss: 0.9125 - mean_squared_logarithmic_error: 0.1180\n",
            "Epoch 54/953\n",
            "1/1 [==============================] - 0s 5ms/step - loss: 0.9110 - mean_squared_logarithmic_error: 0.1187\n",
            "Epoch 55/953\n",
            "1/1 [==============================] - 0s 14ms/step - loss: 0.9095 - mean_squared_logarithmic_error: 0.1180\n",
            "Epoch 56/953\n",
            "1/1 [==============================] - 0s 10ms/step - loss: 0.9080 - mean_squared_logarithmic_error: 0.1174\n",
            "Epoch 57/953\n",
            "1/1 [==============================] - 0s 19ms/step - loss: 0.9066 - mean_squared_logarithmic_error: 0.1168\n",
            "Epoch 58/953\n",
            "1/1 [==============================] - 0s 9ms/step - loss: 0.9052 - mean_squared_logarithmic_error: 0.1166\n",
            "Epoch 59/953\n",
            "1/1 [==============================] - 0s 4ms/step - loss: 0.9037 - mean_squared_logarithmic_error: 0.1160\n",
            "Epoch 60/953\n",
            "1/1 [==============================] - 0s 7ms/step - loss: 0.9024 - mean_squared_logarithmic_error: 0.1166\n",
            "Epoch 61/953\n",
            "1/1 [==============================] - 0s 13ms/step - loss: 0.9009 - mean_squared_logarithmic_error: 0.1160\n",
            "Epoch 62/953\n",
            "1/1 [==============================] - 0s 7ms/step - loss: 0.8994 - mean_squared_logarithmic_error: 0.1153\n",
            "Epoch 63/953\n",
            "1/1 [==============================] - 0s 8ms/step - loss: 0.8979 - mean_squared_logarithmic_error: 0.1150\n",
            "Epoch 64/953\n",
            "1/1 [==============================] - 0s 5ms/step - loss: 0.8963 - mean_squared_logarithmic_error: 0.1143\n",
            "Epoch 65/953\n",
            "1/1 [==============================] - 0s 6ms/step - loss: 0.8950 - mean_squared_logarithmic_error: 0.1139\n",
            "Epoch 66/953\n",
            "1/1 [==============================] - 0s 9ms/step - loss: 0.8936 - mean_squared_logarithmic_error: 0.1146\n",
            "Epoch 67/953\n",
            "1/1 [==============================] - 0s 7ms/step - loss: 0.8921 - mean_squared_logarithmic_error: 0.1139\n",
            "Epoch 68/953\n",
            "1/1 [==============================] - 0s 11ms/step - loss: 0.8905 - mean_squared_logarithmic_error: 0.1131\n",
            "Epoch 69/953\n",
            "1/1 [==============================] - 0s 6ms/step - loss: 0.8890 - mean_squared_logarithmic_error: 0.1129\n",
            "Epoch 70/953\n",
            "1/1 [==============================] - 0s 8ms/step - loss: 0.8874 - mean_squared_logarithmic_error: 0.1122\n",
            "Epoch 71/953\n",
            "1/1 [==============================] - 0s 9ms/step - loss: 0.8859 - mean_squared_logarithmic_error: 0.1117\n",
            "Epoch 72/953\n",
            "1/1 [==============================] - 0s 5ms/step - loss: 0.8846 - mean_squared_logarithmic_error: 0.1121\n",
            "Epoch 73/953\n",
            "1/1 [==============================] - 0s 8ms/step - loss: 0.8830 - mean_squared_logarithmic_error: 0.1115\n",
            "Epoch 74/953\n",
            "1/1 [==============================] - 0s 11ms/step - loss: 0.8815 - mean_squared_logarithmic_error: 0.1110\n",
            "Epoch 75/953\n",
            "1/1 [==============================] - 0s 17ms/step - loss: 0.8801 - mean_squared_logarithmic_error: 0.1105\n",
            "Epoch 76/953\n",
            "1/1 [==============================] - 0s 7ms/step - loss: 0.8787 - mean_squared_logarithmic_error: 0.1103\n",
            "Epoch 77/953\n",
            "1/1 [==============================] - 0s 8ms/step - loss: 0.8772 - mean_squared_logarithmic_error: 0.1097\n",
            "Epoch 78/953\n",
            "1/1 [==============================] - 0s 9ms/step - loss: 0.8758 - mean_squared_logarithmic_error: 0.1092\n",
            "Epoch 79/953\n",
            "1/1 [==============================] - 0s 13ms/step - loss: 0.8746 - mean_squared_logarithmic_error: 0.1099\n",
            "Epoch 80/953\n",
            "1/1 [==============================] - 0s 13ms/step - loss: 0.8730 - mean_squared_logarithmic_error: 0.1090\n",
            "Epoch 81/953\n",
            "1/1 [==============================] - 0s 5ms/step - loss: 0.8716 - mean_squared_logarithmic_error: 0.1087\n",
            "Epoch 82/953\n",
            "1/1 [==============================] - 0s 14ms/step - loss: 0.8702 - mean_squared_logarithmic_error: 0.1083\n",
            "Epoch 83/953\n",
            "1/1 [==============================] - 0s 8ms/step - loss: 0.8687 - mean_squared_logarithmic_error: 0.1077\n",
            "Epoch 84/953\n",
            "1/1 [==============================] - 0s 4ms/step - loss: 0.8673 - mean_squared_logarithmic_error: 0.1074\n",
            "Epoch 85/953\n",
            "1/1 [==============================] - 0s 18ms/step - loss: 0.8662 - mean_squared_logarithmic_error: 0.1069\n",
            "Epoch 86/953\n",
            "1/1 [==============================] - 0s 11ms/step - loss: 0.8648 - mean_squared_logarithmic_error: 0.1079\n",
            "Epoch 87/953\n",
            "1/1 [==============================] - 0s 6ms/step - loss: 0.8631 - mean_squared_logarithmic_error: 0.1070\n",
            "Epoch 88/953\n",
            "1/1 [==============================] - 0s 10ms/step - loss: 0.8616 - mean_squared_logarithmic_error: 0.1064\n",
            "Epoch 89/953\n",
            "1/1 [==============================] - 0s 5ms/step - loss: 0.8601 - mean_squared_logarithmic_error: 0.1060\n",
            "Epoch 90/953\n",
            "1/1 [==============================] - 0s 5ms/step - loss: 0.8587 - mean_squared_logarithmic_error: 0.1054\n",
            "Epoch 91/953\n",
            "1/1 [==============================] - 0s 7ms/step - loss: 0.8574 - mean_squared_logarithmic_error: 0.1056\n",
            "Epoch 92/953\n",
            "1/1 [==============================] - 0s 7ms/step - loss: 0.8558 - mean_squared_logarithmic_error: 0.1049\n",
            "Epoch 93/953\n",
            "1/1 [==============================] - 0s 6ms/step - loss: 0.8545 - mean_squared_logarithmic_error: 0.1044\n",
            "Epoch 94/953\n",
            "1/1 [==============================] - 0s 7ms/step - loss: 0.8531 - mean_squared_logarithmic_error: 0.1050\n",
            "Epoch 95/953\n",
            "1/1 [==============================] - 0s 9ms/step - loss: 0.8514 - mean_squared_logarithmic_error: 0.1043\n",
            "Epoch 96/953\n",
            "1/1 [==============================] - 0s 10ms/step - loss: 0.8500 - mean_squared_logarithmic_error: 0.1038\n",
            "Epoch 97/953\n",
            "1/1 [==============================] - 0s 5ms/step - loss: 0.8485 - mean_squared_logarithmic_error: 0.1034\n",
            "Epoch 98/953\n",
            "1/1 [==============================] - 0s 8ms/step - loss: 0.8472 - mean_squared_logarithmic_error: 0.1035\n",
            "Epoch 99/953\n",
            "1/1 [==============================] - 0s 5ms/step - loss: 0.8456 - mean_squared_logarithmic_error: 0.1027\n",
            "Epoch 100/953\n",
            "1/1 [==============================] - 0s 7ms/step - loss: 0.8444 - mean_squared_logarithmic_error: 0.1032\n",
            "Epoch 101/953\n",
            "1/1 [==============================] - 0s 5ms/step - loss: 0.8428 - mean_squared_logarithmic_error: 0.1024\n",
            "Epoch 102/953\n",
            "1/1 [==============================] - 0s 6ms/step - loss: 0.8413 - mean_squared_logarithmic_error: 0.1021\n",
            "Epoch 103/953\n",
            "1/1 [==============================] - 0s 5ms/step - loss: 0.8397 - mean_squared_logarithmic_error: 0.1014\n",
            "Epoch 104/953\n",
            "1/1 [==============================] - 0s 6ms/step - loss: 0.8382 - mean_squared_logarithmic_error: 0.1013\n",
            "Epoch 105/953\n",
            "1/1 [==============================] - 0s 6ms/step - loss: 0.8369 - mean_squared_logarithmic_error: 0.1006\n",
            "Epoch 106/953\n",
            "1/1 [==============================] - 0s 7ms/step - loss: 0.8352 - mean_squared_logarithmic_error: 0.1011\n",
            "Epoch 107/953\n",
            "1/1 [==============================] - 0s 5ms/step - loss: 0.8331 - mean_squared_logarithmic_error: 0.0998\n",
            "Epoch 108/953\n",
            "1/1 [==============================] - 0s 6ms/step - loss: 0.8306 - mean_squared_logarithmic_error: 0.0988\n",
            "Epoch 109/953\n",
            "1/1 [==============================] - 0s 12ms/step - loss: 0.8266 - mean_squared_logarithmic_error: 0.0977\n",
            "Epoch 110/953\n",
            "1/1 [==============================] - 0s 7ms/step - loss: 0.8240 - mean_squared_logarithmic_error: 0.0960\n",
            "Epoch 111/953\n",
            "1/1 [==============================] - 0s 4ms/step - loss: 0.8216 - mean_squared_logarithmic_error: 0.0966\n",
            "Epoch 112/953\n",
            "1/1 [==============================] - 0s 6ms/step - loss: 0.8194 - mean_squared_logarithmic_error: 0.0954\n",
            "Epoch 113/953\n",
            "1/1 [==============================] - 0s 6ms/step - loss: 0.8174 - mean_squared_logarithmic_error: 0.0950\n",
            "Epoch 114/953\n",
            "1/1 [==============================] - 0s 6ms/step - loss: 0.8155 - mean_squared_logarithmic_error: 0.0949\n",
            "Epoch 115/953\n",
            "1/1 [==============================] - 0s 5ms/step - loss: 0.8137 - mean_squared_logarithmic_error: 0.0947\n",
            "Epoch 116/953\n",
            "1/1 [==============================] - 0s 6ms/step - loss: 0.8119 - mean_squared_logarithmic_error: 0.0947\n",
            "Epoch 117/953\n",
            "1/1 [==============================] - 0s 7ms/step - loss: 0.8101 - mean_squared_logarithmic_error: 0.0939\n",
            "Epoch 118/953\n",
            "1/1 [==============================] - 0s 7ms/step - loss: 0.8083 - mean_squared_logarithmic_error: 0.0938\n",
            "Epoch 119/953\n",
            "1/1 [==============================] - 0s 6ms/step - loss: 0.8064 - mean_squared_logarithmic_error: 0.0936\n",
            "Epoch 120/953\n",
            "1/1 [==============================] - 0s 7ms/step - loss: 0.8046 - mean_squared_logarithmic_error: 0.0933\n",
            "Epoch 121/953\n",
            "1/1 [==============================] - 0s 5ms/step - loss: 0.8027 - mean_squared_logarithmic_error: 0.0931\n",
            "Epoch 122/953\n",
            "1/1 [==============================] - 0s 6ms/step - loss: 0.8012 - mean_squared_logarithmic_error: 0.0937\n",
            "Epoch 123/953\n",
            "1/1 [==============================] - 0s 12ms/step - loss: 0.7991 - mean_squared_logarithmic_error: 0.0927\n",
            "Epoch 124/953\n",
            "1/1 [==============================] - 0s 6ms/step - loss: 0.7972 - mean_squared_logarithmic_error: 0.0927\n",
            "Epoch 125/953\n",
            "1/1 [==============================] - 0s 7ms/step - loss: 0.7953 - mean_squared_logarithmic_error: 0.0922\n",
            "Epoch 126/953\n",
            "1/1 [==============================] - 0s 5ms/step - loss: 0.7934 - mean_squared_logarithmic_error: 0.0919\n",
            "Epoch 127/953\n",
            "1/1 [==============================] - 0s 9ms/step - loss: 0.7917 - mean_squared_logarithmic_error: 0.0919\n",
            "Epoch 128/953\n",
            "1/1 [==============================] - 0s 5ms/step - loss: 0.7898 - mean_squared_logarithmic_error: 0.0909\n",
            "Epoch 129/953\n",
            "1/1 [==============================] - 0s 7ms/step - loss: 0.7879 - mean_squared_logarithmic_error: 0.0911\n",
            "Epoch 130/953\n",
            "1/1 [==============================] - 0s 5ms/step - loss: 0.7860 - mean_squared_logarithmic_error: 0.0907\n",
            "Epoch 131/953\n",
            "1/1 [==============================] - 0s 7ms/step - loss: 0.7841 - mean_squared_logarithmic_error: 0.0905\n",
            "Epoch 132/953\n",
            "1/1 [==============================] - 0s 5ms/step - loss: 0.7823 - mean_squared_logarithmic_error: 0.0900\n",
            "Epoch 133/953\n",
            "1/1 [==============================] - 0s 7ms/step - loss: 0.7805 - mean_squared_logarithmic_error: 0.0902\n",
            "Epoch 134/953\n",
            "1/1 [==============================] - 0s 4ms/step - loss: 0.7785 - mean_squared_logarithmic_error: 0.0896\n",
            "Epoch 135/953\n",
            "1/1 [==============================] - 0s 7ms/step - loss: 0.7773 - mean_squared_logarithmic_error: 0.0904\n",
            "Epoch 136/953\n",
            "1/1 [==============================] - 0s 5ms/step - loss: 0.7749 - mean_squared_logarithmic_error: 0.0891\n",
            "Epoch 137/953\n",
            "1/1 [==============================] - 0s 8ms/step - loss: 0.7730 - mean_squared_logarithmic_error: 0.0891\n",
            "Epoch 138/953\n",
            "1/1 [==============================] - 0s 5ms/step - loss: 0.7711 - mean_squared_logarithmic_error: 0.0886\n",
            "Epoch 139/953\n",
            "1/1 [==============================] - 0s 8ms/step - loss: 0.7693 - mean_squared_logarithmic_error: 0.0887\n",
            "Epoch 140/953\n",
            "1/1 [==============================] - 0s 5ms/step - loss: 0.7674 - mean_squared_logarithmic_error: 0.0878\n",
            "Epoch 141/953\n",
            "1/1 [==============================] - 0s 8ms/step - loss: 0.7654 - mean_squared_logarithmic_error: 0.0878\n",
            "Epoch 142/953\n",
            "1/1 [==============================] - 0s 5ms/step - loss: 0.7635 - mean_squared_logarithmic_error: 0.0875\n",
            "Epoch 143/953\n",
            "1/1 [==============================] - 0s 8ms/step - loss: 0.7617 - mean_squared_logarithmic_error: 0.0875\n",
            "Epoch 144/953\n",
            "1/1 [==============================] - 0s 5ms/step - loss: 0.7600 - mean_squared_logarithmic_error: 0.0866\n",
            "Epoch 145/953\n",
            "1/1 [==============================] - 0s 12ms/step - loss: 0.7588 - mean_squared_logarithmic_error: 0.0879\n",
            "Epoch 146/953\n",
            "1/1 [==============================] - 0s 5ms/step - loss: 0.7562 - mean_squared_logarithmic_error: 0.0865\n",
            "Epoch 147/953\n",
            "1/1 [==============================] - 0s 5ms/step - loss: 0.7542 - mean_squared_logarithmic_error: 0.0861\n",
            "Epoch 148/953\n",
            "1/1 [==============================] - 0s 9ms/step - loss: 0.7523 - mean_squared_logarithmic_error: 0.0861\n",
            "Epoch 149/953\n",
            "1/1 [==============================] - 0s 5ms/step - loss: 0.7505 - mean_squared_logarithmic_error: 0.0855\n",
            "Epoch 150/953\n",
            "1/1 [==============================] - 0s 5ms/step - loss: 0.7487 - mean_squared_logarithmic_error: 0.0858\n",
            "Epoch 151/953\n",
            "1/1 [==============================] - 0s 8ms/step - loss: 0.7468 - mean_squared_logarithmic_error: 0.0846\n",
            "Epoch 152/953\n",
            "1/1 [==============================] - 0s 27ms/step - loss: 0.7448 - mean_squared_logarithmic_error: 0.0850\n",
            "Epoch 153/953\n",
            "1/1 [==============================] - 0s 4ms/step - loss: 0.7429 - mean_squared_logarithmic_error: 0.0842\n",
            "Epoch 154/953\n",
            "1/1 [==============================] - 0s 4ms/step - loss: 0.7408 - mean_squared_logarithmic_error: 0.0842\n",
            "Epoch 155/953\n",
            "1/1 [==============================] - 0s 8ms/step - loss: 0.7392 - mean_squared_logarithmic_error: 0.0835\n",
            "Epoch 156/953\n",
            "1/1 [==============================] - 0s 4ms/step - loss: 0.7375 - mean_squared_logarithmic_error: 0.0840\n",
            "Epoch 157/953\n",
            "1/1 [==============================] - 0s 8ms/step - loss: 0.7357 - mean_squared_logarithmic_error: 0.0829\n",
            "Epoch 158/953\n",
            "1/1 [==============================] - 0s 9ms/step - loss: 0.7347 - mean_squared_logarithmic_error: 0.0848\n",
            "Epoch 159/953\n",
            "1/1 [==============================] - 0s 11ms/step - loss: 0.7323 - mean_squared_logarithmic_error: 0.0824\n",
            "Epoch 160/953\n",
            "1/1 [==============================] - 0s 10ms/step - loss: 0.7302 - mean_squared_logarithmic_error: 0.0828\n",
            "Epoch 161/953\n",
            "1/1 [==============================] - 0s 18ms/step - loss: 0.7282 - mean_squared_logarithmic_error: 0.0824\n",
            "Epoch 162/953\n",
            "1/1 [==============================] - 0s 5ms/step - loss: 0.7265 - mean_squared_logarithmic_error: 0.0826\n",
            "Epoch 163/953\n",
            "1/1 [==============================] - 0s 8ms/step - loss: 0.7249 - mean_squared_logarithmic_error: 0.0815\n",
            "Epoch 164/953\n",
            "1/1 [==============================] - 0s 10ms/step - loss: 0.7230 - mean_squared_logarithmic_error: 0.0821\n",
            "Epoch 165/953\n",
            "1/1 [==============================] - 0s 10ms/step - loss: 0.7222 - mean_squared_logarithmic_error: 0.0806\n",
            "Epoch 166/953\n",
            "1/1 [==============================] - 0s 5ms/step - loss: 0.7201 - mean_squared_logarithmic_error: 0.0824\n",
            "Epoch 167/953\n",
            "1/1 [==============================] - 0s 10ms/step - loss: 0.7182 - mean_squared_logarithmic_error: 0.0805\n",
            "Epoch 168/953\n",
            "1/1 [==============================] - 0s 5ms/step - loss: 0.7160 - mean_squared_logarithmic_error: 0.0812\n",
            "Epoch 169/953\n",
            "1/1 [==============================] - 0s 11ms/step - loss: 0.7142 - mean_squared_logarithmic_error: 0.0807\n",
            "Epoch 170/953\n",
            "1/1 [==============================] - 0s 15ms/step - loss: 0.7124 - mean_squared_logarithmic_error: 0.0802\n",
            "Epoch 171/953\n",
            "1/1 [==============================] - 0s 12ms/step - loss: 0.7114 - mean_squared_logarithmic_error: 0.0807\n",
            "Epoch 172/953\n",
            "1/1 [==============================] - 0s 13ms/step - loss: 0.7096 - mean_squared_logarithmic_error: 0.0791\n",
            "Epoch 173/953\n",
            "1/1 [==============================] - 0s 18ms/step - loss: 0.7075 - mean_squared_logarithmic_error: 0.0798\n",
            "Epoch 174/953\n",
            "1/1 [==============================] - 0s 14ms/step - loss: 0.7062 - mean_squared_logarithmic_error: 0.0788\n",
            "Epoch 175/953\n",
            "1/1 [==============================] - 0s 19ms/step - loss: 0.7043 - mean_squared_logarithmic_error: 0.0794\n",
            "Epoch 176/953\n",
            "1/1 [==============================] - 0s 8ms/step - loss: 0.7033 - mean_squared_logarithmic_error: 0.0783\n",
            "Epoch 177/953\n",
            "1/1 [==============================] - 0s 9ms/step - loss: 0.7018 - mean_squared_logarithmic_error: 0.0796\n",
            "Epoch 178/953\n",
            "1/1 [==============================] - 0s 10ms/step - loss: 0.6997 - mean_squared_logarithmic_error: 0.0781\n",
            "Epoch 179/953\n",
            "1/1 [==============================] - 0s 7ms/step - loss: 0.6974 - mean_squared_logarithmic_error: 0.0783\n",
            "Epoch 180/953\n",
            "1/1 [==============================] - 0s 5ms/step - loss: 0.6960 - mean_squared_logarithmic_error: 0.0782\n",
            "Epoch 181/953\n",
            "1/1 [==============================] - 0s 6ms/step - loss: 0.6944 - mean_squared_logarithmic_error: 0.0775\n",
            "Epoch 182/953\n",
            "1/1 [==============================] - 0s 6ms/step - loss: 0.6931 - mean_squared_logarithmic_error: 0.0780\n",
            "Epoch 183/953\n",
            "1/1 [==============================] - 0s 8ms/step - loss: 0.6914 - mean_squared_logarithmic_error: 0.0769\n",
            "Epoch 184/953\n",
            "1/1 [==============================] - 0s 8ms/step - loss: 0.6900 - mean_squared_logarithmic_error: 0.0775\n",
            "Epoch 185/953\n",
            "1/1 [==============================] - 0s 12ms/step - loss: 0.6882 - mean_squared_logarithmic_error: 0.0765\n",
            "Epoch 186/953\n",
            "1/1 [==============================] - 0s 6ms/step - loss: 0.6867 - mean_squared_logarithmic_error: 0.0770\n",
            "Epoch 187/953\n",
            "1/1 [==============================] - 0s 9ms/step - loss: 0.6853 - mean_squared_logarithmic_error: 0.0761\n",
            "Epoch 188/953\n",
            "1/1 [==============================] - 0s 8ms/step - loss: 0.6849 - mean_squared_logarithmic_error: 0.0774\n",
            "Epoch 189/953\n",
            "1/1 [==============================] - 0s 6ms/step - loss: 0.6816 - mean_squared_logarithmic_error: 0.0758\n",
            "Epoch 190/953\n",
            "1/1 [==============================] - 0s 4ms/step - loss: 0.6799 - mean_squared_logarithmic_error: 0.0758\n",
            "Epoch 191/953\n",
            "1/1 [==============================] - 0s 5ms/step - loss: 0.6780 - mean_squared_logarithmic_error: 0.0754\n",
            "Epoch 192/953\n",
            "1/1 [==============================] - 0s 5ms/step - loss: 0.6762 - mean_squared_logarithmic_error: 0.0752\n",
            "Epoch 193/953\n",
            "1/1 [==============================] - 0s 11ms/step - loss: 0.6747 - mean_squared_logarithmic_error: 0.0749\n",
            "Epoch 194/953\n",
            "1/1 [==============================] - 0s 10ms/step - loss: 0.6739 - mean_squared_logarithmic_error: 0.0755\n",
            "Epoch 195/953\n",
            "1/1 [==============================] - 0s 9ms/step - loss: 0.6718 - mean_squared_logarithmic_error: 0.0744\n",
            "Epoch 196/953\n",
            "1/1 [==============================] - 0s 13ms/step - loss: 0.6699 - mean_squared_logarithmic_error: 0.0745\n",
            "Epoch 197/953\n",
            "1/1 [==============================] - 0s 6ms/step - loss: 0.6682 - mean_squared_logarithmic_error: 0.0741\n",
            "Epoch 198/953\n",
            "1/1 [==============================] - 0s 6ms/step - loss: 0.6666 - mean_squared_logarithmic_error: 0.0740\n",
            "Epoch 199/953\n",
            "1/1 [==============================] - 0s 5ms/step - loss: 0.6652 - mean_squared_logarithmic_error: 0.0737\n",
            "Epoch 200/953\n",
            "1/1 [==============================] - 0s 18ms/step - loss: 0.6647 - mean_squared_logarithmic_error: 0.0743\n",
            "Epoch 201/953\n",
            "1/1 [==============================] - 0s 6ms/step - loss: 0.6624 - mean_squared_logarithmic_error: 0.0732\n",
            "Epoch 202/953\n",
            "1/1 [==============================] - 0s 29ms/step - loss: 0.6607 - mean_squared_logarithmic_error: 0.0733\n",
            "Epoch 203/953\n",
            "1/1 [==============================] - 0s 12ms/step - loss: 0.6591 - mean_squared_logarithmic_error: 0.0730\n",
            "Epoch 204/953\n",
            "1/1 [==============================] - 0s 8ms/step - loss: 0.6578 - mean_squared_logarithmic_error: 0.0729\n",
            "Epoch 205/953\n",
            "1/1 [==============================] - 0s 12ms/step - loss: 0.6572 - mean_squared_logarithmic_error: 0.0735\n",
            "Epoch 206/953\n",
            "1/1 [==============================] - 0s 8ms/step - loss: 0.6546 - mean_squared_logarithmic_error: 0.0725\n",
            "Epoch 207/953\n",
            "1/1 [==============================] - 0s 4ms/step - loss: 0.6526 - mean_squared_logarithmic_error: 0.0725\n",
            "Epoch 208/953\n",
            "1/1 [==============================] - 0s 8ms/step - loss: 0.6511 - mean_squared_logarithmic_error: 0.0723\n",
            "Epoch 209/953\n",
            "1/1 [==============================] - 0s 15ms/step - loss: 0.6498 - mean_squared_logarithmic_error: 0.0723\n",
            "Epoch 210/953\n",
            "1/1 [==============================] - 0s 7ms/step - loss: 0.6492 - mean_squared_logarithmic_error: 0.0721\n",
            "Epoch 211/953\n",
            "1/1 [==============================] - 0s 10ms/step - loss: 0.6479 - mean_squared_logarithmic_error: 0.0725\n",
            "Epoch 212/953\n",
            "1/1 [==============================] - 0s 5ms/step - loss: 0.6460 - mean_squared_logarithmic_error: 0.0718\n",
            "Epoch 213/953\n",
            "1/1 [==============================] - 0s 7ms/step - loss: 0.6443 - mean_squared_logarithmic_error: 0.0719\n",
            "Epoch 214/953\n",
            "1/1 [==============================] - 0s 8ms/step - loss: 0.6429 - mean_squared_logarithmic_error: 0.0718\n",
            "Epoch 215/953\n",
            "1/1 [==============================] - 0s 8ms/step - loss: 0.6418 - mean_squared_logarithmic_error: 0.0718\n",
            "Epoch 216/953\n",
            "1/1 [==============================] - 0s 9ms/step - loss: 0.6406 - mean_squared_logarithmic_error: 0.0716\n",
            "Epoch 217/953\n",
            "1/1 [==============================] - 0s 5ms/step - loss: 0.6394 - mean_squared_logarithmic_error: 0.0717\n",
            "Epoch 218/953\n",
            "1/1 [==============================] - 0s 8ms/step - loss: 0.6383 - mean_squared_logarithmic_error: 0.0714\n",
            "Epoch 219/953\n",
            "1/1 [==============================] - 0s 14ms/step - loss: 0.6379 - mean_squared_logarithmic_error: 0.0720\n",
            "Epoch 220/953\n",
            "1/1 [==============================] - 0s 5ms/step - loss: 0.6358 - mean_squared_logarithmic_error: 0.0714\n",
            "Epoch 221/953\n",
            "1/1 [==============================] - 0s 19ms/step - loss: 0.6344 - mean_squared_logarithmic_error: 0.0714\n",
            "Epoch 222/953\n",
            "1/1 [==============================] - 0s 14ms/step - loss: 0.6331 - mean_squared_logarithmic_error: 0.0713\n",
            "Epoch 223/953\n",
            "1/1 [==============================] - 0s 8ms/step - loss: 0.6320 - mean_squared_logarithmic_error: 0.0713\n",
            "Epoch 224/953\n",
            "1/1 [==============================] - 0s 11ms/step - loss: 0.6308 - mean_squared_logarithmic_error: 0.0712\n",
            "Epoch 225/953\n",
            "1/1 [==============================] - 0s 20ms/step - loss: 0.6301 - mean_squared_logarithmic_error: 0.0713\n",
            "Epoch 226/953\n",
            "1/1 [==============================] - 0s 8ms/step - loss: 0.6285 - mean_squared_logarithmic_error: 0.0711\n",
            "Epoch 227/953\n",
            "1/1 [==============================] - 0s 7ms/step - loss: 0.6276 - mean_squared_logarithmic_error: 0.0711\n",
            "Epoch 228/953\n",
            "1/1 [==============================] - 0s 5ms/step - loss: 0.6263 - mean_squared_logarithmic_error: 0.0710\n",
            "Epoch 229/953\n",
            "1/1 [==============================] - 0s 8ms/step - loss: 0.6253 - mean_squared_logarithmic_error: 0.0710\n",
            "Epoch 230/953\n",
            "1/1 [==============================] - 0s 7ms/step - loss: 0.6243 - mean_squared_logarithmic_error: 0.0710\n",
            "Epoch 231/953\n",
            "1/1 [==============================] - 0s 8ms/step - loss: 0.6232 - mean_squared_logarithmic_error: 0.0710\n",
            "Epoch 232/953\n",
            "1/1 [==============================] - 0s 11ms/step - loss: 0.6220 - mean_squared_logarithmic_error: 0.0709\n",
            "Epoch 233/953\n",
            "1/1 [==============================] - 0s 9ms/step - loss: 0.6211 - mean_squared_logarithmic_error: 0.0709\n",
            "Epoch 234/953\n",
            "1/1 [==============================] - 0s 12ms/step - loss: 0.6201 - mean_squared_logarithmic_error: 0.0709\n",
            "Epoch 235/953\n",
            "1/1 [==============================] - 0s 4ms/step - loss: 0.6190 - mean_squared_logarithmic_error: 0.0709\n",
            "Epoch 236/953\n",
            "1/1 [==============================] - 0s 7ms/step - loss: 0.6180 - mean_squared_logarithmic_error: 0.0708\n",
            "Epoch 237/953\n",
            "1/1 [==============================] - 0s 5ms/step - loss: 0.6168 - mean_squared_logarithmic_error: 0.0708\n",
            "Epoch 238/953\n",
            "1/1 [==============================] - 0s 14ms/step - loss: 0.6158 - mean_squared_logarithmic_error: 0.0708\n",
            "Epoch 239/953\n",
            "1/1 [==============================] - 0s 8ms/step - loss: 0.6152 - mean_squared_logarithmic_error: 0.0708\n",
            "Epoch 240/953\n",
            "1/1 [==============================] - 0s 6ms/step - loss: 0.6141 - mean_squared_logarithmic_error: 0.0708\n",
            "Epoch 241/953\n",
            "1/1 [==============================] - 0s 5ms/step - loss: 0.6129 - mean_squared_logarithmic_error: 0.0708\n",
            "Epoch 242/953\n",
            "1/1 [==============================] - 0s 7ms/step - loss: 0.6119 - mean_squared_logarithmic_error: 0.0708\n",
            "Epoch 243/953\n",
            "1/1 [==============================] - 0s 4ms/step - loss: 0.6108 - mean_squared_logarithmic_error: 0.0708\n",
            "Epoch 244/953\n",
            "1/1 [==============================] - 0s 7ms/step - loss: 0.6099 - mean_squared_logarithmic_error: 0.0708\n",
            "Epoch 245/953\n",
            "1/1 [==============================] - 0s 4ms/step - loss: 0.6092 - mean_squared_logarithmic_error: 0.0707\n",
            "Epoch 246/953\n",
            "1/1 [==============================] - 0s 6ms/step - loss: 0.6085 - mean_squared_logarithmic_error: 0.0709\n",
            "Epoch 247/953\n",
            "1/1 [==============================] - 0s 4ms/step - loss: 0.6074 - mean_squared_logarithmic_error: 0.0708\n",
            "Epoch 248/953\n",
            "1/1 [==============================] - 0s 11ms/step - loss: 0.6062 - mean_squared_logarithmic_error: 0.0708\n",
            "Epoch 249/953\n",
            "1/1 [==============================] - 0s 11ms/step - loss: 0.6053 - mean_squared_logarithmic_error: 0.0708\n",
            "Epoch 250/953\n",
            "1/1 [==============================] - 0s 10ms/step - loss: 0.6044 - mean_squared_logarithmic_error: 0.0708\n",
            "Epoch 251/953\n",
            "1/1 [==============================] - 0s 11ms/step - loss: 0.6036 - mean_squared_logarithmic_error: 0.0708\n",
            "Epoch 252/953\n",
            "1/1 [==============================] - 0s 5ms/step - loss: 0.6028 - mean_squared_logarithmic_error: 0.0708\n",
            "Epoch 253/953\n",
            "1/1 [==============================] - 0s 8ms/step - loss: 0.6019 - mean_squared_logarithmic_error: 0.0708\n",
            "Epoch 254/953\n",
            "1/1 [==============================] - 0s 12ms/step - loss: 0.6010 - mean_squared_logarithmic_error: 0.0709\n",
            "Epoch 255/953\n",
            "1/1 [==============================] - 0s 10ms/step - loss: 0.6004 - mean_squared_logarithmic_error: 0.0708\n",
            "Epoch 256/953\n",
            "1/1 [==============================] - 0s 9ms/step - loss: 0.5998 - mean_squared_logarithmic_error: 0.0710\n",
            "Epoch 257/953\n",
            "1/1 [==============================] - 0s 9ms/step - loss: 0.5992 - mean_squared_logarithmic_error: 0.0708\n",
            "Epoch 258/953\n",
            "1/1 [==============================] - 0s 5ms/step - loss: 0.5983 - mean_squared_logarithmic_error: 0.0710\n",
            "Epoch 259/953\n",
            "1/1 [==============================] - 0s 6ms/step - loss: 0.5974 - mean_squared_logarithmic_error: 0.0709\n",
            "Epoch 260/953\n",
            "1/1 [==============================] - 0s 23ms/step - loss: 0.5965 - mean_squared_logarithmic_error: 0.0709\n",
            "Epoch 261/953\n",
            "1/1 [==============================] - 0s 6ms/step - loss: 0.5957 - mean_squared_logarithmic_error: 0.0709\n",
            "Epoch 262/953\n",
            "1/1 [==============================] - 0s 10ms/step - loss: 0.5949 - mean_squared_logarithmic_error: 0.0710\n",
            "Epoch 263/953\n",
            "1/1 [==============================] - 0s 8ms/step - loss: 0.5942 - mean_squared_logarithmic_error: 0.0710\n",
            "Epoch 264/953\n",
            "1/1 [==============================] - 0s 11ms/step - loss: 0.5934 - mean_squared_logarithmic_error: 0.0711\n",
            "Epoch 265/953\n",
            "1/1 [==============================] - 0s 8ms/step - loss: 0.5927 - mean_squared_logarithmic_error: 0.0710\n",
            "Epoch 266/953\n",
            "1/1 [==============================] - 0s 10ms/step - loss: 0.5920 - mean_squared_logarithmic_error: 0.0711\n",
            "Epoch 267/953\n",
            "1/1 [==============================] - 0s 7ms/step - loss: 0.5913 - mean_squared_logarithmic_error: 0.0711\n",
            "Epoch 268/953\n",
            "1/1 [==============================] - 0s 4ms/step - loss: 0.5909 - mean_squared_logarithmic_error: 0.0712\n",
            "Epoch 269/953\n",
            "1/1 [==============================] - 0s 11ms/step - loss: 0.5904 - mean_squared_logarithmic_error: 0.0710\n",
            "Epoch 270/953\n",
            "1/1 [==============================] - 0s 7ms/step - loss: 0.5894 - mean_squared_logarithmic_error: 0.0712\n",
            "Epoch 271/953\n",
            "1/1 [==============================] - 0s 7ms/step - loss: 0.5886 - mean_squared_logarithmic_error: 0.0712\n",
            "Epoch 272/953\n",
            "1/1 [==============================] - 0s 8ms/step - loss: 0.5879 - mean_squared_logarithmic_error: 0.0712\n",
            "Epoch 273/953\n",
            "1/1 [==============================] - 0s 6ms/step - loss: 0.5872 - mean_squared_logarithmic_error: 0.0712\n",
            "Epoch 274/953\n",
            "1/1 [==============================] - 0s 8ms/step - loss: 0.5866 - mean_squared_logarithmic_error: 0.0712\n",
            "Epoch 275/953\n",
            "1/1 [==============================] - 0s 6ms/step - loss: 0.5859 - mean_squared_logarithmic_error: 0.0713\n",
            "Epoch 276/953\n",
            "1/1 [==============================] - 0s 6ms/step - loss: 0.5853 - mean_squared_logarithmic_error: 0.0712\n",
            "Epoch 277/953\n",
            "1/1 [==============================] - 0s 7ms/step - loss: 0.5846 - mean_squared_logarithmic_error: 0.0713\n",
            "Epoch 278/953\n",
            "1/1 [==============================] - 0s 9ms/step - loss: 0.5840 - mean_squared_logarithmic_error: 0.0712\n",
            "Epoch 279/953\n",
            "1/1 [==============================] - 0s 6ms/step - loss: 0.5833 - mean_squared_logarithmic_error: 0.0713\n",
            "Epoch 280/953\n",
            "1/1 [==============================] - 0s 8ms/step - loss: 0.5828 - mean_squared_logarithmic_error: 0.0714\n",
            "Epoch 281/953\n",
            "1/1 [==============================] - 0s 12ms/step - loss: 0.5824 - mean_squared_logarithmic_error: 0.0710\n",
            "Epoch 282/953\n",
            "1/1 [==============================] - 0s 4ms/step - loss: 0.5817 - mean_squared_logarithmic_error: 0.0715\n",
            "Epoch 283/953\n",
            "1/1 [==============================] - 0s 7ms/step - loss: 0.5813 - mean_squared_logarithmic_error: 0.0709\n",
            "Epoch 284/953\n",
            "1/1 [==============================] - 0s 9ms/step - loss: 0.5805 - mean_squared_logarithmic_error: 0.0714\n",
            "Epoch 285/953\n",
            "1/1 [==============================] - 0s 7ms/step - loss: 0.5799 - mean_squared_logarithmic_error: 0.0711\n",
            "Epoch 286/953\n",
            "1/1 [==============================] - 0s 7ms/step - loss: 0.5794 - mean_squared_logarithmic_error: 0.0714\n",
            "Epoch 287/953\n",
            "1/1 [==============================] - 0s 11ms/step - loss: 0.5789 - mean_squared_logarithmic_error: 0.0709\n",
            "Epoch 288/953\n",
            "1/1 [==============================] - 0s 5ms/step - loss: 0.5783 - mean_squared_logarithmic_error: 0.0713\n",
            "Epoch 289/953\n",
            "1/1 [==============================] - 0s 9ms/step - loss: 0.5777 - mean_squared_logarithmic_error: 0.0711\n",
            "Epoch 290/953\n",
            "1/1 [==============================] - 0s 3ms/step - loss: 0.5772 - mean_squared_logarithmic_error: 0.0712\n",
            "Epoch 291/953\n",
            "1/1 [==============================] - 0s 7ms/step - loss: 0.5766 - mean_squared_logarithmic_error: 0.0711\n",
            "Epoch 292/953\n",
            "1/1 [==============================] - 0s 5ms/step - loss: 0.5762 - mean_squared_logarithmic_error: 0.0711\n",
            "Epoch 293/953\n",
            "1/1 [==============================] - 0s 7ms/step - loss: 0.5756 - mean_squared_logarithmic_error: 0.0711\n",
            "Epoch 294/953\n",
            "1/1 [==============================] - 0s 6ms/step - loss: 0.5751 - mean_squared_logarithmic_error: 0.0709\n",
            "Epoch 295/953\n",
            "1/1 [==============================] - 0s 7ms/step - loss: 0.5746 - mean_squared_logarithmic_error: 0.0712\n",
            "Epoch 296/953\n",
            "1/1 [==============================] - 0s 8ms/step - loss: 0.5742 - mean_squared_logarithmic_error: 0.0706\n",
            "Epoch 297/953\n",
            "1/1 [==============================] - 0s 6ms/step - loss: 0.5737 - mean_squared_logarithmic_error: 0.0714\n",
            "Epoch 298/953\n",
            "1/1 [==============================] - 0s 8ms/step - loss: 0.5731 - mean_squared_logarithmic_error: 0.0707\n",
            "Epoch 299/953\n",
            "1/1 [==============================] - 0s 10ms/step - loss: 0.5725 - mean_squared_logarithmic_error: 0.0709\n",
            "Epoch 300/953\n",
            "1/1 [==============================] - 0s 6ms/step - loss: 0.5718 - mean_squared_logarithmic_error: 0.0710\n",
            "Epoch 301/953\n",
            "1/1 [==============================] - 0s 7ms/step - loss: 0.5713 - mean_squared_logarithmic_error: 0.0708\n",
            "Epoch 302/953\n",
            "1/1 [==============================] - 0s 9ms/step - loss: 0.5707 - mean_squared_logarithmic_error: 0.0711\n",
            "Epoch 303/953\n",
            "1/1 [==============================] - 0s 7ms/step - loss: 0.5702 - mean_squared_logarithmic_error: 0.0706\n",
            "Epoch 304/953\n",
            "1/1 [==============================] - 0s 10ms/step - loss: 0.5695 - mean_squared_logarithmic_error: 0.0711\n",
            "Epoch 305/953\n",
            "1/1 [==============================] - 0s 7ms/step - loss: 0.5690 - mean_squared_logarithmic_error: 0.0706\n",
            "Epoch 306/953\n",
            "1/1 [==============================] - 0s 6ms/step - loss: 0.5684 - mean_squared_logarithmic_error: 0.0710\n",
            "Epoch 307/953\n",
            "1/1 [==============================] - 0s 7ms/step - loss: 0.5679 - mean_squared_logarithmic_error: 0.0705\n",
            "Epoch 308/953\n",
            "1/1 [==============================] - 0s 16ms/step - loss: 0.5673 - mean_squared_logarithmic_error: 0.0713\n",
            "Epoch 309/953\n",
            "1/1 [==============================] - 0s 11ms/step - loss: 0.5668 - mean_squared_logarithmic_error: 0.0705\n",
            "Epoch 310/953\n",
            "1/1 [==============================] - 0s 10ms/step - loss: 0.5660 - mean_squared_logarithmic_error: 0.0709\n",
            "Epoch 311/953\n",
            "1/1 [==============================] - 0s 4ms/step - loss: 0.5655 - mean_squared_logarithmic_error: 0.0708\n",
            "Epoch 312/953\n",
            "1/1 [==============================] - 0s 6ms/step - loss: 0.5650 - mean_squared_logarithmic_error: 0.0707\n",
            "Epoch 313/953\n",
            "1/1 [==============================] - 0s 6ms/step - loss: 0.5643 - mean_squared_logarithmic_error: 0.0705\n",
            "Epoch 314/953\n",
            "1/1 [==============================] - 0s 5ms/step - loss: 0.5637 - mean_squared_logarithmic_error: 0.0705\n",
            "Epoch 315/953\n",
            "1/1 [==============================] - 0s 10ms/step - loss: 0.5631 - mean_squared_logarithmic_error: 0.0703\n",
            "Epoch 316/953\n",
            "1/1 [==============================] - 0s 6ms/step - loss: 0.5622 - mean_squared_logarithmic_error: 0.0703\n",
            "Epoch 317/953\n",
            "1/1 [==============================] - 0s 6ms/step - loss: 0.5615 - mean_squared_logarithmic_error: 0.0703\n",
            "Epoch 318/953\n",
            "1/1 [==============================] - 0s 5ms/step - loss: 0.5610 - mean_squared_logarithmic_error: 0.0699\n",
            "Epoch 319/953\n",
            "1/1 [==============================] - 0s 6ms/step - loss: 0.5601 - mean_squared_logarithmic_error: 0.0702\n",
            "Epoch 320/953\n",
            "1/1 [==============================] - 0s 8ms/step - loss: 0.5595 - mean_squared_logarithmic_error: 0.0699\n",
            "Epoch 321/953\n",
            "1/1 [==============================] - 0s 5ms/step - loss: 0.5590 - mean_squared_logarithmic_error: 0.0703\n",
            "Epoch 322/953\n",
            "1/1 [==============================] - 0s 6ms/step - loss: 0.5581 - mean_squared_logarithmic_error: 0.0698\n",
            "Epoch 323/953\n",
            "1/1 [==============================] - 0s 5ms/step - loss: 0.5574 - mean_squared_logarithmic_error: 0.0700\n",
            "Epoch 324/953\n",
            "1/1 [==============================] - 0s 11ms/step - loss: 0.5568 - mean_squared_logarithmic_error: 0.0696\n",
            "Epoch 325/953\n",
            "1/1 [==============================] - 0s 6ms/step - loss: 0.5560 - mean_squared_logarithmic_error: 0.0699\n",
            "Epoch 326/953\n",
            "1/1 [==============================] - 0s 6ms/step - loss: 0.5553 - mean_squared_logarithmic_error: 0.0696\n",
            "Epoch 327/953\n",
            "1/1 [==============================] - 0s 7ms/step - loss: 0.5547 - mean_squared_logarithmic_error: 0.0699\n",
            "Epoch 328/953\n",
            "1/1 [==============================] - 0s 6ms/step - loss: 0.5540 - mean_squared_logarithmic_error: 0.0694\n",
            "Epoch 329/953\n",
            "1/1 [==============================] - 0s 6ms/step - loss: 0.5532 - mean_squared_logarithmic_error: 0.0697\n",
            "Epoch 330/953\n",
            "1/1 [==============================] - 0s 6ms/step - loss: 0.5525 - mean_squared_logarithmic_error: 0.0693\n",
            "Epoch 331/953\n",
            "1/1 [==============================] - 0s 8ms/step - loss: 0.5516 - mean_squared_logarithmic_error: 0.0695\n",
            "Epoch 332/953\n",
            "1/1 [==============================] - 0s 7ms/step - loss: 0.5508 - mean_squared_logarithmic_error: 0.0692\n",
            "Epoch 333/953\n",
            "1/1 [==============================] - 0s 6ms/step - loss: 0.5503 - mean_squared_logarithmic_error: 0.0698\n",
            "Epoch 334/953\n",
            "1/1 [==============================] - 0s 7ms/step - loss: 0.5496 - mean_squared_logarithmic_error: 0.0692\n",
            "Epoch 335/953\n",
            "1/1 [==============================] - 0s 7ms/step - loss: 0.5490 - mean_squared_logarithmic_error: 0.0698\n",
            "Epoch 336/953\n",
            "1/1 [==============================] - 0s 7ms/step - loss: 0.5479 - mean_squared_logarithmic_error: 0.0689\n",
            "Epoch 337/953\n",
            "1/1 [==============================] - 0s 6ms/step - loss: 0.5472 - mean_squared_logarithmic_error: 0.0693\n",
            "Epoch 338/953\n",
            "1/1 [==============================] - 0s 5ms/step - loss: 0.5465 - mean_squared_logarithmic_error: 0.0687\n",
            "Epoch 339/953\n",
            "1/1 [==============================] - 0s 6ms/step - loss: 0.5459 - mean_squared_logarithmic_error: 0.0696\n",
            "Epoch 340/953\n",
            "1/1 [==============================] - 0s 7ms/step - loss: 0.5451 - mean_squared_logarithmic_error: 0.0685\n",
            "Epoch 341/953\n",
            "1/1 [==============================] - 0s 6ms/step - loss: 0.5456 - mean_squared_logarithmic_error: 0.0703\n",
            "Epoch 342/953\n",
            "1/1 [==============================] - 0s 5ms/step - loss: 0.5441 - mean_squared_logarithmic_error: 0.0684\n",
            "Epoch 343/953\n",
            "1/1 [==============================] - 0s 6ms/step - loss: 0.5446 - mean_squared_logarithmic_error: 0.0703\n",
            "Epoch 344/953\n",
            "1/1 [==============================] - 0s 13ms/step - loss: 0.5430 - mean_squared_logarithmic_error: 0.0684\n",
            "Epoch 345/953\n",
            "1/1 [==============================] - 0s 9ms/step - loss: 0.5426 - mean_squared_logarithmic_error: 0.0697\n",
            "Epoch 346/953\n",
            "1/1 [==============================] - 0s 6ms/step - loss: 0.5418 - mean_squared_logarithmic_error: 0.0685\n",
            "Epoch 347/953\n",
            "1/1 [==============================] - 0s 7ms/step - loss: 0.5420 - mean_squared_logarithmic_error: 0.0701\n",
            "Epoch 348/953\n",
            "1/1 [==============================] - 0s 7ms/step - loss: 0.5413 - mean_squared_logarithmic_error: 0.0683\n",
            "Epoch 349/953\n",
            "1/1 [==============================] - 0s 7ms/step - loss: 0.5402 - mean_squared_logarithmic_error: 0.0697\n",
            "Epoch 350/953\n",
            "1/1 [==============================] - 0s 6ms/step - loss: 0.5401 - mean_squared_logarithmic_error: 0.0685\n",
            "Epoch 351/953\n",
            "1/1 [==============================] - 0s 6ms/step - loss: 0.5397 - mean_squared_logarithmic_error: 0.0701\n",
            "Epoch 352/953\n",
            "1/1 [==============================] - 0s 6ms/step - loss: 0.5393 - mean_squared_logarithmic_error: 0.0683\n",
            "Epoch 353/953\n",
            "1/1 [==============================] - 0s 5ms/step - loss: 0.5382 - mean_squared_logarithmic_error: 0.0697\n",
            "Epoch 354/953\n",
            "1/1 [==============================] - 0s 9ms/step - loss: 0.5375 - mean_squared_logarithmic_error: 0.0690\n",
            "Epoch 355/953\n",
            "1/1 [==============================] - 0s 7ms/step - loss: 0.5369 - mean_squared_logarithmic_error: 0.0692\n",
            "Epoch 356/953\n",
            "1/1 [==============================] - 0s 6ms/step - loss: 0.5365 - mean_squared_logarithmic_error: 0.0690\n",
            "Epoch 357/953\n",
            "1/1 [==============================] - 0s 9ms/step - loss: 0.5362 - mean_squared_logarithmic_error: 0.0697\n",
            "Epoch 358/953\n",
            "1/1 [==============================] - 0s 6ms/step - loss: 0.5355 - mean_squared_logarithmic_error: 0.0688\n",
            "Epoch 359/953\n",
            "1/1 [==============================] - 0s 7ms/step - loss: 0.5348 - mean_squared_logarithmic_error: 0.0693\n",
            "Epoch 360/953\n",
            "1/1 [==============================] - 0s 9ms/step - loss: 0.5346 - mean_squared_logarithmic_error: 0.0689\n",
            "Epoch 361/953\n",
            "1/1 [==============================] - 0s 7ms/step - loss: 0.5347 - mean_squared_logarithmic_error: 0.0699\n",
            "Epoch 362/953\n",
            "1/1 [==============================] - 0s 6ms/step - loss: 0.5348 - mean_squared_logarithmic_error: 0.0682\n",
            "Epoch 363/953\n",
            "1/1 [==============================] - 0s 10ms/step - loss: 0.5341 - mean_squared_logarithmic_error: 0.0702\n",
            "Epoch 364/953\n",
            "1/1 [==============================] - 0s 9ms/step - loss: 0.5336 - mean_squared_logarithmic_error: 0.0682\n",
            "Epoch 365/953\n",
            "1/1 [==============================] - 0s 9ms/step - loss: 0.5330 - mean_squared_logarithmic_error: 0.0700\n",
            "Epoch 366/953\n",
            "1/1 [==============================] - 0s 7ms/step - loss: 0.5318 - mean_squared_logarithmic_error: 0.0687\n",
            "Epoch 367/953\n",
            "1/1 [==============================] - 0s 11ms/step - loss: 0.5311 - mean_squared_logarithmic_error: 0.0691\n",
            "Epoch 368/953\n",
            "1/1 [==============================] - 0s 7ms/step - loss: 0.5306 - mean_squared_logarithmic_error: 0.0690\n",
            "Epoch 369/953\n",
            "1/1 [==============================] - 0s 8ms/step - loss: 0.5301 - mean_squared_logarithmic_error: 0.0690\n",
            "Epoch 370/953\n",
            "1/1 [==============================] - 0s 5ms/step - loss: 0.5302 - mean_squared_logarithmic_error: 0.0696\n",
            "Epoch 371/953\n",
            "1/1 [==============================] - 0s 8ms/step - loss: 0.5293 - mean_squared_logarithmic_error: 0.0686\n",
            "Epoch 372/953\n",
            "1/1 [==============================] - 0s 9ms/step - loss: 0.5287 - mean_squared_logarithmic_error: 0.0690\n",
            "Epoch 373/953\n",
            "1/1 [==============================] - 0s 12ms/step - loss: 0.5286 - mean_squared_logarithmic_error: 0.0687\n",
            "Epoch 374/953\n",
            "1/1 [==============================] - 0s 5ms/step - loss: 0.5286 - mean_squared_logarithmic_error: 0.0699\n",
            "Epoch 375/953\n",
            "1/1 [==============================] - 0s 4ms/step - loss: 0.5288 - mean_squared_logarithmic_error: 0.0679\n",
            "Epoch 376/953\n",
            "1/1 [==============================] - 0s 5ms/step - loss: 0.5280 - mean_squared_logarithmic_error: 0.0700\n",
            "Epoch 377/953\n",
            "1/1 [==============================] - 0s 8ms/step - loss: 0.5267 - mean_squared_logarithmic_error: 0.0685\n",
            "Epoch 378/953\n",
            "1/1 [==============================] - 0s 5ms/step - loss: 0.5261 - mean_squared_logarithmic_error: 0.0690\n",
            "Epoch 379/953\n",
            "1/1 [==============================] - 0s 23ms/step - loss: 0.5256 - mean_squared_logarithmic_error: 0.0689\n",
            "Epoch 380/953\n",
            "1/1 [==============================] - 0s 4ms/step - loss: 0.5252 - mean_squared_logarithmic_error: 0.0688\n",
            "Epoch 381/953\n",
            "1/1 [==============================] - 0s 6ms/step - loss: 0.5252 - mean_squared_logarithmic_error: 0.0695\n",
            "Epoch 382/953\n",
            "1/1 [==============================] - 0s 19ms/step - loss: 0.5244 - mean_squared_logarithmic_error: 0.0684\n",
            "Epoch 383/953\n",
            "1/1 [==============================] - 0s 4ms/step - loss: 0.5238 - mean_squared_logarithmic_error: 0.0692\n",
            "Epoch 384/953\n",
            "1/1 [==============================] - 0s 5ms/step - loss: 0.5236 - mean_squared_logarithmic_error: 0.0685\n",
            "Epoch 385/953\n",
            "1/1 [==============================] - 0s 9ms/step - loss: 0.5238 - mean_squared_logarithmic_error: 0.0698\n",
            "Epoch 386/953\n",
            "1/1 [==============================] - 0s 5ms/step - loss: 0.5227 - mean_squared_logarithmic_error: 0.0683\n",
            "Epoch 387/953\n",
            "1/1 [==============================] - 0s 9ms/step - loss: 0.5220 - mean_squared_logarithmic_error: 0.0689\n",
            "Epoch 388/953\n",
            "1/1 [==============================] - 0s 4ms/step - loss: 0.5216 - mean_squared_logarithmic_error: 0.0687\n",
            "Epoch 389/953\n",
            "1/1 [==============================] - 0s 4ms/step - loss: 0.5218 - mean_squared_logarithmic_error: 0.0695\n",
            "Epoch 390/953\n",
            "1/1 [==============================] - 0s 9ms/step - loss: 0.5210 - mean_squared_logarithmic_error: 0.0682\n",
            "Epoch 391/953\n",
            "1/1 [==============================] - 0s 7ms/step - loss: 0.5208 - mean_squared_logarithmic_error: 0.0695\n",
            "Epoch 392/953\n",
            "1/1 [==============================] - 0s 5ms/step - loss: 0.5204 - mean_squared_logarithmic_error: 0.0681\n",
            "Epoch 393/953\n",
            "1/1 [==============================] - 0s 4ms/step - loss: 0.5197 - mean_squared_logarithmic_error: 0.0692\n",
            "Epoch 394/953\n",
            "1/1 [==============================] - 0s 7ms/step - loss: 0.5191 - mean_squared_logarithmic_error: 0.0684\n",
            "Epoch 395/953\n",
            "1/1 [==============================] - 0s 9ms/step - loss: 0.5188 - mean_squared_logarithmic_error: 0.0692\n",
            "Epoch 396/953\n",
            "1/1 [==============================] - 0s 15ms/step - loss: 0.5185 - mean_squared_logarithmic_error: 0.0683\n",
            "Epoch 397/953\n",
            "1/1 [==============================] - 0s 13ms/step - loss: 0.5181 - mean_squared_logarithmic_error: 0.0693\n",
            "Epoch 398/953\n",
            "1/1 [==============================] - 0s 8ms/step - loss: 0.5178 - mean_squared_logarithmic_error: 0.0681\n",
            "Epoch 399/953\n",
            "1/1 [==============================] - 0s 4ms/step - loss: 0.5182 - mean_squared_logarithmic_error: 0.0698\n",
            "Epoch 400/953\n",
            "1/1 [==============================] - 0s 7ms/step - loss: 0.5170 - mean_squared_logarithmic_error: 0.0680\n",
            "Epoch 401/953\n",
            "1/1 [==============================] - 0s 7ms/step - loss: 0.5163 - mean_squared_logarithmic_error: 0.0691\n",
            "Epoch 402/953\n",
            "1/1 [==============================] - 0s 8ms/step - loss: 0.5160 - mean_squared_logarithmic_error: 0.0683\n",
            "Epoch 403/953\n",
            "1/1 [==============================] - 0s 4ms/step - loss: 0.5164 - mean_squared_logarithmic_error: 0.0697\n",
            "Epoch 404/953\n",
            "1/1 [==============================] - 0s 12ms/step - loss: 0.5154 - mean_squared_logarithmic_error: 0.0680\n",
            "Epoch 405/953\n",
            "1/1 [==============================] - 0s 19ms/step - loss: 0.5148 - mean_squared_logarithmic_error: 0.0692\n",
            "Epoch 406/953\n",
            "1/1 [==============================] - 0s 20ms/step - loss: 0.5144 - mean_squared_logarithmic_error: 0.0684\n",
            "Epoch 407/953\n",
            "1/1 [==============================] - 0s 4ms/step - loss: 0.5146 - mean_squared_logarithmic_error: 0.0696\n",
            "Epoch 408/953\n",
            "1/1 [==============================] - 0s 8ms/step - loss: 0.5142 - mean_squared_logarithmic_error: 0.0680\n",
            "Epoch 409/953\n",
            "1/1 [==============================] - 0s 5ms/step - loss: 0.5154 - mean_squared_logarithmic_error: 0.0702\n",
            "Epoch 410/953\n",
            "1/1 [==============================] - 0s 8ms/step - loss: 0.5135 - mean_squared_logarithmic_error: 0.0679\n",
            "Epoch 411/953\n",
            "1/1 [==============================] - 0s 10ms/step - loss: 0.5125 - mean_squared_logarithmic_error: 0.0693\n",
            "Epoch 412/953\n",
            "1/1 [==============================] - 0s 6ms/step - loss: 0.5121 - mean_squared_logarithmic_error: 0.0684\n",
            "Epoch 413/953\n",
            "1/1 [==============================] - 0s 7ms/step - loss: 0.5126 - mean_squared_logarithmic_error: 0.0697\n",
            "Epoch 414/953\n",
            "1/1 [==============================] - 0s 10ms/step - loss: 0.5114 - mean_squared_logarithmic_error: 0.0681\n",
            "Epoch 415/953\n",
            "1/1 [==============================] - 0s 10ms/step - loss: 0.5106 - mean_squared_logarithmic_error: 0.0691\n",
            "Epoch 416/953\n",
            "1/1 [==============================] - 0s 5ms/step - loss: 0.5100 - mean_squared_logarithmic_error: 0.0688\n",
            "Epoch 417/953\n",
            "1/1 [==============================] - 0s 13ms/step - loss: 0.5096 - mean_squared_logarithmic_error: 0.0688\n",
            "Epoch 418/953\n",
            "1/1 [==============================] - 0s 8ms/step - loss: 0.5096 - mean_squared_logarithmic_error: 0.0693\n",
            "Epoch 419/953\n",
            "1/1 [==============================] - 0s 12ms/step - loss: 0.5093 - mean_squared_logarithmic_error: 0.0684\n",
            "Epoch 420/953\n",
            "1/1 [==============================] - 0s 9ms/step - loss: 0.5106 - mean_squared_logarithmic_error: 0.0701\n",
            "Epoch 421/953\n",
            "1/1 [==============================] - 0s 15ms/step - loss: 0.5087 - mean_squared_logarithmic_error: 0.0680\n",
            "Epoch 422/953\n",
            "1/1 [==============================] - 0s 12ms/step - loss: 0.5088 - mean_squared_logarithmic_error: 0.0697\n",
            "Epoch 423/953\n",
            "1/1 [==============================] - 0s 6ms/step - loss: 0.5078 - mean_squared_logarithmic_error: 0.0682\n",
            "Epoch 424/953\n",
            "1/1 [==============================] - 0s 17ms/step - loss: 0.5073 - mean_squared_logarithmic_error: 0.0693\n",
            "Epoch 425/953\n",
            "1/1 [==============================] - 0s 7ms/step - loss: 0.5066 - mean_squared_logarithmic_error: 0.0685\n",
            "Epoch 426/953\n",
            "1/1 [==============================] - 0s 8ms/step - loss: 0.5063 - mean_squared_logarithmic_error: 0.0692\n",
            "Epoch 427/953\n",
            "1/1 [==============================] - 0s 6ms/step - loss: 0.5058 - mean_squared_logarithmic_error: 0.0685\n",
            "Epoch 428/953\n",
            "1/1 [==============================] - 0s 17ms/step - loss: 0.5058 - mean_squared_logarithmic_error: 0.0693\n",
            "Epoch 429/953\n",
            "1/1 [==============================] - 0s 10ms/step - loss: 0.5055 - mean_squared_logarithmic_error: 0.0683\n",
            "Epoch 430/953\n",
            "1/1 [==============================] - 0s 8ms/step - loss: 0.5068 - mean_squared_logarithmic_error: 0.0701\n",
            "Epoch 431/953\n",
            "1/1 [==============================] - 0s 5ms/step - loss: 0.5052 - mean_squared_logarithmic_error: 0.0681\n",
            "Epoch 432/953\n",
            "1/1 [==============================] - 0s 10ms/step - loss: 0.5066 - mean_squared_logarithmic_error: 0.0702\n",
            "Epoch 433/953\n",
            "1/1 [==============================] - 0s 11ms/step - loss: 0.5043 - mean_squared_logarithmic_error: 0.0681\n",
            "Epoch 434/953\n",
            "1/1 [==============================] - 0s 10ms/step - loss: 0.5035 - mean_squared_logarithmic_error: 0.0692\n",
            "Epoch 435/953\n",
            "1/1 [==============================] - 0s 6ms/step - loss: 0.5030 - mean_squared_logarithmic_error: 0.0685\n",
            "Epoch 436/953\n",
            "1/1 [==============================] - 0s 12ms/step - loss: 0.5040 - mean_squared_logarithmic_error: 0.0697\n",
            "Epoch 437/953\n",
            "1/1 [==============================] - 0s 5ms/step - loss: 0.5028 - mean_squared_logarithmic_error: 0.0683\n",
            "Epoch 438/953\n",
            "1/1 [==============================] - 0s 8ms/step - loss: 0.5040 - mean_squared_logarithmic_error: 0.0699\n",
            "Epoch 439/953\n",
            "1/1 [==============================] - 0s 9ms/step - loss: 0.5023 - mean_squared_logarithmic_error: 0.0682\n",
            "Epoch 440/953\n",
            "1/1 [==============================] - 0s 6ms/step - loss: 0.5017 - mean_squared_logarithmic_error: 0.0693\n",
            "Epoch 441/953\n",
            "1/1 [==============================] - 0s 14ms/step - loss: 0.5010 - mean_squared_logarithmic_error: 0.0686\n",
            "Epoch 442/953\n",
            "1/1 [==============================] - 0s 9ms/step - loss: 0.5024 - mean_squared_logarithmic_error: 0.0698\n",
            "Epoch 443/953\n",
            "1/1 [==============================] - 0s 12ms/step - loss: 0.5009 - mean_squared_logarithmic_error: 0.0683\n",
            "Epoch 444/953\n",
            "1/1 [==============================] - 0s 5ms/step - loss: 0.5003 - mean_squared_logarithmic_error: 0.0693\n",
            "Epoch 445/953\n",
            "1/1 [==============================] - 0s 8ms/step - loss: 0.5001 - mean_squared_logarithmic_error: 0.0685\n",
            "Epoch 446/953\n",
            "1/1 [==============================] - 0s 11ms/step - loss: 0.5015 - mean_squared_logarithmic_error: 0.0699\n",
            "Epoch 447/953\n",
            "1/1 [==============================] - 0s 13ms/step - loss: 0.4997 - mean_squared_logarithmic_error: 0.0682\n",
            "Epoch 448/953\n",
            "1/1 [==============================] - 0s 15ms/step - loss: 0.4990 - mean_squared_logarithmic_error: 0.0692\n",
            "Epoch 449/953\n",
            "1/1 [==============================] - 0s 7ms/step - loss: 0.4985 - mean_squared_logarithmic_error: 0.0685\n",
            "Epoch 450/953\n",
            "1/1 [==============================] - 0s 10ms/step - loss: 0.4993 - mean_squared_logarithmic_error: 0.0696\n",
            "Epoch 451/953\n",
            "1/1 [==============================] - 0s 4ms/step - loss: 0.4983 - mean_squared_logarithmic_error: 0.0683\n",
            "Epoch 452/953\n",
            "1/1 [==============================] - 0s 8ms/step - loss: 0.4994 - mean_squared_logarithmic_error: 0.0699\n",
            "Epoch 453/953\n",
            "1/1 [==============================] - 0s 12ms/step - loss: 0.4977 - mean_squared_logarithmic_error: 0.0683\n",
            "Epoch 454/953\n",
            "1/1 [==============================] - 0s 5ms/step - loss: 0.4985 - mean_squared_logarithmic_error: 0.0697\n",
            "Epoch 455/953\n",
            "1/1 [==============================] - 0s 7ms/step - loss: 0.4970 - mean_squared_logarithmic_error: 0.0683\n",
            "Epoch 456/953\n",
            "1/1 [==============================] - 0s 13ms/step - loss: 0.4968 - mean_squared_logarithmic_error: 0.0692\n",
            "Epoch 457/953\n",
            "1/1 [==============================] - 0s 5ms/step - loss: 0.4960 - mean_squared_logarithmic_error: 0.0684\n",
            "Epoch 458/953\n",
            "1/1 [==============================] - 0s 15ms/step - loss: 0.4955 - mean_squared_logarithmic_error: 0.0690\n",
            "Epoch 459/953\n",
            "1/1 [==============================] - 0s 8ms/step - loss: 0.4952 - mean_squared_logarithmic_error: 0.0685\n",
            "Epoch 460/953\n",
            "1/1 [==============================] - 0s 10ms/step - loss: 0.4965 - mean_squared_logarithmic_error: 0.0697\n",
            "Epoch 461/953\n",
            "1/1 [==============================] - 0s 14ms/step - loss: 0.4954 - mean_squared_logarithmic_error: 0.0683\n",
            "Epoch 462/953\n",
            "1/1 [==============================] - 0s 14ms/step - loss: 0.4964 - mean_squared_logarithmic_error: 0.0698\n",
            "Epoch 463/953\n",
            "1/1 [==============================] - 0s 5ms/step - loss: 0.4947 - mean_squared_logarithmic_error: 0.0682\n",
            "Epoch 464/953\n",
            "1/1 [==============================] - 0s 5ms/step - loss: 0.4942 - mean_squared_logarithmic_error: 0.0692\n",
            "Epoch 465/953\n",
            "1/1 [==============================] - 0s 13ms/step - loss: 0.4931 - mean_squared_logarithmic_error: 0.0684\n",
            "Epoch 466/953\n",
            "1/1 [==============================] - 0s 14ms/step - loss: 0.4929 - mean_squared_logarithmic_error: 0.0689\n",
            "Epoch 467/953\n",
            "1/1 [==============================] - 0s 7ms/step - loss: 0.4925 - mean_squared_logarithmic_error: 0.0685\n",
            "Epoch 468/953\n",
            "1/1 [==============================] - 0s 12ms/step - loss: 0.4935 - mean_squared_logarithmic_error: 0.0695\n",
            "Epoch 469/953\n",
            "1/1 [==============================] - 0s 6ms/step - loss: 0.4922 - mean_squared_logarithmic_error: 0.0683\n",
            "Epoch 470/953\n",
            "1/1 [==============================] - 0s 13ms/step - loss: 0.4934 - mean_squared_logarithmic_error: 0.0697\n",
            "Epoch 471/953\n",
            "1/1 [==============================] - 0s 4ms/step - loss: 0.4923 - mean_squared_logarithmic_error: 0.0682\n",
            "Epoch 472/953\n",
            "1/1 [==============================] - 0s 11ms/step - loss: 0.4925 - mean_squared_logarithmic_error: 0.0695\n",
            "Epoch 473/953\n",
            "1/1 [==============================] - 0s 19ms/step - loss: 0.4911 - mean_squared_logarithmic_error: 0.0682\n",
            "Epoch 474/953\n",
            "1/1 [==============================] - 0s 5ms/step - loss: 0.4905 - mean_squared_logarithmic_error: 0.0689\n",
            "Epoch 475/953\n",
            "1/1 [==============================] - 0s 17ms/step - loss: 0.4900 - mean_squared_logarithmic_error: 0.0684\n",
            "Epoch 476/953\n",
            "1/1 [==============================] - 0s 14ms/step - loss: 0.4913 - mean_squared_logarithmic_error: 0.0696\n",
            "Epoch 477/953\n",
            "1/1 [==============================] - 0s 7ms/step - loss: 0.4896 - mean_squared_logarithmic_error: 0.0682\n",
            "Epoch 478/953\n",
            "1/1 [==============================] - 0s 26ms/step - loss: 0.4900 - mean_squared_logarithmic_error: 0.0693\n",
            "Epoch 479/953\n",
            "1/1 [==============================] - 0s 7ms/step - loss: 0.4889 - mean_squared_logarithmic_error: 0.0682\n",
            "Epoch 480/953\n",
            "1/1 [==============================] - 0s 18ms/step - loss: 0.4893 - mean_squared_logarithmic_error: 0.0693\n",
            "Epoch 481/953\n",
            "1/1 [==============================] - 0s 7ms/step - loss: 0.4881 - mean_squared_logarithmic_error: 0.0683\n",
            "Epoch 482/953\n",
            "1/1 [==============================] - 0s 4ms/step - loss: 0.4887 - mean_squared_logarithmic_error: 0.0692\n",
            "Epoch 483/953\n",
            "1/1 [==============================] - 0s 5ms/step - loss: 0.4873 - mean_squared_logarithmic_error: 0.0683\n",
            "Epoch 484/953\n",
            "1/1 [==============================] - 0s 14ms/step - loss: 0.4887 - mean_squared_logarithmic_error: 0.0695\n",
            "Epoch 485/953\n",
            "1/1 [==============================] - 0s 6ms/step - loss: 0.4870 - mean_squared_logarithmic_error: 0.0682\n",
            "Epoch 486/953\n",
            "1/1 [==============================] - 0s 16ms/step - loss: 0.4877 - mean_squared_logarithmic_error: 0.0694\n",
            "Epoch 487/953\n",
            "1/1 [==============================] - 0s 8ms/step - loss: 0.4864 - mean_squared_logarithmic_error: 0.0682\n",
            "Epoch 488/953\n",
            "1/1 [==============================] - 0s 7ms/step - loss: 0.4874 - mean_squared_logarithmic_error: 0.0695\n",
            "Epoch 489/953\n",
            "1/1 [==============================] - 0s 5ms/step - loss: 0.4857 - mean_squared_logarithmic_error: 0.0681\n",
            "Epoch 490/953\n",
            "1/1 [==============================] - 0s 16ms/step - loss: 0.4870 - mean_squared_logarithmic_error: 0.0696\n",
            "Epoch 491/953\n",
            "1/1 [==============================] - 0s 4ms/step - loss: 0.4852 - mean_squared_logarithmic_error: 0.0681\n",
            "Epoch 492/953\n",
            "1/1 [==============================] - 0s 8ms/step - loss: 0.4842 - mean_squared_logarithmic_error: 0.0688\n",
            "Epoch 493/953\n",
            "1/1 [==============================] - 0s 14ms/step - loss: 0.4839 - mean_squared_logarithmic_error: 0.0682\n",
            "Epoch 494/953\n",
            "1/1 [==============================] - 0s 8ms/step - loss: 0.4854 - mean_squared_logarithmic_error: 0.0696\n",
            "Epoch 495/953\n",
            "1/1 [==============================] - 0s 4ms/step - loss: 0.4838 - mean_squared_logarithmic_error: 0.0681\n",
            "Epoch 496/953\n",
            "1/1 [==============================] - 0s 10ms/step - loss: 0.4831 - mean_squared_logarithmic_error: 0.0690\n",
            "Epoch 497/953\n",
            "1/1 [==============================] - 0s 5ms/step - loss: 0.4828 - mean_squared_logarithmic_error: 0.0682\n",
            "Epoch 498/953\n",
            "1/1 [==============================] - 0s 10ms/step - loss: 0.4840 - mean_squared_logarithmic_error: 0.0696\n",
            "Epoch 499/953\n",
            "1/1 [==============================] - 0s 5ms/step - loss: 0.4826 - mean_squared_logarithmic_error: 0.0681\n",
            "Epoch 500/953\n",
            "1/1 [==============================] - 0s 12ms/step - loss: 0.4841 - mean_squared_logarithmic_error: 0.0696\n",
            "Epoch 501/953\n",
            "1/1 [==============================] - 0s 4ms/step - loss: 0.4821 - mean_squared_logarithmic_error: 0.0680\n",
            "Epoch 502/953\n",
            "1/1 [==============================] - 0s 20ms/step - loss: 0.4808 - mean_squared_logarithmic_error: 0.0687\n",
            "Epoch 503/953\n",
            "1/1 [==============================] - 0s 8ms/step - loss: 0.4799 - mean_squared_logarithmic_error: 0.0683\n",
            "Epoch 504/953\n",
            "1/1 [==============================] - 0s 14ms/step - loss: 0.4795 - mean_squared_logarithmic_error: 0.0685\n",
            "Epoch 505/953\n",
            "1/1 [==============================] - 0s 6ms/step - loss: 0.4801 - mean_squared_logarithmic_error: 0.0682\n",
            "Epoch 506/953\n",
            "1/1 [==============================] - 0s 7ms/step - loss: 0.4809 - mean_squared_logarithmic_error: 0.0693\n",
            "Epoch 507/953\n",
            "1/1 [==============================] - 0s 12ms/step - loss: 0.4803 - mean_squared_logarithmic_error: 0.0680\n",
            "Epoch 508/953\n",
            "1/1 [==============================] - 0s 5ms/step - loss: 0.4817 - mean_squared_logarithmic_error: 0.0691\n",
            "Epoch 509/953\n",
            "1/1 [==============================] - 0s 16ms/step - loss: 0.4796 - mean_squared_logarithmic_error: 0.0680\n",
            "Epoch 510/953\n",
            "1/1 [==============================] - 0s 6ms/step - loss: 0.4806 - mean_squared_logarithmic_error: 0.0690\n",
            "Epoch 511/953\n",
            "1/1 [==============================] - 0s 6ms/step - loss: 0.4781 - mean_squared_logarithmic_error: 0.0680\n",
            "Epoch 512/953\n",
            "1/1 [==============================] - 0s 23ms/step - loss: 0.4776 - mean_squared_logarithmic_error: 0.0688\n",
            "Epoch 513/953\n",
            "1/1 [==============================] - 0s 63ms/step - loss: 0.4770 - mean_squared_logarithmic_error: 0.0680\n",
            "Epoch 514/953\n",
            "1/1 [==============================] - 0s 6ms/step - loss: 0.4778 - mean_squared_logarithmic_error: 0.0687\n",
            "Epoch 515/953\n",
            "1/1 [==============================] - 0s 37ms/step - loss: 0.4768 - mean_squared_logarithmic_error: 0.0679\n",
            "Epoch 516/953\n",
            "1/1 [==============================] - 0s 20ms/step - loss: 0.4775 - mean_squared_logarithmic_error: 0.0686\n",
            "Epoch 517/953\n",
            "1/1 [==============================] - 0s 7ms/step - loss: 0.4768 - mean_squared_logarithmic_error: 0.0679\n",
            "Epoch 518/953\n",
            "1/1 [==============================] - 0s 5ms/step - loss: 0.4780 - mean_squared_logarithmic_error: 0.0685\n",
            "Epoch 519/953\n",
            "1/1 [==============================] - 0s 5ms/step - loss: 0.4763 - mean_squared_logarithmic_error: 0.0679\n",
            "Epoch 520/953\n",
            "1/1 [==============================] - 0s 8ms/step - loss: 0.4760 - mean_squared_logarithmic_error: 0.0684\n",
            "Epoch 521/953\n",
            "1/1 [==============================] - 0s 6ms/step - loss: 0.4744 - mean_squared_logarithmic_error: 0.0679\n",
            "Epoch 522/953\n",
            "1/1 [==============================] - 0s 6ms/step - loss: 0.4737 - mean_squared_logarithmic_error: 0.0683\n",
            "Epoch 523/953\n",
            "1/1 [==============================] - 0s 17ms/step - loss: 0.4739 - mean_squared_logarithmic_error: 0.0679\n",
            "Epoch 524/953\n",
            "1/1 [==============================] - 0s 7ms/step - loss: 0.4749 - mean_squared_logarithmic_error: 0.0681\n",
            "Epoch 525/953\n",
            "1/1 [==============================] - 0s 8ms/step - loss: 0.4740 - mean_squared_logarithmic_error: 0.0678\n",
            "Epoch 526/953\n",
            "1/1 [==============================] - 0s 12ms/step - loss: 0.4756 - mean_squared_logarithmic_error: 0.0681\n",
            "Epoch 527/953\n",
            "1/1 [==============================] - 0s 6ms/step - loss: 0.4726 - mean_squared_logarithmic_error: 0.0678\n",
            "Epoch 528/953\n",
            "1/1 [==============================] - 0s 10ms/step - loss: 0.4719 - mean_squared_logarithmic_error: 0.0679\n",
            "Epoch 529/953\n",
            "1/1 [==============================] - 0s 4ms/step - loss: 0.4716 - mean_squared_logarithmic_error: 0.0678\n",
            "Epoch 530/953\n",
            "1/1 [==============================] - 0s 4ms/step - loss: 0.4730 - mean_squared_logarithmic_error: 0.0677\n",
            "Epoch 531/953\n",
            "1/1 [==============================] - 0s 9ms/step - loss: 0.4717 - mean_squared_logarithmic_error: 0.0677\n",
            "Epoch 532/953\n",
            "1/1 [==============================] - 0s 4ms/step - loss: 0.4731 - mean_squared_logarithmic_error: 0.0677\n",
            "Epoch 533/953\n",
            "1/1 [==============================] - 0s 5ms/step - loss: 0.4701 - mean_squared_logarithmic_error: 0.0677\n",
            "Epoch 534/953\n",
            "1/1 [==============================] - 0s 7ms/step - loss: 0.4690 - mean_squared_logarithmic_error: 0.0675\n",
            "Epoch 535/953\n",
            "1/1 [==============================] - 0s 9ms/step - loss: 0.4688 - mean_squared_logarithmic_error: 0.0678\n",
            "Epoch 536/953\n",
            "1/1 [==============================] - 0s 4ms/step - loss: 0.4697 - mean_squared_logarithmic_error: 0.0674\n",
            "Epoch 537/953\n",
            "1/1 [==============================] - 0s 4ms/step - loss: 0.4693 - mean_squared_logarithmic_error: 0.0676\n",
            "Epoch 538/953\n",
            "1/1 [==============================] - 0s 5ms/step - loss: 0.4705 - mean_squared_logarithmic_error: 0.0673\n",
            "Epoch 539/953\n",
            "1/1 [==============================] - 0s 10ms/step - loss: 0.4688 - mean_squared_logarithmic_error: 0.0676\n",
            "Epoch 540/953\n",
            "1/1 [==============================] - 0s 5ms/step - loss: 0.4700 - mean_squared_logarithmic_error: 0.0672\n",
            "Epoch 541/953\n",
            "1/1 [==============================] - 0s 6ms/step - loss: 0.4673 - mean_squared_logarithmic_error: 0.0675\n",
            "Epoch 542/953\n",
            "1/1 [==============================] - 0s 7ms/step - loss: 0.4678 - mean_squared_logarithmic_error: 0.0669\n",
            "Epoch 543/953\n",
            "1/1 [==============================] - 0s 8ms/step - loss: 0.4667 - mean_squared_logarithmic_error: 0.0675\n",
            "Epoch 544/953\n",
            "1/1 [==============================] - 0s 4ms/step - loss: 0.4684 - mean_squared_logarithmic_error: 0.0669\n",
            "Epoch 545/953\n",
            "1/1 [==============================] - 0s 10ms/step - loss: 0.4666 - mean_squared_logarithmic_error: 0.0675\n",
            "Epoch 546/953\n",
            "1/1 [==============================] - 0s 18ms/step - loss: 0.4657 - mean_squared_logarithmic_error: 0.0668\n",
            "Epoch 547/953\n",
            "1/1 [==============================] - 0s 37ms/step - loss: 0.4643 - mean_squared_logarithmic_error: 0.0674\n",
            "Epoch 548/953\n",
            "1/1 [==============================] - 0s 11ms/step - loss: 0.4651 - mean_squared_logarithmic_error: 0.0666\n",
            "Epoch 549/953\n",
            "1/1 [==============================] - 0s 6ms/step - loss: 0.4644 - mean_squared_logarithmic_error: 0.0675\n",
            "Epoch 550/953\n",
            "1/1 [==============================] - 0s 13ms/step - loss: 0.4666 - mean_squared_logarithmic_error: 0.0666\n",
            "Epoch 551/953\n",
            "1/1 [==============================] - 0s 15ms/step - loss: 0.4645 - mean_squared_logarithmic_error: 0.0674\n",
            "Epoch 552/953\n",
            "1/1 [==============================] - 0s 18ms/step - loss: 0.4645 - mean_squared_logarithmic_error: 0.0664\n",
            "Epoch 553/953\n",
            "1/1 [==============================] - 0s 7ms/step - loss: 0.4623 - mean_squared_logarithmic_error: 0.0670\n",
            "Epoch 554/953\n",
            "1/1 [==============================] - 0s 8ms/step - loss: 0.4620 - mean_squared_logarithmic_error: 0.0661\n",
            "Epoch 555/953\n",
            "1/1 [==============================] - 0s 6ms/step - loss: 0.4614 - mean_squared_logarithmic_error: 0.0669\n",
            "Epoch 556/953\n",
            "1/1 [==============================] - 0s 9ms/step - loss: 0.4635 - mean_squared_logarithmic_error: 0.0662\n",
            "Epoch 557/953\n",
            "1/1 [==============================] - 0s 13ms/step - loss: 0.4610 - mean_squared_logarithmic_error: 0.0668\n",
            "Epoch 558/953\n",
            "1/1 [==============================] - 0s 9ms/step - loss: 0.4612 - mean_squared_logarithmic_error: 0.0660\n",
            "Epoch 559/953\n",
            "1/1 [==============================] - 0s 5ms/step - loss: 0.4605 - mean_squared_logarithmic_error: 0.0668\n",
            "Epoch 560/953\n",
            "1/1 [==============================] - 0s 7ms/step - loss: 0.4620 - mean_squared_logarithmic_error: 0.0659\n",
            "Epoch 561/953\n",
            "1/1 [==============================] - 0s 5ms/step - loss: 0.4610 - mean_squared_logarithmic_error: 0.0670\n",
            "Epoch 562/953\n",
            "1/1 [==============================] - 0s 5ms/step - loss: 0.4625 - mean_squared_logarithmic_error: 0.0659\n",
            "Epoch 563/953\n",
            "1/1 [==============================] - 0s 7ms/step - loss: 0.4593 - mean_squared_logarithmic_error: 0.0666\n",
            "Epoch 564/953\n",
            "1/1 [==============================] - 0s 8ms/step - loss: 0.4602 - mean_squared_logarithmic_error: 0.0656\n",
            "Epoch 565/953\n",
            "1/1 [==============================] - 0s 12ms/step - loss: 0.4588 - mean_squared_logarithmic_error: 0.0666\n",
            "Epoch 566/953\n",
            "1/1 [==============================] - 0s 6ms/step - loss: 0.4602 - mean_squared_logarithmic_error: 0.0656\n",
            "Epoch 567/953\n",
            "1/1 [==============================] - 0s 8ms/step - loss: 0.4585 - mean_squared_logarithmic_error: 0.0668\n",
            "Epoch 568/953\n",
            "1/1 [==============================] - 0s 13ms/step - loss: 0.4603 - mean_squared_logarithmic_error: 0.0656\n",
            "Epoch 569/953\n",
            "1/1 [==============================] - 0s 7ms/step - loss: 0.4572 - mean_squared_logarithmic_error: 0.0664\n",
            "Epoch 570/953\n",
            "1/1 [==============================] - 0s 5ms/step - loss: 0.4574 - mean_squared_logarithmic_error: 0.0652\n",
            "Epoch 571/953\n",
            "1/1 [==============================] - 0s 5ms/step - loss: 0.4566 - mean_squared_logarithmic_error: 0.0663\n",
            "Epoch 572/953\n",
            "1/1 [==============================] - 0s 16ms/step - loss: 0.4581 - mean_squared_logarithmic_error: 0.0653\n",
            "Epoch 573/953\n",
            "1/1 [==============================] - 0s 11ms/step - loss: 0.4553 - mean_squared_logarithmic_error: 0.0659\n",
            "Epoch 574/953\n",
            "1/1 [==============================] - 0s 33ms/step - loss: 0.4542 - mean_squared_logarithmic_error: 0.0650\n",
            "Epoch 575/953\n",
            "1/1 [==============================] - 0s 5ms/step - loss: 0.4541 - mean_squared_logarithmic_error: 0.0657\n",
            "Epoch 576/953\n",
            "1/1 [==============================] - 0s 8ms/step - loss: 0.4559 - mean_squared_logarithmic_error: 0.0651\n",
            "Epoch 577/953\n",
            "1/1 [==============================] - 0s 10ms/step - loss: 0.4555 - mean_squared_logarithmic_error: 0.0662\n",
            "Epoch 578/953\n",
            "1/1 [==============================] - 0s 5ms/step - loss: 0.4573 - mean_squared_logarithmic_error: 0.0651\n",
            "Epoch 579/953\n",
            "1/1 [==============================] - 0s 7ms/step - loss: 0.4538 - mean_squared_logarithmic_error: 0.0659\n",
            "Epoch 580/953\n",
            "1/1 [==============================] - 0s 7ms/step - loss: 0.4552 - mean_squared_logarithmic_error: 0.0649\n",
            "Epoch 581/953\n",
            "1/1 [==============================] - 0s 7ms/step - loss: 0.4544 - mean_squared_logarithmic_error: 0.0661\n",
            "Epoch 582/953\n",
            "1/1 [==============================] - 0s 5ms/step - loss: 0.4569 - mean_squared_logarithmic_error: 0.0650\n",
            "Epoch 583/953\n",
            "1/1 [==============================] - 0s 16ms/step - loss: 0.4531 - mean_squared_logarithmic_error: 0.0658\n",
            "Epoch 584/953\n",
            "1/1 [==============================] - 0s 6ms/step - loss: 0.4549 - mean_squared_logarithmic_error: 0.0647\n",
            "Epoch 585/953\n",
            "1/1 [==============================] - 0s 7ms/step - loss: 0.4530 - mean_squared_logarithmic_error: 0.0660\n",
            "Epoch 586/953\n",
            "1/1 [==============================] - 0s 5ms/step - loss: 0.4551 - mean_squared_logarithmic_error: 0.0647\n",
            "Epoch 587/953\n",
            "1/1 [==============================] - 0s 15ms/step - loss: 0.4514 - mean_squared_logarithmic_error: 0.0655\n",
            "Epoch 588/953\n",
            "1/1 [==============================] - 0s 13ms/step - loss: 0.4502 - mean_squared_logarithmic_error: 0.0642\n",
            "Epoch 589/953\n",
            "1/1 [==============================] - 0s 6ms/step - loss: 0.4496 - mean_squared_logarithmic_error: 0.0651\n",
            "Epoch 590/953\n",
            "1/1 [==============================] - 0s 8ms/step - loss: 0.4509 - mean_squared_logarithmic_error: 0.0643\n",
            "Epoch 591/953\n",
            "1/1 [==============================] - 0s 6ms/step - loss: 0.4493 - mean_squared_logarithmic_error: 0.0650\n",
            "Epoch 592/953\n",
            "1/1 [==============================] - 0s 9ms/step - loss: 0.4519 - mean_squared_logarithmic_error: 0.0643\n",
            "Epoch 593/953\n",
            "1/1 [==============================] - 0s 10ms/step - loss: 0.4502 - mean_squared_logarithmic_error: 0.0655\n",
            "Epoch 594/953\n",
            "1/1 [==============================] - 0s 5ms/step - loss: 0.4524 - mean_squared_logarithmic_error: 0.0643\n",
            "Epoch 595/953\n",
            "1/1 [==============================] - 0s 10ms/step - loss: 0.4487 - mean_squared_logarithmic_error: 0.0651\n",
            "Epoch 596/953\n",
            "1/1 [==============================] - 0s 10ms/step - loss: 0.4481 - mean_squared_logarithmic_error: 0.0639\n",
            "Epoch 597/953\n",
            "1/1 [==============================] - 0s 5ms/step - loss: 0.4482 - mean_squared_logarithmic_error: 0.0650\n",
            "Epoch 598/953\n",
            "1/1 [==============================] - 0s 4ms/step - loss: 0.4502 - mean_squared_logarithmic_error: 0.0641\n",
            "Epoch 599/953\n",
            "1/1 [==============================] - 0s 8ms/step - loss: 0.4474 - mean_squared_logarithmic_error: 0.0649\n",
            "Epoch 600/953\n",
            "1/1 [==============================] - 0s 9ms/step - loss: 0.4501 - mean_squared_logarithmic_error: 0.0640\n",
            "Epoch 601/953\n",
            "1/1 [==============================] - 0s 27ms/step - loss: 0.4484 - mean_squared_logarithmic_error: 0.0654\n",
            "Epoch 602/953\n",
            "1/1 [==============================] - 0s 13ms/step - loss: 0.4509 - mean_squared_logarithmic_error: 0.0641\n",
            "Epoch 603/953\n",
            "1/1 [==============================] - 0s 9ms/step - loss: 0.4483 - mean_squared_logarithmic_error: 0.0656\n",
            "Epoch 604/953\n",
            "1/1 [==============================] - 0s 6ms/step - loss: 0.4506 - mean_squared_logarithmic_error: 0.0641\n",
            "Epoch 605/953\n",
            "1/1 [==============================] - 0s 9ms/step - loss: 0.4460 - mean_squared_logarithmic_error: 0.0650\n",
            "Epoch 606/953\n",
            "1/1 [==============================] - 0s 4ms/step - loss: 0.4484 - mean_squared_logarithmic_error: 0.0638\n",
            "Epoch 607/953\n",
            "1/1 [==============================] - 0s 4ms/step - loss: 0.4447 - mean_squared_logarithmic_error: 0.0647\n",
            "Epoch 608/953\n",
            "1/1 [==============================] - 0s 7ms/step - loss: 0.4448 - mean_squared_logarithmic_error: 0.0634\n",
            "Epoch 609/953\n",
            "1/1 [==============================] - 0s 4ms/step - loss: 0.4441 - mean_squared_logarithmic_error: 0.0646\n",
            "Epoch 610/953\n",
            "1/1 [==============================] - 0s 5ms/step - loss: 0.4472 - mean_squared_logarithmic_error: 0.0637\n",
            "Epoch 611/953\n",
            "1/1 [==============================] - 0s 14ms/step - loss: 0.4434 - mean_squared_logarithmic_error: 0.0645\n",
            "Epoch 612/953\n",
            "1/1 [==============================] - 0s 10ms/step - loss: 0.4465 - mean_squared_logarithmic_error: 0.0635\n",
            "Epoch 613/953\n",
            "1/1 [==============================] - 0s 7ms/step - loss: 0.4443 - mean_squared_logarithmic_error: 0.0649\n",
            "Epoch 614/953\n",
            "1/1 [==============================] - 0s 17ms/step - loss: 0.4471 - mean_squared_logarithmic_error: 0.0635\n",
            "Epoch 615/953\n",
            "1/1 [==============================] - 0s 8ms/step - loss: 0.4425 - mean_squared_logarithmic_error: 0.0644\n",
            "Epoch 616/953\n",
            "1/1 [==============================] - 0s 6ms/step - loss: 0.4410 - mean_squared_logarithmic_error: 0.0628\n",
            "Epoch 617/953\n",
            "1/1 [==============================] - 0s 11ms/step - loss: 0.4393 - mean_squared_logarithmic_error: 0.0635\n",
            "Epoch 618/953\n",
            "1/1 [==============================] - 0s 13ms/step - loss: 0.4404 - mean_squared_logarithmic_error: 0.0627\n",
            "Epoch 619/953\n",
            "1/1 [==============================] - 0s 15ms/step - loss: 0.4400 - mean_squared_logarithmic_error: 0.0638\n",
            "Epoch 620/953\n",
            "1/1 [==============================] - 0s 15ms/step - loss: 0.4425 - mean_squared_logarithmic_error: 0.0629\n",
            "Epoch 621/953\n",
            "1/1 [==============================] - 0s 11ms/step - loss: 0.4397 - mean_squared_logarithmic_error: 0.0637\n",
            "Epoch 622/953\n",
            "1/1 [==============================] - 0s 14ms/step - loss: 0.4433 - mean_squared_logarithmic_error: 0.0629\n",
            "Epoch 623/953\n",
            "1/1 [==============================] - 0s 9ms/step - loss: 0.4408 - mean_squared_logarithmic_error: 0.0643\n",
            "Epoch 624/953\n",
            "1/1 [==============================] - 0s 7ms/step - loss: 0.4440 - mean_squared_logarithmic_error: 0.0631\n",
            "Epoch 625/953\n",
            "1/1 [==============================] - 0s 8ms/step - loss: 0.4450 - mean_squared_logarithmic_error: 0.0654\n",
            "Epoch 626/953\n",
            "1/1 [==============================] - 0s 5ms/step - loss: 0.4445 - mean_squared_logarithmic_error: 0.0630\n",
            "Epoch 627/953\n",
            "1/1 [==============================] - 0s 10ms/step - loss: 0.4405 - mean_squared_logarithmic_error: 0.0643\n",
            "Epoch 628/953\n",
            "1/1 [==============================] - 0s 5ms/step - loss: 0.4393 - mean_squared_logarithmic_error: 0.0621\n",
            "Epoch 629/953\n",
            "1/1 [==============================] - 0s 4ms/step - loss: 0.4357 - mean_squared_logarithmic_error: 0.0628\n",
            "Epoch 630/953\n",
            "1/1 [==============================] - 0s 5ms/step - loss: 0.4341 - mean_squared_logarithmic_error: 0.0616\n",
            "Epoch 631/953\n",
            "1/1 [==============================] - 0s 6ms/step - loss: 0.4334 - mean_squared_logarithmic_error: 0.0620\n",
            "Epoch 632/953\n",
            "1/1 [==============================] - 0s 8ms/step - loss: 0.4338 - mean_squared_logarithmic_error: 0.0615\n",
            "Epoch 633/953\n",
            "1/1 [==============================] - 0s 10ms/step - loss: 0.4339 - mean_squared_logarithmic_error: 0.0623\n",
            "Epoch 634/953\n",
            "1/1 [==============================] - 0s 5ms/step - loss: 0.4380 - mean_squared_logarithmic_error: 0.0621\n",
            "Epoch 635/953\n",
            "1/1 [==============================] - 0s 11ms/step - loss: 0.4343 - mean_squared_logarithmic_error: 0.0626\n",
            "Epoch 636/953\n",
            "1/1 [==============================] - 0s 24ms/step - loss: 0.4384 - mean_squared_logarithmic_error: 0.0622\n",
            "Epoch 637/953\n",
            "1/1 [==============================] - 0s 7ms/step - loss: 0.4429 - mean_squared_logarithmic_error: 0.0650\n",
            "Epoch 638/953\n",
            "1/1 [==============================] - 0s 9ms/step - loss: 0.4420 - mean_squared_logarithmic_error: 0.0628\n",
            "Epoch 639/953\n",
            "1/1 [==============================] - 0s 5ms/step - loss: 0.4428 - mean_squared_logarithmic_error: 0.0649\n",
            "Epoch 640/953\n",
            "1/1 [==============================] - 0s 10ms/step - loss: 0.4440 - mean_squared_logarithmic_error: 0.0630\n",
            "Epoch 641/953\n",
            "1/1 [==============================] - 0s 5ms/step - loss: 0.4385 - mean_squared_logarithmic_error: 0.0642\n",
            "Epoch 642/953\n",
            "1/1 [==============================] - 0s 5ms/step - loss: 0.4399 - mean_squared_logarithmic_error: 0.0622\n",
            "Epoch 643/953\n",
            "1/1 [==============================] - 0s 5ms/step - loss: 0.4338 - mean_squared_logarithmic_error: 0.0628\n",
            "Epoch 644/953\n",
            "1/1 [==============================] - 0s 4ms/step - loss: 0.4349 - mean_squared_logarithmic_error: 0.0612\n",
            "Epoch 645/953\n",
            "1/1 [==============================] - 0s 7ms/step - loss: 0.4304 - mean_squared_logarithmic_error: 0.0618\n",
            "Epoch 646/953\n",
            "1/1 [==============================] - 0s 5ms/step - loss: 0.4292 - mean_squared_logarithmic_error: 0.0605\n",
            "Epoch 647/953\n",
            "1/1 [==============================] - 0s 4ms/step - loss: 0.4277 - mean_squared_logarithmic_error: 0.0610\n",
            "Epoch 648/953\n",
            "1/1 [==============================] - 0s 11ms/step - loss: 0.4297 - mean_squared_logarithmic_error: 0.0604\n",
            "Epoch 649/953\n",
            "1/1 [==============================] - 0s 4ms/step - loss: 0.4297 - mean_squared_logarithmic_error: 0.0616\n",
            "Epoch 650/953\n",
            "1/1 [==============================] - 0s 4ms/step - loss: 0.4338 - mean_squared_logarithmic_error: 0.0613\n",
            "Epoch 651/953\n",
            "1/1 [==============================] - 0s 4ms/step - loss: 0.4310 - mean_squared_logarithmic_error: 0.0620\n",
            "Epoch 652/953\n",
            "1/1 [==============================] - 0s 5ms/step - loss: 0.4411 - mean_squared_logarithmic_error: 0.0628\n",
            "Epoch 653/953\n",
            "1/1 [==============================] - 0s 9ms/step - loss: 0.4470 - mean_squared_logarithmic_error: 0.0665\n",
            "Epoch 654/953\n",
            "1/1 [==============================] - 0s 4ms/step - loss: 0.4468 - mean_squared_logarithmic_error: 0.0637\n",
            "Epoch 655/953\n",
            "1/1 [==============================] - 0s 9ms/step - loss: 0.4519 - mean_squared_logarithmic_error: 0.0677\n",
            "Epoch 656/953\n",
            "1/1 [==============================] - 0s 15ms/step - loss: 0.4494 - mean_squared_logarithmic_error: 0.0636\n",
            "Epoch 657/953\n",
            "1/1 [==============================] - 0s 14ms/step - loss: 0.4484 - mean_squared_logarithmic_error: 0.0672\n",
            "Epoch 658/953\n",
            "1/1 [==============================] - 0s 9ms/step - loss: 0.4467 - mean_squared_logarithmic_error: 0.0636\n",
            "Epoch 659/953\n",
            "1/1 [==============================] - 0s 5ms/step - loss: 0.4510 - mean_squared_logarithmic_error: 0.0680\n",
            "Epoch 660/953\n",
            "1/1 [==============================] - 0s 5ms/step - loss: 0.4477 - mean_squared_logarithmic_error: 0.0636\n",
            "Epoch 661/953\n",
            "1/1 [==============================] - 0s 8ms/step - loss: 0.4369 - mean_squared_logarithmic_error: 0.0649\n",
            "Epoch 662/953\n",
            "1/1 [==============================] - 0s 5ms/step - loss: 0.4392 - mean_squared_logarithmic_error: 0.0625\n",
            "Epoch 663/953\n",
            "1/1 [==============================] - 0s 4ms/step - loss: 0.4312 - mean_squared_logarithmic_error: 0.0634\n",
            "Epoch 664/953\n",
            "1/1 [==============================] - 0s 7ms/step - loss: 0.4315 - mean_squared_logarithmic_error: 0.0613\n",
            "Epoch 665/953\n",
            "1/1 [==============================] - 0s 11ms/step - loss: 0.4262 - mean_squared_logarithmic_error: 0.0619\n",
            "Epoch 666/953\n",
            "1/1 [==============================] - 0s 6ms/step - loss: 0.4269 - mean_squared_logarithmic_error: 0.0605\n",
            "Epoch 667/953\n",
            "1/1 [==============================] - 0s 12ms/step - loss: 0.4250 - mean_squared_logarithmic_error: 0.0617\n",
            "Epoch 668/953\n",
            "1/1 [==============================] - 0s 5ms/step - loss: 0.4261 - mean_squared_logarithmic_error: 0.0605\n",
            "Epoch 669/953\n",
            "1/1 [==============================] - 0s 9ms/step - loss: 0.4229 - mean_squared_logarithmic_error: 0.0612\n",
            "Epoch 670/953\n",
            "1/1 [==============================] - 0s 6ms/step - loss: 0.4263 - mean_squared_logarithmic_error: 0.0604\n",
            "Epoch 671/953\n",
            "1/1 [==============================] - 0s 5ms/step - loss: 0.4233 - mean_squared_logarithmic_error: 0.0613\n",
            "Epoch 672/953\n",
            "1/1 [==============================] - 0s 8ms/step - loss: 0.4339 - mean_squared_logarithmic_error: 0.0622\n",
            "Epoch 673/953\n",
            "1/1 [==============================] - 0s 7ms/step - loss: 0.4420 - mean_squared_logarithmic_error: 0.0661\n",
            "Epoch 674/953\n",
            "1/1 [==============================] - 0s 17ms/step - loss: 0.4436 - mean_squared_logarithmic_error: 0.0632\n",
            "Epoch 675/953\n",
            "1/1 [==============================] - 0s 11ms/step - loss: 0.4498 - mean_squared_logarithmic_error: 0.0683\n",
            "Epoch 676/953\n",
            "1/1 [==============================] - 0s 11ms/step - loss: 0.4460 - mean_squared_logarithmic_error: 0.0631\n",
            "Epoch 677/953\n",
            "1/1 [==============================] - 0s 6ms/step - loss: 0.4470 - mean_squared_logarithmic_error: 0.0677\n",
            "Epoch 678/953\n",
            "1/1 [==============================] - 0s 7ms/step - loss: 0.4441 - mean_squared_logarithmic_error: 0.0632\n",
            "Epoch 679/953\n",
            "1/1 [==============================] - 0s 6ms/step - loss: 0.4345 - mean_squared_logarithmic_error: 0.0650\n",
            "Epoch 680/953\n",
            "1/1 [==============================] - 0s 4ms/step - loss: 0.4417 - mean_squared_logarithmic_error: 0.0630\n",
            "Epoch 681/953\n",
            "1/1 [==============================] - 0s 5ms/step - loss: 0.4357 - mean_squared_logarithmic_error: 0.0657\n",
            "Epoch 682/953\n",
            "1/1 [==============================] - 0s 5ms/step - loss: 0.4412 - mean_squared_logarithmic_error: 0.0629\n",
            "Epoch 683/953\n",
            "1/1 [==============================] - 0s 8ms/step - loss: 0.4408 - mean_squared_logarithmic_error: 0.0668\n",
            "Epoch 684/953\n",
            "1/1 [==============================] - 0s 5ms/step - loss: 0.4445 - mean_squared_logarithmic_error: 0.0635\n",
            "Epoch 685/953\n",
            "1/1 [==============================] - 0s 13ms/step - loss: 0.4377 - mean_squared_logarithmic_error: 0.0664\n",
            "Epoch 686/953\n",
            "1/1 [==============================] - 0s 6ms/step - loss: 0.4437 - mean_squared_logarithmic_error: 0.0629\n",
            "Epoch 687/953\n",
            "1/1 [==============================] - 0s 4ms/step - loss: 0.4318 - mean_squared_logarithmic_error: 0.0652\n",
            "Epoch 688/953\n",
            "1/1 [==============================] - 0s 4ms/step - loss: 0.4336 - mean_squared_logarithmic_error: 0.0622\n",
            "Epoch 689/953\n",
            "1/1 [==============================] - 0s 6ms/step - loss: 0.4253 - mean_squared_logarithmic_error: 0.0637\n",
            "Epoch 690/953\n",
            "1/1 [==============================] - 0s 15ms/step - loss: 0.4258 - mean_squared_logarithmic_error: 0.0611\n",
            "Epoch 691/953\n",
            "1/1 [==============================] - 0s 6ms/step - loss: 0.4199 - mean_squared_logarithmic_error: 0.0621\n",
            "Epoch 692/953\n",
            "1/1 [==============================] - 0s 5ms/step - loss: 0.4176 - mean_squared_logarithmic_error: 0.0598\n",
            "Epoch 693/953\n",
            "1/1 [==============================] - 0s 6ms/step - loss: 0.4144 - mean_squared_logarithmic_error: 0.0604\n",
            "Epoch 694/953\n",
            "1/1 [==============================] - 0s 14ms/step - loss: 0.4145 - mean_squared_logarithmic_error: 0.0592\n",
            "Epoch 695/953\n",
            "1/1 [==============================] - 0s 8ms/step - loss: 0.4124 - mean_squared_logarithmic_error: 0.0599\n",
            "Epoch 696/953\n",
            "1/1 [==============================] - 0s 4ms/step - loss: 0.4123 - mean_squared_logarithmic_error: 0.0590\n",
            "Epoch 697/953\n",
            "1/1 [==============================] - 0s 19ms/step - loss: 0.4125 - mean_squared_logarithmic_error: 0.0600\n",
            "Epoch 698/953\n",
            "1/1 [==============================] - 0s 11ms/step - loss: 0.4147 - mean_squared_logarithmic_error: 0.0594\n",
            "Epoch 699/953\n",
            "1/1 [==============================] - 0s 15ms/step - loss: 0.4139 - mean_squared_logarithmic_error: 0.0604\n",
            "Epoch 700/953\n",
            "1/1 [==============================] - 0s 6ms/step - loss: 0.4250 - mean_squared_logarithmic_error: 0.0611\n",
            "Epoch 701/953\n",
            "1/1 [==============================] - 0s 6ms/step - loss: 0.4349 - mean_squared_logarithmic_error: 0.0657\n",
            "Epoch 702/953\n",
            "1/1 [==============================] - 0s 19ms/step - loss: 0.4372 - mean_squared_logarithmic_error: 0.0624\n",
            "Epoch 703/953\n",
            "1/1 [==============================] - 0s 14ms/step - loss: 0.4460 - mean_squared_logarithmic_error: 0.0681\n",
            "Epoch 704/953\n",
            "1/1 [==============================] - 0s 6ms/step - loss: 0.4417 - mean_squared_logarithmic_error: 0.0625\n",
            "Epoch 705/953\n",
            "1/1 [==============================] - 0s 10ms/step - loss: 0.4440 - mean_squared_logarithmic_error: 0.0677\n",
            "Epoch 706/953\n",
            "1/1 [==============================] - 0s 6ms/step - loss: 0.4400 - mean_squared_logarithmic_error: 0.0624\n",
            "Epoch 707/953\n",
            "1/1 [==============================] - 0s 7ms/step - loss: 0.4429 - mean_squared_logarithmic_error: 0.0675\n",
            "Epoch 708/953\n",
            "1/1 [==============================] - 0s 7ms/step - loss: 0.4401 - mean_squared_logarithmic_error: 0.0623\n",
            "Epoch 709/953\n",
            "1/1 [==============================] - 0s 9ms/step - loss: 0.4482 - mean_squared_logarithmic_error: 0.0689\n",
            "Epoch 710/953\n",
            "1/1 [==============================] - 0s 4ms/step - loss: 0.4410 - mean_squared_logarithmic_error: 0.0621\n",
            "Epoch 711/953\n",
            "1/1 [==============================] - 0s 8ms/step - loss: 0.4427 - mean_squared_logarithmic_error: 0.0678\n",
            "Epoch 712/953\n",
            "1/1 [==============================] - 0s 11ms/step - loss: 0.4378 - mean_squared_logarithmic_error: 0.0619\n",
            "Epoch 713/953\n",
            "1/1 [==============================] - 0s 8ms/step - loss: 0.4309 - mean_squared_logarithmic_error: 0.0657\n",
            "Epoch 714/953\n",
            "1/1 [==============================] - 0s 8ms/step - loss: 0.4331 - mean_squared_logarithmic_error: 0.0614\n",
            "Epoch 715/953\n",
            "1/1 [==============================] - 0s 5ms/step - loss: 0.4311 - mean_squared_logarithmic_error: 0.0660\n",
            "Epoch 716/953\n",
            "1/1 [==============================] - 0s 11ms/step - loss: 0.4313 - mean_squared_logarithmic_error: 0.0612\n",
            "Epoch 717/953\n",
            "1/1 [==============================] - 0s 4ms/step - loss: 0.4239 - mean_squared_logarithmic_error: 0.0645\n",
            "Epoch 718/953\n",
            "1/1 [==============================] - 0s 8ms/step - loss: 0.4316 - mean_squared_logarithmic_error: 0.0612\n",
            "Epoch 719/953\n",
            "1/1 [==============================] - 0s 13ms/step - loss: 0.4301 - mean_squared_logarithmic_error: 0.0659\n",
            "Epoch 720/953\n",
            "1/1 [==============================] - 0s 5ms/step - loss: 0.4307 - mean_squared_logarithmic_error: 0.0610\n",
            "Epoch 721/953\n",
            "1/1 [==============================] - 0s 10ms/step - loss: 0.4333 - mean_squared_logarithmic_error: 0.0664\n",
            "Epoch 722/953\n",
            "1/1 [==============================] - 0s 5ms/step - loss: 0.4337 - mean_squared_logarithmic_error: 0.0613\n",
            "Epoch 723/953\n",
            "1/1 [==============================] - 0s 12ms/step - loss: 0.4425 - mean_squared_logarithmic_error: 0.0684\n",
            "Epoch 724/953\n",
            "1/1 [==============================] - 0s 3ms/step - loss: 0.4364 - mean_squared_logarithmic_error: 0.0613\n",
            "Epoch 725/953\n",
            "1/1 [==============================] - 0s 5ms/step - loss: 0.4369 - mean_squared_logarithmic_error: 0.0673\n",
            "Epoch 726/953\n",
            "1/1 [==============================] - 0s 6ms/step - loss: 0.4335 - mean_squared_logarithmic_error: 0.0613\n",
            "Epoch 727/953\n",
            "1/1 [==============================] - 0s 8ms/step - loss: 0.4307 - mean_squared_logarithmic_error: 0.0663\n",
            "Epoch 728/953\n",
            "1/1 [==============================] - 0s 5ms/step - loss: 0.4309 - mean_squared_logarithmic_error: 0.0606\n",
            "Epoch 729/953\n",
            "1/1 [==============================] - 0s 4ms/step - loss: 0.4224 - mean_squared_logarithmic_error: 0.0649\n",
            "Epoch 730/953\n",
            "1/1 [==============================] - 0s 6ms/step - loss: 0.4243 - mean_squared_logarithmic_error: 0.0604\n",
            "Epoch 731/953\n",
            "1/1 [==============================] - 0s 5ms/step - loss: 0.4222 - mean_squared_logarithmic_error: 0.0649\n",
            "Epoch 732/953\n",
            "1/1 [==============================] - 0s 9ms/step - loss: 0.4269 - mean_squared_logarithmic_error: 0.0603\n",
            "Epoch 733/953\n",
            "1/1 [==============================] - 0s 4ms/step - loss: 0.4182 - mean_squared_logarithmic_error: 0.0643\n",
            "Epoch 734/953\n",
            "1/1 [==============================] - 0s 4ms/step - loss: 0.4205 - mean_squared_logarithmic_error: 0.0601\n",
            "Epoch 735/953\n",
            "1/1 [==============================] - 0s 6ms/step - loss: 0.4188 - mean_squared_logarithmic_error: 0.0644\n",
            "Epoch 736/953\n",
            "1/1 [==============================] - 0s 9ms/step - loss: 0.4214 - mean_squared_logarithmic_error: 0.0599\n",
            "Epoch 737/953\n",
            "1/1 [==============================] - 0s 5ms/step - loss: 0.4227 - mean_squared_logarithmic_error: 0.0651\n",
            "Epoch 738/953\n",
            "1/1 [==============================] - 0s 4ms/step - loss: 0.4252 - mean_squared_logarithmic_error: 0.0605\n",
            "Epoch 739/953\n",
            "1/1 [==============================] - 0s 7ms/step - loss: 0.4333 - mean_squared_logarithmic_error: 0.0670\n",
            "Epoch 740/953\n",
            "1/1 [==============================] - 0s 4ms/step - loss: 0.4318 - mean_squared_logarithmic_error: 0.0607\n",
            "Epoch 741/953\n",
            "1/1 [==============================] - 0s 7ms/step - loss: 0.4324 - mean_squared_logarithmic_error: 0.0670\n",
            "Epoch 742/953\n",
            "1/1 [==============================] - 0s 9ms/step - loss: 0.4296 - mean_squared_logarithmic_error: 0.0606\n",
            "Epoch 743/953\n",
            "1/1 [==============================] - 0s 12ms/step - loss: 0.4373 - mean_squared_logarithmic_error: 0.0682\n",
            "Epoch 744/953\n",
            "1/1 [==============================] - 0s 8ms/step - loss: 0.4327 - mean_squared_logarithmic_error: 0.0603\n",
            "Epoch 745/953\n",
            "1/1 [==============================] - 0s 10ms/step - loss: 0.4220 - mean_squared_logarithmic_error: 0.0655\n",
            "Epoch 746/953\n",
            "1/1 [==============================] - 0s 6ms/step - loss: 0.4223 - mean_squared_logarithmic_error: 0.0597\n",
            "Epoch 747/953\n",
            "1/1 [==============================] - 0s 13ms/step - loss: 0.4198 - mean_squared_logarithmic_error: 0.0651\n",
            "Epoch 748/953\n",
            "1/1 [==============================] - 0s 7ms/step - loss: 0.4236 - mean_squared_logarithmic_error: 0.0595\n",
            "Epoch 749/953\n",
            "1/1 [==============================] - 0s 10ms/step - loss: 0.4235 - mean_squared_logarithmic_error: 0.0659\n",
            "Epoch 750/953\n",
            "1/1 [==============================] - 0s 6ms/step - loss: 0.4235 - mean_squared_logarithmic_error: 0.0599\n",
            "Epoch 751/953\n",
            "1/1 [==============================] - 0s 4ms/step - loss: 0.4207 - mean_squared_logarithmic_error: 0.0655\n",
            "Epoch 752/953\n",
            "1/1 [==============================] - 0s 6ms/step - loss: 0.4238 - mean_squared_logarithmic_error: 0.0595\n",
            "Epoch 753/953\n",
            "1/1 [==============================] - 0s 15ms/step - loss: 0.4235 - mean_squared_logarithmic_error: 0.0661\n",
            "Epoch 754/953\n",
            "1/1 [==============================] - 0s 5ms/step - loss: 0.4232 - mean_squared_logarithmic_error: 0.0596\n",
            "Epoch 755/953\n",
            "1/1 [==============================] - 0s 7ms/step - loss: 0.4201 - mean_squared_logarithmic_error: 0.0656\n",
            "Epoch 756/953\n",
            "1/1 [==============================] - 0s 4ms/step - loss: 0.4207 - mean_squared_logarithmic_error: 0.0591\n",
            "Epoch 757/953\n",
            "1/1 [==============================] - 0s 16ms/step - loss: 0.4109 - mean_squared_logarithmic_error: 0.0639\n",
            "Epoch 758/953\n",
            "1/1 [==============================] - 0s 9ms/step - loss: 0.4088 - mean_squared_logarithmic_error: 0.0586\n",
            "Epoch 759/953\n",
            "1/1 [==============================] - 0s 4ms/step - loss: 0.4059 - mean_squared_logarithmic_error: 0.0631\n",
            "Epoch 760/953\n",
            "1/1 [==============================] - 0s 4ms/step - loss: 0.4058 - mean_squared_logarithmic_error: 0.0585\n",
            "Epoch 761/953\n",
            "1/1 [==============================] - 0s 11ms/step - loss: 0.3993 - mean_squared_logarithmic_error: 0.0617\n",
            "Epoch 762/953\n",
            "1/1 [==============================] - 0s 5ms/step - loss: 0.3973 - mean_squared_logarithmic_error: 0.0577\n",
            "Epoch 763/953\n",
            "1/1 [==============================] - 0s 12ms/step - loss: 0.3929 - mean_squared_logarithmic_error: 0.0606\n",
            "Epoch 764/953\n",
            "1/1 [==============================] - 0s 5ms/step - loss: 0.3921 - mean_squared_logarithmic_error: 0.0572\n",
            "Epoch 765/953\n",
            "1/1 [==============================] - 0s 11ms/step - loss: 0.3931 - mean_squared_logarithmic_error: 0.0605\n",
            "Epoch 766/953\n",
            "1/1 [==============================] - 0s 8ms/step - loss: 0.3994 - mean_squared_logarithmic_error: 0.0578\n",
            "Epoch 767/953\n",
            "1/1 [==============================] - 0s 5ms/step - loss: 0.4080 - mean_squared_logarithmic_error: 0.0636\n",
            "Epoch 768/953\n",
            "1/1 [==============================] - 0s 4ms/step - loss: 0.4120 - mean_squared_logarithmic_error: 0.0582\n",
            "Epoch 769/953\n",
            "1/1 [==============================] - 0s 12ms/step - loss: 0.4149 - mean_squared_logarithmic_error: 0.0647\n",
            "Epoch 770/953\n",
            "1/1 [==============================] - 0s 5ms/step - loss: 0.4181 - mean_squared_logarithmic_error: 0.0584\n",
            "Epoch 771/953\n",
            "1/1 [==============================] - 0s 8ms/step - loss: 0.4275 - mean_squared_logarithmic_error: 0.0675\n",
            "Epoch 772/953\n",
            "1/1 [==============================] - 0s 5ms/step - loss: 0.4222 - mean_squared_logarithmic_error: 0.0583\n",
            "Epoch 773/953\n",
            "1/1 [==============================] - 0s 9ms/step - loss: 0.4241 - mean_squared_logarithmic_error: 0.0668\n",
            "Epoch 774/953\n",
            "1/1 [==============================] - 0s 5ms/step - loss: 0.4199 - mean_squared_logarithmic_error: 0.0582\n",
            "Epoch 775/953\n",
            "1/1 [==============================] - 0s 6ms/step - loss: 0.4302 - mean_squared_logarithmic_error: 0.0682\n",
            "Epoch 776/953\n",
            "1/1 [==============================] - 0s 14ms/step - loss: 0.4239 - mean_squared_logarithmic_error: 0.0579\n",
            "Epoch 777/953\n",
            "1/1 [==============================] - 0s 6ms/step - loss: 0.4255 - mean_squared_logarithmic_error: 0.0675\n",
            "Epoch 778/953\n",
            "1/1 [==============================] - 0s 5ms/step - loss: 0.4181 - mean_squared_logarithmic_error: 0.0576\n",
            "Epoch 779/953\n",
            "1/1 [==============================] - 0s 6ms/step - loss: 0.4287 - mean_squared_logarithmic_error: 0.0682\n",
            "Epoch 780/953\n",
            "1/1 [==============================] - 0s 5ms/step - loss: 0.4211 - mean_squared_logarithmic_error: 0.0573\n",
            "Epoch 781/953\n",
            "1/1 [==============================] - 0s 7ms/step - loss: 0.4223 - mean_squared_logarithmic_error: 0.0671\n",
            "Epoch 782/953\n",
            "1/1 [==============================] - 0s 6ms/step - loss: 0.4157 - mean_squared_logarithmic_error: 0.0570\n",
            "Epoch 783/953\n",
            "1/1 [==============================] - 0s 11ms/step - loss: 0.4267 - mean_squared_logarithmic_error: 0.0681\n",
            "Epoch 784/953\n",
            "1/1 [==============================] - 0s 6ms/step - loss: 0.4165 - mean_squared_logarithmic_error: 0.0569\n",
            "Epoch 785/953\n",
            "1/1 [==============================] - 0s 11ms/step - loss: 0.4191 - mean_squared_logarithmic_error: 0.0665\n",
            "Epoch 786/953\n",
            "1/1 [==============================] - 0s 8ms/step - loss: 0.4130 - mean_squared_logarithmic_error: 0.0565\n",
            "Epoch 787/953\n",
            "1/1 [==============================] - 0s 5ms/step - loss: 0.4139 - mean_squared_logarithmic_error: 0.0658\n",
            "Epoch 788/953\n",
            "1/1 [==============================] - 0s 6ms/step - loss: 0.4064 - mean_squared_logarithmic_error: 0.0559\n",
            "Epoch 789/953\n",
            "1/1 [==============================] - 0s 4ms/step - loss: 0.4013 - mean_squared_logarithmic_error: 0.0632\n",
            "Epoch 790/953\n",
            "1/1 [==============================] - 0s 8ms/step - loss: 0.3993 - mean_squared_logarithmic_error: 0.0556\n",
            "Epoch 791/953\n",
            "1/1 [==============================] - 0s 6ms/step - loss: 0.4029 - mean_squared_logarithmic_error: 0.0638\n",
            "Epoch 792/953\n",
            "1/1 [==============================] - 0s 5ms/step - loss: 0.3991 - mean_squared_logarithmic_error: 0.0555\n",
            "Epoch 793/953\n",
            "1/1 [==============================] - 0s 4ms/step - loss: 0.4055 - mean_squared_logarithmic_error: 0.0639\n",
            "Epoch 794/953\n",
            "1/1 [==============================] - 0s 6ms/step - loss: 0.4054 - mean_squared_logarithmic_error: 0.0559\n",
            "Epoch 795/953\n",
            "1/1 [==============================] - 0s 8ms/step - loss: 0.4184 - mean_squared_logarithmic_error: 0.0667\n",
            "Epoch 796/953\n",
            "1/1 [==============================] - 0s 8ms/step - loss: 0.4098 - mean_squared_logarithmic_error: 0.0560\n",
            "Epoch 797/953\n",
            "1/1 [==============================] - 0s 12ms/step - loss: 0.4108 - mean_squared_logarithmic_error: 0.0651\n",
            "Epoch 798/953\n",
            "1/1 [==============================] - 0s 16ms/step - loss: 0.4051 - mean_squared_logarithmic_error: 0.0558\n",
            "Epoch 799/953\n",
            "1/1 [==============================] - 0s 8ms/step - loss: 0.4140 - mean_squared_logarithmic_error: 0.0658\n",
            "Epoch 800/953\n",
            "1/1 [==============================] - 0s 8ms/step - loss: 0.4070 - mean_squared_logarithmic_error: 0.0554\n",
            "Epoch 801/953\n",
            "1/1 [==============================] - 0s 13ms/step - loss: 0.4032 - mean_squared_logarithmic_error: 0.0640\n",
            "Epoch 802/953\n",
            "1/1 [==============================] - 0s 9ms/step - loss: 0.3979 - mean_squared_logarithmic_error: 0.0551\n",
            "Epoch 803/953\n",
            "1/1 [==============================] - 0s 9ms/step - loss: 0.3991 - mean_squared_logarithmic_error: 0.0634\n",
            "Epoch 804/953\n",
            "1/1 [==============================] - 0s 8ms/step - loss: 0.3932 - mean_squared_logarithmic_error: 0.0544\n",
            "Epoch 805/953\n",
            "1/1 [==============================] - 0s 9ms/step - loss: 0.3855 - mean_squared_logarithmic_error: 0.0610\n",
            "Epoch 806/953\n",
            "1/1 [==============================] - 0s 9ms/step - loss: 0.3855 - mean_squared_logarithmic_error: 0.0546\n",
            "Epoch 807/953\n",
            "1/1 [==============================] - 0s 6ms/step - loss: 0.3907 - mean_squared_logarithmic_error: 0.0619\n",
            "Epoch 808/953\n",
            "1/1 [==============================] - 0s 6ms/step - loss: 0.3897 - mean_squared_logarithmic_error: 0.0545\n",
            "Epoch 809/953\n",
            "1/1 [==============================] - 0s 10ms/step - loss: 0.3942 - mean_squared_logarithmic_error: 0.0623\n",
            "Epoch 810/953\n",
            "1/1 [==============================] - 0s 10ms/step - loss: 0.3955 - mean_squared_logarithmic_error: 0.0547\n",
            "Epoch 811/953\n",
            "1/1 [==============================] - 0s 11ms/step - loss: 0.4092 - mean_squared_logarithmic_error: 0.0653\n",
            "Epoch 812/953\n",
            "1/1 [==============================] - 0s 12ms/step - loss: 0.4009 - mean_squared_logarithmic_error: 0.0549\n",
            "Epoch 813/953\n",
            "1/1 [==============================] - 0s 13ms/step - loss: 0.4047 - mean_squared_logarithmic_error: 0.0643\n",
            "Epoch 814/953\n",
            "1/1 [==============================] - 0s 15ms/step - loss: 0.4008 - mean_squared_logarithmic_error: 0.0548\n",
            "Epoch 815/953\n",
            "1/1 [==============================] - 0s 4ms/step - loss: 0.4069 - mean_squared_logarithmic_error: 0.0651\n",
            "Epoch 816/953\n",
            "1/1 [==============================] - 0s 5ms/step - loss: 0.3992 - mean_squared_logarithmic_error: 0.0544\n",
            "Epoch 817/953\n",
            "1/1 [==============================] - 0s 7ms/step - loss: 0.4028 - mean_squared_logarithmic_error: 0.0642\n",
            "Epoch 818/953\n",
            "1/1 [==============================] - 0s 4ms/step - loss: 0.3963 - mean_squared_logarithmic_error: 0.0543\n",
            "Epoch 819/953\n",
            "1/1 [==============================] - 0s 7ms/step - loss: 0.3919 - mean_squared_logarithmic_error: 0.0623\n",
            "Epoch 820/953\n",
            "1/1 [==============================] - 0s 10ms/step - loss: 0.3903 - mean_squared_logarithmic_error: 0.0540\n",
            "Epoch 821/953\n",
            "1/1 [==============================] - 0s 8ms/step - loss: 0.3959 - mean_squared_logarithmic_error: 0.0633\n",
            "Epoch 822/953\n",
            "1/1 [==============================] - 0s 11ms/step - loss: 0.3914 - mean_squared_logarithmic_error: 0.0539\n",
            "Epoch 823/953\n",
            "1/1 [==============================] - 0s 8ms/step - loss: 0.3969 - mean_squared_logarithmic_error: 0.0632\n",
            "Epoch 824/953\n",
            "1/1 [==============================] - 0s 7ms/step - loss: 0.3948 - mean_squared_logarithmic_error: 0.0541\n",
            "Epoch 825/953\n",
            "1/1 [==============================] - 0s 5ms/step - loss: 0.4091 - mean_squared_logarithmic_error: 0.0658\n",
            "Epoch 826/953\n",
            "1/1 [==============================] - 0s 10ms/step - loss: 0.3989 - mean_squared_logarithmic_error: 0.0541\n",
            "Epoch 827/953\n",
            "1/1 [==============================] - 0s 8ms/step - loss: 0.4024 - mean_squared_logarithmic_error: 0.0645\n",
            "Epoch 828/953\n",
            "1/1 [==============================] - 0s 8ms/step - loss: 0.3945 - mean_squared_logarithmic_error: 0.0539\n",
            "Epoch 829/953\n",
            "1/1 [==============================] - 0s 7ms/step - loss: 0.3982 - mean_squared_logarithmic_error: 0.0639\n",
            "Epoch 830/953\n",
            "1/1 [==============================] - 0s 11ms/step - loss: 0.3915 - mean_squared_logarithmic_error: 0.0533\n",
            "Epoch 831/953\n",
            "1/1 [==============================] - 0s 11ms/step - loss: 0.3940 - mean_squared_logarithmic_error: 0.0631\n",
            "Epoch 832/953\n",
            "1/1 [==============================] - 0s 8ms/step - loss: 0.3881 - mean_squared_logarithmic_error: 0.0534\n",
            "Epoch 833/953\n",
            "1/1 [==============================] - 0s 6ms/step - loss: 0.3881 - mean_squared_logarithmic_error: 0.0620\n",
            "Epoch 834/953\n",
            "1/1 [==============================] - 0s 10ms/step - loss: 0.3839 - mean_squared_logarithmic_error: 0.0531\n",
            "Epoch 835/953\n",
            "1/1 [==============================] - 0s 6ms/step - loss: 0.3914 - mean_squared_logarithmic_error: 0.0627\n",
            "Epoch 836/953\n",
            "1/1 [==============================] - 0s 4ms/step - loss: 0.3868 - mean_squared_logarithmic_error: 0.0529\n",
            "Epoch 837/953\n",
            "1/1 [==============================] - 0s 4ms/step - loss: 0.3930 - mean_squared_logarithmic_error: 0.0630\n",
            "Epoch 838/953\n",
            "1/1 [==============================] - 0s 4ms/step - loss: 0.3869 - mean_squared_logarithmic_error: 0.0532\n",
            "Epoch 839/953\n",
            "1/1 [==============================] - 0s 11ms/step - loss: 0.4003 - mean_squared_logarithmic_error: 0.0644\n",
            "Epoch 840/953\n",
            "1/1 [==============================] - 0s 4ms/step - loss: 0.3936 - mean_squared_logarithmic_error: 0.0533\n",
            "Epoch 841/953\n",
            "1/1 [==============================] - 0s 11ms/step - loss: 0.3979 - mean_squared_logarithmic_error: 0.0641\n",
            "Epoch 842/953\n",
            "1/1 [==============================] - 0s 5ms/step - loss: 0.3898 - mean_squared_logarithmic_error: 0.0531\n",
            "Epoch 843/953\n",
            "1/1 [==============================] - 0s 13ms/step - loss: 0.4013 - mean_squared_logarithmic_error: 0.0649\n",
            "Epoch 844/953\n",
            "1/1 [==============================] - 0s 11ms/step - loss: 0.3906 - mean_squared_logarithmic_error: 0.0530\n",
            "Epoch 845/953\n",
            "1/1 [==============================] - 0s 4ms/step - loss: 0.3947 - mean_squared_logarithmic_error: 0.0636\n",
            "Epoch 846/953\n",
            "1/1 [==============================] - 0s 12ms/step - loss: 0.3869 - mean_squared_logarithmic_error: 0.0526\n",
            "Epoch 847/953\n",
            "1/1 [==============================] - 0s 5ms/step - loss: 0.3912 - mean_squared_logarithmic_error: 0.0634\n",
            "Epoch 848/953\n",
            "1/1 [==============================] - 0s 13ms/step - loss: 0.3809 - mean_squared_logarithmic_error: 0.0520\n",
            "Epoch 849/953\n",
            "1/1 [==============================] - 0s 10ms/step - loss: 0.3794 - mean_squared_logarithmic_error: 0.0610\n",
            "Epoch 850/953\n",
            "1/1 [==============================] - 0s 7ms/step - loss: 0.3751 - mean_squared_logarithmic_error: 0.0517\n",
            "Epoch 851/953\n",
            "1/1 [==============================] - 0s 5ms/step - loss: 0.3761 - mean_squared_logarithmic_error: 0.0606\n",
            "Epoch 852/953\n",
            "1/1 [==============================] - 0s 4ms/step - loss: 0.3745 - mean_squared_logarithmic_error: 0.0519\n",
            "Epoch 853/953\n",
            "1/1 [==============================] - 0s 8ms/step - loss: 0.3894 - mean_squared_logarithmic_error: 0.0629\n",
            "Epoch 854/953\n",
            "1/1 [==============================] - 0s 12ms/step - loss: 0.3832 - mean_squared_logarithmic_error: 0.0524\n",
            "Epoch 855/953\n",
            "1/1 [==============================] - 0s 5ms/step - loss: 0.3910 - mean_squared_logarithmic_error: 0.0631\n",
            "Epoch 856/953\n",
            "1/1 [==============================] - 0s 4ms/step - loss: 0.3863 - mean_squared_logarithmic_error: 0.0526\n",
            "Epoch 857/953\n",
            "1/1 [==============================] - 0s 6ms/step - loss: 0.4014 - mean_squared_logarithmic_error: 0.0655\n",
            "Epoch 858/953\n",
            "1/1 [==============================] - 0s 9ms/step - loss: 0.3892 - mean_squared_logarithmic_error: 0.0528\n",
            "Epoch 859/953\n",
            "1/1 [==============================] - 0s 20ms/step - loss: 0.3920 - mean_squared_logarithmic_error: 0.0634\n",
            "Epoch 860/953\n",
            "1/1 [==============================] - 0s 7ms/step - loss: 0.3857 - mean_squared_logarithmic_error: 0.0524\n",
            "Epoch 861/953\n",
            "1/1 [==============================] - 0s 3ms/step - loss: 0.3898 - mean_squared_logarithmic_error: 0.0635\n",
            "Epoch 862/953\n",
            "1/1 [==============================] - 0s 9ms/step - loss: 0.3782 - mean_squared_logarithmic_error: 0.0515\n",
            "Epoch 863/953\n",
            "1/1 [==============================] - 0s 7ms/step - loss: 0.3762 - mean_squared_logarithmic_error: 0.0610\n",
            "Epoch 864/953\n",
            "1/1 [==============================] - 0s 13ms/step - loss: 0.3713 - mean_squared_logarithmic_error: 0.0512\n",
            "Epoch 865/953\n",
            "1/1 [==============================] - 0s 7ms/step - loss: 0.3810 - mean_squared_logarithmic_error: 0.0619\n",
            "Epoch 866/953\n",
            "1/1 [==============================] - 0s 6ms/step - loss: 0.3772 - mean_squared_logarithmic_error: 0.0515\n",
            "Epoch 867/953\n",
            "1/1 [==============================] - 0s 13ms/step - loss: 0.3844 - mean_squared_logarithmic_error: 0.0625\n",
            "Epoch 868/953\n",
            "1/1 [==============================] - 0s 12ms/step - loss: 0.3758 - mean_squared_logarithmic_error: 0.0515\n",
            "Epoch 869/953\n",
            "1/1 [==============================] - 0s 7ms/step - loss: 0.3893 - mean_squared_logarithmic_error: 0.0635\n",
            "Epoch 870/953\n",
            "1/1 [==============================] - 0s 6ms/step - loss: 0.3780 - mean_squared_logarithmic_error: 0.0516\n",
            "Epoch 871/953\n",
            "1/1 [==============================] - 0s 7ms/step - loss: 0.3834 - mean_squared_logarithmic_error: 0.0621\n",
            "Epoch 872/953\n",
            "1/1 [==============================] - 0s 6ms/step - loss: 0.3744 - mean_squared_logarithmic_error: 0.0511\n",
            "Epoch 873/953\n",
            "1/1 [==============================] - 0s 12ms/step - loss: 0.3752 - mean_squared_logarithmic_error: 0.0610\n",
            "Epoch 874/953\n",
            "1/1 [==============================] - 0s 8ms/step - loss: 0.3684 - mean_squared_logarithmic_error: 0.0510\n",
            "Epoch 875/953\n",
            "1/1 [==============================] - 0s 8ms/step - loss: 0.3841 - mean_squared_logarithmic_error: 0.0626\n",
            "Epoch 876/953\n",
            "1/1 [==============================] - 0s 11ms/step - loss: 0.3747 - mean_squared_logarithmic_error: 0.0514\n",
            "Epoch 877/953\n",
            "1/1 [==============================] - 0s 23ms/step - loss: 0.3931 - mean_squared_logarithmic_error: 0.0642\n",
            "Epoch 878/953\n",
            "1/1 [==============================] - 0s 13ms/step - loss: 0.3834 - mean_squared_logarithmic_error: 0.0521\n",
            "Epoch 879/953\n",
            "1/1 [==============================] - 0s 10ms/step - loss: 0.3903 - mean_squared_logarithmic_error: 0.0638\n",
            "Epoch 880/953\n",
            "1/1 [==============================] - 0s 7ms/step - loss: 0.3803 - mean_squared_logarithmic_error: 0.0521\n",
            "Epoch 881/953\n",
            "1/1 [==============================] - 0s 10ms/step - loss: 0.3949 - mean_squared_logarithmic_error: 0.0648\n",
            "Epoch 882/953\n",
            "1/1 [==============================] - 0s 4ms/step - loss: 0.3839 - mean_squared_logarithmic_error: 0.0521\n",
            "Epoch 883/953\n",
            "1/1 [==============================] - 0s 3ms/step - loss: 0.3970 - mean_squared_logarithmic_error: 0.0656\n",
            "Epoch 884/953\n",
            "1/1 [==============================] - 0s 13ms/step - loss: 0.3809 - mean_squared_logarithmic_error: 0.0517\n",
            "Epoch 885/953\n",
            "1/1 [==============================] - 0s 9ms/step - loss: 0.3831 - mean_squared_logarithmic_error: 0.0629\n",
            "Epoch 886/953\n",
            "1/1 [==============================] - 0s 5ms/step - loss: 0.3704 - mean_squared_logarithmic_error: 0.0508\n",
            "Epoch 887/953\n",
            "1/1 [==============================] - 0s 4ms/step - loss: 0.3801 - mean_squared_logarithmic_error: 0.0625\n",
            "Epoch 888/953\n",
            "1/1 [==============================] - 0s 4ms/step - loss: 0.3665 - mean_squared_logarithmic_error: 0.0503\n",
            "Epoch 889/953\n",
            "1/1 [==============================] - 0s 5ms/step - loss: 0.3689 - mean_squared_logarithmic_error: 0.0603\n",
            "Epoch 890/953\n",
            "1/1 [==============================] - 0s 9ms/step - loss: 0.3601 - mean_squared_logarithmic_error: 0.0497\n",
            "Epoch 891/953\n",
            "1/1 [==============================] - 0s 3ms/step - loss: 0.3715 - mean_squared_logarithmic_error: 0.0611\n",
            "Epoch 892/953\n",
            "1/1 [==============================] - 0s 4ms/step - loss: 0.3620 - mean_squared_logarithmic_error: 0.0500\n",
            "Epoch 893/953\n",
            "1/1 [==============================] - 0s 4ms/step - loss: 0.3708 - mean_squared_logarithmic_error: 0.0607\n",
            "Epoch 894/953\n",
            "1/1 [==============================] - 0s 6ms/step - loss: 0.3619 - mean_squared_logarithmic_error: 0.0501\n",
            "Epoch 895/953\n",
            "1/1 [==============================] - 0s 16ms/step - loss: 0.3815 - mean_squared_logarithmic_error: 0.0627\n",
            "Epoch 896/953\n",
            "1/1 [==============================] - 0s 4ms/step - loss: 0.3718 - mean_squared_logarithmic_error: 0.0508\n",
            "Epoch 897/953\n",
            "1/1 [==============================] - 0s 11ms/step - loss: 0.3901 - mean_squared_logarithmic_error: 0.0646\n",
            "Epoch 898/953\n",
            "1/1 [==============================] - 0s 4ms/step - loss: 0.3740 - mean_squared_logarithmic_error: 0.0510\n",
            "Epoch 899/953\n",
            "1/1 [==============================] - 0s 8ms/step - loss: 0.3813 - mean_squared_logarithmic_error: 0.0628\n",
            "Epoch 900/953\n",
            "1/1 [==============================] - 0s 5ms/step - loss: 0.3694 - mean_squared_logarithmic_error: 0.0509\n",
            "Epoch 901/953\n",
            "1/1 [==============================] - 0s 5ms/step - loss: 0.3879 - mean_squared_logarithmic_error: 0.0641\n",
            "Epoch 902/953\n",
            "1/1 [==============================] - 0s 8ms/step - loss: 0.3752 - mean_squared_logarithmic_error: 0.0511\n",
            "Epoch 903/953\n",
            "1/1 [==============================] - 0s 4ms/step - loss: 0.3925 - mean_squared_logarithmic_error: 0.0655\n",
            "Epoch 904/953\n",
            "1/1 [==============================] - 0s 5ms/step - loss: 0.3715 - mean_squared_logarithmic_error: 0.0506\n",
            "Epoch 905/953\n",
            "1/1 [==============================] - 0s 8ms/step - loss: 0.3782 - mean_squared_logarithmic_error: 0.0625\n",
            "Epoch 906/953\n",
            "1/1 [==============================] - 0s 6ms/step - loss: 0.3649 - mean_squared_logarithmic_error: 0.0499\n",
            "Epoch 907/953\n",
            "1/1 [==============================] - 0s 7ms/step - loss: 0.3777 - mean_squared_logarithmic_error: 0.0629\n",
            "Epoch 908/953\n",
            "1/1 [==============================] - 0s 5ms/step - loss: 0.3597 - mean_squared_logarithmic_error: 0.0493\n",
            "Epoch 909/953\n",
            "1/1 [==============================] - 0s 8ms/step - loss: 0.3634 - mean_squared_logarithmic_error: 0.0601\n",
            "Epoch 910/953\n",
            "1/1 [==============================] - 0s 5ms/step - loss: 0.3508 - mean_squared_logarithmic_error: 0.0488\n",
            "Epoch 911/953\n",
            "1/1 [==============================] - 0s 5ms/step - loss: 0.3591 - mean_squared_logarithmic_error: 0.0596\n",
            "Epoch 912/953\n",
            "1/1 [==============================] - 0s 14ms/step - loss: 0.3475 - mean_squared_logarithmic_error: 0.0483\n",
            "Epoch 913/953\n",
            "1/1 [==============================] - 0s 7ms/step - loss: 0.3551 - mean_squared_logarithmic_error: 0.0587\n",
            "Epoch 914/953\n",
            "1/1 [==============================] - 0s 5ms/step - loss: 0.3506 - mean_squared_logarithmic_error: 0.0490\n",
            "Epoch 915/953\n",
            "1/1 [==============================] - 0s 9ms/step - loss: 0.3772 - mean_squared_logarithmic_error: 0.0625\n",
            "Epoch 916/953\n",
            "1/1 [==============================] - 0s 5ms/step - loss: 0.3651 - mean_squared_logarithmic_error: 0.0500\n",
            "Epoch 917/953\n",
            "1/1 [==============================] - 0s 5ms/step - loss: 0.3887 - mean_squared_logarithmic_error: 0.0651\n",
            "Epoch 918/953\n",
            "1/1 [==============================] - 0s 4ms/step - loss: 0.3684 - mean_squared_logarithmic_error: 0.0502\n",
            "Epoch 919/953\n",
            "1/1 [==============================] - 0s 20ms/step - loss: 0.3770 - mean_squared_logarithmic_error: 0.0627\n",
            "Epoch 920/953\n",
            "1/1 [==============================] - 0s 13ms/step - loss: 0.3627 - mean_squared_logarithmic_error: 0.0497\n",
            "Epoch 921/953\n",
            "1/1 [==============================] - 0s 8ms/step - loss: 0.3856 - mean_squared_logarithmic_error: 0.0650\n",
            "Epoch 922/953\n",
            "1/1 [==============================] - 0s 5ms/step - loss: 0.3616 - mean_squared_logarithmic_error: 0.0495\n",
            "Epoch 923/953\n",
            "1/1 [==============================] - 0s 8ms/step - loss: 0.3719 - mean_squared_logarithmic_error: 0.0620\n",
            "Epoch 924/953\n",
            "1/1 [==============================] - 0s 6ms/step - loss: 0.3566 - mean_squared_logarithmic_error: 0.0493\n",
            "Epoch 925/953\n",
            "1/1 [==============================] - 0s 10ms/step - loss: 0.3729 - mean_squared_logarithmic_error: 0.0623\n",
            "Epoch 926/953\n",
            "1/1 [==============================] - 0s 14ms/step - loss: 0.3589 - mean_squared_logarithmic_error: 0.0492\n",
            "Epoch 927/953\n",
            "1/1 [==============================] - 0s 21ms/step - loss: 0.3653 - mean_squared_logarithmic_error: 0.0610\n",
            "Epoch 928/953\n",
            "1/1 [==============================] - 0s 5ms/step - loss: 0.3507 - mean_squared_logarithmic_error: 0.0487\n",
            "Epoch 929/953\n",
            "1/1 [==============================] - 0s 14ms/step - loss: 0.3618 - mean_squared_logarithmic_error: 0.0607\n",
            "Epoch 930/953\n",
            "1/1 [==============================] - 0s 6ms/step - loss: 0.3467 - mean_squared_logarithmic_error: 0.0480\n",
            "Epoch 931/953\n",
            "1/1 [==============================] - 0s 6ms/step - loss: 0.3509 - mean_squared_logarithmic_error: 0.0588\n",
            "Epoch 932/953\n",
            "1/1 [==============================] - 0s 13ms/step - loss: 0.3397 - mean_squared_logarithmic_error: 0.0475\n",
            "Epoch 933/953\n",
            "1/1 [==============================] - 0s 10ms/step - loss: 0.3461 - mean_squared_logarithmic_error: 0.0581\n",
            "Epoch 934/953\n",
            "1/1 [==============================] - 0s 15ms/step - loss: 0.3367 - mean_squared_logarithmic_error: 0.0473\n",
            "Epoch 935/953\n",
            "1/1 [==============================] - 0s 12ms/step - loss: 0.3344 - mean_squared_logarithmic_error: 0.0561\n",
            "Epoch 936/953\n",
            "1/1 [==============================] - 0s 5ms/step - loss: 0.3344 - mean_squared_logarithmic_error: 0.0471\n",
            "Epoch 937/953\n",
            "1/1 [==============================] - 0s 9ms/step - loss: 0.3568 - mean_squared_logarithmic_error: 0.0596\n",
            "Epoch 938/953\n",
            "1/1 [==============================] - 0s 5ms/step - loss: 0.3492 - mean_squared_logarithmic_error: 0.0482\n",
            "Epoch 939/953\n",
            "1/1 [==============================] - 0s 4ms/step - loss: 0.3682 - mean_squared_logarithmic_error: 0.0619\n",
            "Epoch 940/953\n",
            "1/1 [==============================] - 0s 8ms/step - loss: 0.3550 - mean_squared_logarithmic_error: 0.0492\n",
            "Epoch 941/953\n",
            "1/1 [==============================] - 0s 11ms/step - loss: 0.3891 - mean_squared_logarithmic_error: 0.0661\n",
            "Epoch 942/953\n",
            "1/1 [==============================] - 0s 18ms/step - loss: 0.3686 - mean_squared_logarithmic_error: 0.0502\n",
            "Epoch 943/953\n",
            "1/1 [==============================] - 0s 6ms/step - loss: 0.3779 - mean_squared_logarithmic_error: 0.0640\n",
            "Epoch 944/953\n",
            "1/1 [==============================] - 0s 4ms/step - loss: 0.3559 - mean_squared_logarithmic_error: 0.0490\n",
            "Epoch 945/953\n",
            "1/1 [==============================] - 0s 4ms/step - loss: 0.3800 - mean_squared_logarithmic_error: 0.0649\n",
            "Epoch 946/953\n",
            "1/1 [==============================] - 0s 16ms/step - loss: 0.3560 - mean_squared_logarithmic_error: 0.0489\n",
            "Epoch 947/953\n",
            "1/1 [==============================] - 0s 14ms/step - loss: 0.3626 - mean_squared_logarithmic_error: 0.0612\n",
            "Epoch 948/953\n",
            "1/1 [==============================] - 0s 5ms/step - loss: 0.3477 - mean_squared_logarithmic_error: 0.0483\n",
            "Epoch 949/953\n",
            "1/1 [==============================] - 0s 17ms/step - loss: 0.3671 - mean_squared_logarithmic_error: 0.0624\n",
            "Epoch 950/953\n",
            "1/1 [==============================] - 0s 4ms/step - loss: 0.3476 - mean_squared_logarithmic_error: 0.0483\n",
            "Epoch 951/953\n",
            "1/1 [==============================] - 0s 4ms/step - loss: 0.3503 - mean_squared_logarithmic_error: 0.0593\n",
            "Epoch 952/953\n",
            "1/1 [==============================] - 0s 4ms/step - loss: 0.3414 - mean_squared_logarithmic_error: 0.0476\n",
            "Epoch 953/953\n",
            "1/1 [==============================] - 0s 11ms/step - loss: 0.3627 - mean_squared_logarithmic_error: 0.0616\n"
          ]
        }
      ]
    },
    {
      "cell_type": "code",
      "metadata": {
        "colab": {
          "base_uri": "https://localhost:8080/",
          "height": 296
        },
        "id": "LgtIBXwH_Cql",
        "outputId": "e40fe9c7-be78-4f98-986d-9ebcc9ef803f"
      },
      "source": [
        "plt.plot(history.history[\"loss\"],color=\"r\")\n",
        "plt.xlabel(\"Epoch\")\n",
        "plt.ylabel(\"loss\")"
      ],
      "execution_count": 156,
      "outputs": [
        {
          "output_type": "execute_result",
          "data": {
            "text/plain": [
              "Text(0, 0.5, 'loss')"
            ]
          },
          "metadata": {},
          "execution_count": 156
        },
        {
          "output_type": "display_data",
          "data": {
            "image/png": "[encoded data removed]",
            "text/plain": [
              "<Figure size 432x288 with 1 Axes>"
            ]
          },
          "metadata": {
            "needs_background": "light"
          }
        }
      ]
    },
    {
      "cell_type": "code",
      "metadata": {
        "colab": {
          "base_uri": "https://localhost:8080/",
          "height": 296
        },
        "id": "J78BXGvU4N3u",
        "outputId": "cbe73a12-a2df-488b-b5a8-66a035884d5a"
      },
      "source": [
        "plt.plot(history.history[\"mean_squared_logarithmic_error\"],color=\"g\")\n",
        "plt.xlabel(\"Epoch\")\n",
        "plt.ylabel(\"mean_squared_logarithmic_error\")"
      ],
      "execution_count": 157,
      "outputs": [
        {
          "output_type": "execute_result",
          "data": {
            "text/plain": [
              "Text(0, 0.5, 'mean_squared_logarithmic_error')"
            ]
          },
          "metadata": {},
          "execution_count": 157
        },
        {
          "output_type": "display_data",
          "data": {
            "image/png": "[encoded data removed]",
            "text/plain": [
              "<Figure size 432x288 with 1 Axes>"
            ]
          },
          "metadata": {
            "needs_background": "light"
          }
        }
      ]
    },
    {
      "cell_type": "code",
      "metadata": {
        "colab": {
          "base_uri": "https://localhost:8080/"
        },
        "id": "lOdJ5Ih78kze",
        "outputId": "f4b33471-968f-4de3-ba45-84bd1455767f"
      },
      "source": [
        "p3=m3.predict(x)\n",
        "r2_score(y,p3)   # r2 score "
      ],
      "execution_count": 158,
      "outputs": [
        {
          "output_type": "execute_result",
          "data": {
            "text/plain": [
              "0.6491179520539878"
            ]
          },
          "metadata": {},
          "execution_count": 158
        }
      ]
    },
    {
      "cell_type": "code",
      "metadata": {
        "colab": {
          "base_uri": "https://localhost:8080/"
        },
        "id": "Wa0TlviG8nFH",
        "outputId": "d3249ec7-97b7-4cb6-904d-4d22377ccc1c"
      },
      "source": [
        "mean_squared_error(y,p3)  #mean square error"
      ],
      "execution_count": 159,
      "outputs": [
        {
          "output_type": "execute_result",
          "data": {
            "text/plain": [
              "0.3508820479460122"
            ]
          },
          "metadata": {},
          "execution_count": 159
        }
      ]
    },
    {
      "cell_type": "markdown",
      "metadata": {
        "id": "rNu7QYZ_JBYt"
      },
      "source": [
        "** Ridge regression **"
      ]
    },
    {
      "cell_type": "code",
      "metadata": {
        "id": "uob38t3NCEkJ"
      },
      "source": [
        "from sklearn.linear_model import Ridge"
      ],
      "execution_count": 160,
      "outputs": []
    },
    {
      "cell_type": "code",
      "metadata": {
        "colab": {
          "base_uri": "https://localhost:8080/"
        },
        "id": "qngQ8ioFHtTW",
        "outputId": "edceb5e3-84a0-48ef-9659-8c457adb05d7"
      },
      "source": [
        "m4=Ridge(alpha=0.2,random_state=3)\n",
        "m4.fit(x,y)"
      ],
      "execution_count": 161,
      "outputs": [
        {
          "output_type": "execute_result",
          "data": {
            "text/plain": [
              "Ridge(alpha=0.2, random_state=3)"
            ]
          },
          "metadata": {},
          "execution_count": 161
        }
      ]
    },
    {
      "cell_type": "code",
      "metadata": {
        "colab": {
          "base_uri": "https://localhost:8080/"
        },
        "id": "lXDV4CcRH4ji",
        "outputId": "458c179c-1aec-46a4-87b3-8d2ab0528d9a"
      },
      "source": [
        "p4=m4.predict(x)\n",
        "r2_score(y,p4)      #r2 score "
      ],
      "execution_count": 162,
      "outputs": [
        {
          "output_type": "execute_result",
          "data": {
            "text/plain": [
              "0.39985838355181036"
            ]
          },
          "metadata": {},
          "execution_count": 162
        }
      ]
    },
    {
      "cell_type": "code",
      "metadata": {
        "colab": {
          "base_uri": "https://localhost:8080/"
        },
        "id": "7dzXqk3RI8TU",
        "outputId": "4f48520d-e4cd-487d-ff4f-0f44316b458d"
      },
      "source": [
        "mean_squared_error(y,p4)     # mean square error "
      ],
      "execution_count": 163,
      "outputs": [
        {
          "output_type": "execute_result",
          "data": {
            "text/plain": [
              "0.6001416164481895"
            ]
          },
          "metadata": {},
          "execution_count": 163
        }
      ]
    },
    {
      "cell_type": "markdown",
      "metadata": {
        "id": "gDcHvSTrJWOQ"
      },
      "source": [
        "**lasso **"
      ]
    },
    {
      "cell_type": "code",
      "metadata": {
        "id": "Tv0eDQSeJB8Z"
      },
      "source": [
        "from sklearn.linear_model import Lasso"
      ],
      "execution_count": 164,
      "outputs": []
    },
    {
      "cell_type": "code",
      "metadata": {
        "colab": {
          "base_uri": "https://localhost:8080/"
        },
        "id": "fTlhcSuOJM7O",
        "outputId": "50e5ee5b-da6e-4439-dac9-7e2306b66192"
      },
      "source": [
        "m5=Lasso(random_state=32)\n",
        "m5.fit(x,y)"
      ],
      "execution_count": 165,
      "outputs": [
        {
          "output_type": "execute_result",
          "data": {
            "text/plain": [
              "Lasso(random_state=32)"
            ]
          },
          "metadata": {},
          "execution_count": 165
        }
      ]
    },
    {
      "cell_type": "code",
      "metadata": {
        "colab": {
          "base_uri": "https://localhost:8080/"
        },
        "id": "RxRqZbvUJXs9",
        "outputId": "f69a9658-0cf4-4066-db8e-1866ed4ba16d"
      },
      "source": [
        "p5=m5.predict(x)\n",
        "r2_score(y,p5)"
      ],
      "execution_count": 166,
      "outputs": [
        {
          "output_type": "execute_result",
          "data": {
            "text/plain": [
              "0.0"
            ]
          },
          "metadata": {},
          "execution_count": 166
        }
      ]
    },
    {
      "cell_type": "code",
      "metadata": {
        "colab": {
          "base_uri": "https://localhost:8080/"
        },
        "id": "DfFcqBRxJp6S",
        "outputId": "d940e70c-5d26-4fa9-85f6-3b04aaaf0930"
      },
      "source": [
        "mean_squared_error(y,p5)"
      ],
      "execution_count": 167,
      "outputs": [
        {
          "output_type": "execute_result",
          "data": {
            "text/plain": [
              "0.9999999999999999"
            ]
          },
          "metadata": {},
          "execution_count": 167
        }
      ]
    },
    {
      "cell_type": "code",
      "metadata": {
        "id": "foLMzKL9JwJG"
      },
      "source": [
        "#=============================== Linear Model ========================================#\n",
        "\n",
        "# r2_score  : 0.3999017356959488\n",
        "# mean square error : 0.6000982643040511\n",
        "\n",
        "#================================ Kneghabourregressor Model ===========================#\n",
        "\n",
        "# r2_score  : 0.3221318152753787\n",
        "# mean square error : 0.6778681847246212\n",
        "\n",
        "#================================= ANN Model ===========================================#\n",
        "\n",
        "# r2_score  : 0.9914550391443779\n",
        "# mean square error : 0.008544960855622006\n",
        "\n",
        "#================================== Ridge Model =========================================#\n",
        "\n",
        "# r2_score  : 0.39985838355181025\n",
        "# mean square error : 0.6001416164481896\n",
        "\n",
        "#=================================== Lasso Model =========================================#\n",
        "\n",
        "# r2_score  : 0.0\n",
        "# mean square error : 0.9999999999999999\n",
        "\n",
        "#-----------------------------------------------------------------------------------------#\n",
        "\n",
        "# ****** the best model is ANN ****************#"
      ],
      "execution_count": 168,
      "outputs": []
    },
    {
      "cell_type": "code",
      "metadata": {
        "id": "DTOw7rrdKZc3",
        "colab": {
          "base_uri": "https://localhost:8080/",
          "height": 206
        },
        "outputId": "ae978910-ffa3-4490-9c5c-c2ba7048efda"
      },
      "source": [
        "data.head()"
      ],
      "execution_count": 169,
      "outputs": [
        {
          "output_type": "execute_result",
          "data": {
            "text/html": [
              "<div>\n",
              "<style scoped>\n",
              "    .dataframe tbody tr th:only-of-type {\n",
              "        vertical-align: middle;\n",
              "    }\n",
              "\n",
              "    .dataframe tbody tr th {\n",
              "        vertical-align: top;\n",
              "    }\n",
              "\n",
              "    .dataframe thead th {\n",
              "        text-align: right;\n",
              "    }\n",
              "</style>\n",
              "<table border=\"1\" class=\"dataframe\">\n",
              "  <thead>\n",
              "    <tr style=\"text-align: right;\">\n",
              "      <th></th>\n",
              "      <th>TTA</th>\n",
              "      <th>RPM</th>\n",
              "      <th>TRS</th>\n",
              "      <th>TF</th>\n",
              "      <th>TS</th>\n",
              "    </tr>\n",
              "  </thead>\n",
              "  <tbody>\n",
              "    <tr>\n",
              "      <th>0</th>\n",
              "      <td>1</td>\n",
              "      <td>-1.069045</td>\n",
              "      <td>-1.224745</td>\n",
              "      <td>1</td>\n",
              "      <td>0.406395</td>\n",
              "    </tr>\n",
              "    <tr>\n",
              "      <th>1</th>\n",
              "      <td>1</td>\n",
              "      <td>-1.069045</td>\n",
              "      <td>0.000000</td>\n",
              "      <td>2</td>\n",
              "      <td>-1.453154</td>\n",
              "    </tr>\n",
              "    <tr>\n",
              "      <th>2</th>\n",
              "      <td>1</td>\n",
              "      <td>-1.069045</td>\n",
              "      <td>1.224745</td>\n",
              "      <td>3</td>\n",
              "      <td>0.406395</td>\n",
              "    </tr>\n",
              "    <tr>\n",
              "      <th>3</th>\n",
              "      <td>1</td>\n",
              "      <td>-0.267261</td>\n",
              "      <td>-1.224745</td>\n",
              "      <td>2</td>\n",
              "      <td>0.050311</td>\n",
              "    </tr>\n",
              "    <tr>\n",
              "      <th>4</th>\n",
              "      <td>1</td>\n",
              "      <td>-0.267261</td>\n",
              "      <td>0.000000</td>\n",
              "      <td>3</td>\n",
              "      <td>-0.134325</td>\n",
              "    </tr>\n",
              "  </tbody>\n",
              "</table>\n",
              "</div>"
            ],
            "text/plain": [
              "   TTA       RPM       TRS  TF        TS\n",
              "0    1 -1.069045 -1.224745   1  0.406395\n",
              "1    1 -1.069045  0.000000   2 -1.453154\n",
              "2    1 -1.069045  1.224745   3  0.406395\n",
              "3    1 -0.267261 -1.224745   2  0.050311\n",
              "4    1 -0.267261  0.000000   3 -0.134325"
            ]
          },
          "metadata": {},
          "execution_count": 169
        }
      ]
    },
    {
      "cell_type": "markdown",
      "metadata": {
        "id": "9tHFBd0OQo57"
      },
      "source": [
        ""
      ]
    },
    {
      "cell_type": "markdown",
      "metadata": {
        "id": "c3uKQ04KQpBo"
      },
      "source": [
        "**Predict here **"
      ]
    },
    {
      "cell_type": "code",
      "metadata": {
        "colab": {
          "base_uri": "https://localhost:8080/"
        },
        "id": "vQ-WZVHgMXoj",
        "outputId": "c5bbf466-d29b-4f74-bd00-3abe03ced79f"
      },
      "source": [
        "TTA=1                                 # write your data TTA,RPM,TRS,TF and predict here\n",
        "RPM=1200\n",
        "TRS=100\n",
        "Tf=3\n",
        "\n",
        "#-----------------------------------------------------------------------------------------------------------#\n",
        "\n",
        "RPM=float(sc1.transform(np.array([RPM]).reshape(1,-1)))\n",
        "TRS=float(sc2.transform(np.array([TRS]).reshape(1,-1)))\n",
        "l=[TTA,RPM,TRS,TF]\n",
        "ar=np.array(l)\n",
        "print(sc3.inverse_transform(m3.predict(ar.reshape(1,-1))))"
      ],
      "execution_count": 182,
      "outputs": [
        {
          "output_type": "stream",
          "name": "stdout",
          "text": [
            "[[179.82712]]\n"
          ]
        }
      ]
    },
    {
      "cell_type": "code",
      "metadata": {
        "id": "JDzvCRVYM_IL"
      },
      "source": [
        ""
      ],
      "execution_count": 182,
      "outputs": []
    },
    {
      "cell_type": "code",
      "metadata": {
        "id": "IvjdwFHCPJqM"
      },
      "source": [
        ""
      ],
      "execution_count": null,
      "outputs": []
    }
  ]
}